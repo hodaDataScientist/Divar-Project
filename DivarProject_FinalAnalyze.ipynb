{
 "cells": [
  {
   "cell_type": "code",
   "execution_count": 1,
   "metadata": {},
   "outputs": [],
   "source": [
    "import numpy as np\n",
    "import pandas as pd\n",
    "import matplotlib.pyplot as plt\n",
    "import seaborn as sns\n",
    "import datetime as dt\n",
    "import warnings\n",
    "warnings.filterwarnings(\"ignore\")\n"
   ]
  },
  {
   "cell_type": "code",
   "execution_count": 2,
   "metadata": {},
   "outputs": [],
   "source": [
    "df2023 = pd.read_csv('2023.csv')\n",
    "df2021 = pd.read_json('2021.json')"
   ]
  },
  {
   "cell_type": "markdown",
   "metadata": {},
   "source": [
    "**Lets start wth 2023 dataset**"
   ]
  },
  {
   "cell_type": "code",
   "execution_count": 3,
   "metadata": {},
   "outputs": [
    {
     "data": {
      "text/html": [
       "<div>\n",
       "<style scoped>\n",
       "    .dataframe tbody tr th:only-of-type {\n",
       "        vertical-align: middle;\n",
       "    }\n",
       "\n",
       "    .dataframe tbody tr th {\n",
       "        vertical-align: top;\n",
       "    }\n",
       "\n",
       "    .dataframe thead th {\n",
       "        text-align: right;\n",
       "    }\n",
       "</style>\n",
       "<table border=\"1\" class=\"dataframe\">\n",
       "  <thead>\n",
       "    <tr style=\"text-align: right;\">\n",
       "      <th></th>\n",
       "      <th>Area</th>\n",
       "      <th>Construction</th>\n",
       "      <th>Room</th>\n",
       "      <th>Warehouse</th>\n",
       "      <th>Parking</th>\n",
       "      <th>Elevator</th>\n",
       "      <th>Address</th>\n",
       "      <th>Price</th>\n",
       "    </tr>\n",
       "  </thead>\n",
       "  <tbody>\n",
       "    <tr>\n",
       "      <th>0</th>\n",
       "      <td>153</td>\n",
       "      <td>1393</td>\n",
       "      <td>3</td>\n",
       "      <td>True</td>\n",
       "      <td>True</td>\n",
       "      <td>True</td>\n",
       "      <td>۱ ساعت پیش در تهران، درکه</td>\n",
       "      <td>۱۸٬۳۶۰٬۰۰۰٬۰۰۰ تومان</td>\n",
       "    </tr>\n",
       "    <tr>\n",
       "      <th>1</th>\n",
       "      <td>418</td>\n",
       "      <td>1382</td>\n",
       "      <td>4</td>\n",
       "      <td>True</td>\n",
       "      <td>True</td>\n",
       "      <td>True</td>\n",
       "      <td>۱ ساعت پیش در تهران، زعفرانیه</td>\n",
       "      <td>۱۳۰٬۰۰۰٬۰۰۰٬۰۰۰ تومان</td>\n",
       "    </tr>\n",
       "    <tr>\n",
       "      <th>2</th>\n",
       "      <td>57</td>\n",
       "      <td>1385</td>\n",
       "      <td>2</td>\n",
       "      <td>False</td>\n",
       "      <td>False</td>\n",
       "      <td>True</td>\n",
       "      <td>۱ ساعت پیش در تهران، جابری</td>\n",
       "      <td>۲٬۶۰۰٬۰۰۰٬۰۰۰ تومان</td>\n",
       "    </tr>\n",
       "    <tr>\n",
       "      <th>3</th>\n",
       "      <td>193</td>\n",
       "      <td>1371</td>\n",
       "      <td>3</td>\n",
       "      <td>False</td>\n",
       "      <td>False</td>\n",
       "      <td>True</td>\n",
       "      <td>۱ ساعت پیش در تهران، فرمانیه</td>\n",
       "      <td>۲۳٬۰۰۰٬۰۰۰٬۰۰۰ تومان</td>\n",
       "    </tr>\n",
       "    <tr>\n",
       "      <th>4</th>\n",
       "      <td>62</td>\n",
       "      <td>1401</td>\n",
       "      <td>1</td>\n",
       "      <td>True</td>\n",
       "      <td>True</td>\n",
       "      <td>True</td>\n",
       "      <td>۱ ساعت پیش در تهران، دهکده المپیک، بزرگراه همت...</td>\n",
       "      <td>۱٬۴۱۰٬۰۰۰٬۰۰۰ تومان</td>\n",
       "    </tr>\n",
       "  </tbody>\n",
       "</table>\n",
       "</div>"
      ],
      "text/plain": [
       "  Area Construction Room Warehouse Parking Elevator  \\\n",
       "0  153         1393    3      True    True     True   \n",
       "1  418         1382    4      True    True     True   \n",
       "2   57         1385    2     False   False     True   \n",
       "3  193         1371    3     False   False     True   \n",
       "4   62         1401    1      True    True     True   \n",
       "\n",
       "                                             Address                  Price  \n",
       "0                          ۱ ساعت پیش در تهران، درکه   ۱۸٬۳۶۰٬۰۰۰٬۰۰۰ تومان  \n",
       "1                      ۱ ساعت پیش در تهران، زعفرانیه  ۱۳۰٬۰۰۰٬۰۰۰٬۰۰۰ تومان  \n",
       "2                         ۱ ساعت پیش در تهران، جابری    ۲٬۶۰۰٬۰۰۰٬۰۰۰ تومان  \n",
       "3                       ۱ ساعت پیش در تهران، فرمانیه   ۲۳٬۰۰۰٬۰۰۰٬۰۰۰ تومان  \n",
       "4  ۱ ساعت پیش در تهران، دهکده المپیک، بزرگراه همت...    ۱٬۴۱۰٬۰۰۰٬۰۰۰ تومان  "
      ]
     },
     "execution_count": 3,
     "metadata": {},
     "output_type": "execute_result"
    }
   ],
   "source": [
    "df2023.head()"
   ]
  },
  {
   "cell_type": "code",
   "execution_count": 4,
   "metadata": {},
   "outputs": [
    {
     "name": "stdout",
     "output_type": "stream",
     "text": [
      "<class 'pandas.core.frame.DataFrame'>\n",
      "RangeIndex: 94036 entries, 0 to 94035\n",
      "Data columns (total 8 columns):\n",
      " #   Column        Non-Null Count  Dtype \n",
      "---  ------        --------------  ----- \n",
      " 0   Area          94036 non-null  object\n",
      " 1   Construction  94036 non-null  object\n",
      " 2   Room          94036 non-null  object\n",
      " 3   Warehouse     94036 non-null  object\n",
      " 4   Parking       94036 non-null  object\n",
      " 5   Elevator      94036 non-null  object\n",
      " 6   Address       94036 non-null  object\n",
      " 7   Price         94036 non-null  object\n",
      "dtypes: object(8)\n",
      "memory usage: 5.7+ MB\n"
     ]
    }
   ],
   "source": [
    "df2023.info()"
   ]
  },
  {
   "cell_type": "code",
   "execution_count": 5,
   "metadata": {},
   "outputs": [
    {
     "data": {
      "text/html": [
       "<div>\n",
       "<style scoped>\n",
       "    .dataframe tbody tr th:only-of-type {\n",
       "        vertical-align: middle;\n",
       "    }\n",
       "\n",
       "    .dataframe tbody tr th {\n",
       "        vertical-align: top;\n",
       "    }\n",
       "\n",
       "    .dataframe thead th {\n",
       "        text-align: right;\n",
       "    }\n",
       "</style>\n",
       "<table border=\"1\" class=\"dataframe\">\n",
       "  <thead>\n",
       "    <tr style=\"text-align: right;\">\n",
       "      <th></th>\n",
       "      <th>Area</th>\n",
       "      <th>Construction</th>\n",
       "      <th>Room</th>\n",
       "      <th>Warehouse</th>\n",
       "      <th>Parking</th>\n",
       "      <th>Elevator</th>\n",
       "      <th>Address</th>\n",
       "      <th>Price</th>\n",
       "    </tr>\n",
       "  </thead>\n",
       "  <tbody>\n",
       "    <tr>\n",
       "      <th>count</th>\n",
       "      <td>94036</td>\n",
       "      <td>94036</td>\n",
       "      <td>94036</td>\n",
       "      <td>94036</td>\n",
       "      <td>94036</td>\n",
       "      <td>94036</td>\n",
       "      <td>94036</td>\n",
       "      <td>94036</td>\n",
       "    </tr>\n",
       "    <tr>\n",
       "      <th>unique</th>\n",
       "      <td>959</td>\n",
       "      <td>63</td>\n",
       "      <td>9</td>\n",
       "      <td>5</td>\n",
       "      <td>5</td>\n",
       "      <td>5</td>\n",
       "      <td>12771</td>\n",
       "      <td>5656</td>\n",
       "    </tr>\n",
       "    <tr>\n",
       "      <th>top</th>\n",
       "      <td>100</td>\n",
       "      <td>1401</td>\n",
       "      <td>2</td>\n",
       "      <td>True</td>\n",
       "      <td>True</td>\n",
       "      <td>True</td>\n",
       "      <td>۱ هفته پیش در تهران، پونک</td>\n",
       "      <td>۶٬۵۰۰٬۰۰۰٬۰۰۰ تومان</td>\n",
       "    </tr>\n",
       "    <tr>\n",
       "      <th>freq</th>\n",
       "      <td>1868</td>\n",
       "      <td>17897</td>\n",
       "      <td>31724</td>\n",
       "      <td>53405</td>\n",
       "      <td>57479</td>\n",
       "      <td>62286</td>\n",
       "      <td>1381</td>\n",
       "      <td>867</td>\n",
       "    </tr>\n",
       "  </tbody>\n",
       "</table>\n",
       "</div>"
      ],
      "text/plain": [
       "         Area Construction   Room Warehouse Parking Elevator  \\\n",
       "count   94036        94036  94036     94036   94036    94036   \n",
       "unique    959           63      9         5       5        5   \n",
       "top       100         1401      2      True    True     True   \n",
       "freq     1868        17897  31724     53405   57479    62286   \n",
       "\n",
       "                          Address                Price  \n",
       "count                       94036                94036  \n",
       "unique                      12771                 5656  \n",
       "top     ۱ هفته پیش در تهران، پونک  ۶٬۵۰۰٬۰۰۰٬۰۰۰ تومان  \n",
       "freq                         1381                  867  "
      ]
     },
     "execution_count": 5,
     "metadata": {},
     "output_type": "execute_result"
    }
   ],
   "source": [
    "df2023.describe()"
   ]
  },
  {
   "cell_type": "markdown",
   "metadata": {},
   "source": [
    "**Checking the columns datatype and distribution in detail:**"
   ]
  },
  {
   "cell_type": "code",
   "execution_count": 6,
   "metadata": {},
   "outputs": [
    {
     "data": {
      "text/plain": [
       "array(['153', '418', '57', '193', '62', '115', '138', '295', '155', '146',\n",
       "       '97', '48', '200', '135', '114', '82', '260', '118', '107', '120',\n",
       "       '58', '90', '65', '63', '102', '72', '230', '85', '70', '78', '51',\n",
       "       '44', '92', '136', '150', '210', '145', '56', '110', '156', '101',\n",
       "       '108', 'Area', '105', '164', '130', '128', '53', '320', '420',\n",
       "       '77', '75', '61', '180', '68', '160', '133', '140', '121', '186',\n",
       "       '60', '80', '125', '103', '240', '141', '94', '69', '148', '500',\n",
       "       '228', '1500', '106', '250', '194', '350', '67', '98', '131',\n",
       "       '147', '74', '170', '96', '192', '325', '190', '95', '45', '86',\n",
       "       '315', '215', '54', '162', '73', '112', '550', '76', '123', '168',\n",
       "       '50', '47', '157', '158', '225', '270', '235', '285', '104', '71',\n",
       "       '185', '100', '175', '116', '171', '113', '288', '205', '126',\n",
       "       '173', '137', '290', '119', '166', '195', '220', '165', '40', '55',\n",
       "       '46', '42', '84', '255', '81', '122', '129', '109', '340', '152',\n",
       "       '87', '79', '49', '66', '111', '217', '64', '300', '139', '143',\n",
       "       '400', '34', '450', '91', '134', '93', '83', '124', '221', '30',\n",
       "       '149', '333', '275', '238', '88', '198', '89', '188', '132', '380',\n",
       "       '218', '38', '163', '330', '41', '600', '117', '167', '720', '52',\n",
       "       '310', '245', '950', '203', '20', '99', '296', '43', '236', '239',\n",
       "       '199', '280', '253', '610', '410', '154', '59', '246', '222',\n",
       "       '184', '460', '202', '935', '343', '479', '183', '476', '305',\n",
       "       '127', '452', '159', '323', '312', '37', '261', '144', '189',\n",
       "       '161', '36', '142', '207', '800', '187', '172', '224', '3000',\n",
       "       '151', '39', '201', '345', '208', '243', '212', '392', '311',\n",
       "       '177', '640', '223', '174', '445', '264', '248', '176', '480',\n",
       "       '211', '226', '267', '265', '196', '590', '232', '258', '3400',\n",
       "       '31', '178', '360', '388', '182', '570', '197', '626', '244',\n",
       "       '474', '552', '633', '169', '470', '2300', '251', '353', '247',\n",
       "       '370', '241', '233', '322', '1350', '1000', '1050', '2250', '375',\n",
       "       '33', '428', '430', '308', '335', '242', '655', '35', '214', '5',\n",
       "       '263', '227', '179', '181', '213', '1200', '378', '237', '299',\n",
       "       '321', '585', '229', '356', '520', '191', '405', '850', '277',\n",
       "       '278', '475', '262', '423', '1180', '216', '490', '252', '575',\n",
       "       '485', '297', '206', '415', '1750', '580', '289', '209', '530',\n",
       "       '13000', '1055', '219', '15000', '317', '16000', '314', '346',\n",
       "       '307', '256', '390', '438', '5000', '318', '1300', '20000', '324',\n",
       "       '284', '3650', '249', '204', '257', '675', '425', '313', '385',\n",
       "       '750', '975', '287', '700', '411', '365', '273', '472', '1400',\n",
       "       '900', '268', '1120', '421', '354', '286', '915', '828', '835',\n",
       "       '945', '745', '444', '386', '486', '810', '279', '399', '7000',\n",
       "       '4000', '274', '283', '303', '361', '269', '654', '496', '1150',\n",
       "       '960', '2400', '540', '352', '271', '1800', '309', '266', '336',\n",
       "       '555', '366', '436', '1270', '965', '680', '2000', '780', '495',\n",
       "       '454', '339', '4', '383', '294', '32', '560', '584', '426', '276',\n",
       "       '412', '1900', '930', '880', '1100', '459', '448', '467', '417',\n",
       "       '4380', '332', '3375', '254', '355', '348', '564', '830', '1030',\n",
       "       '466', '10', '920', '1850', '536', '419', '272', '1600', '306',\n",
       "       '298', '440', '1700', '231', '17000', '334', '326', '337', '349',\n",
       "       '338', '282', '363', '316', '535', '234', '635', '645', '327',\n",
       "       '302', '259', '23', '840', '21', '599', '673', '471', '351', '630',\n",
       "       '458', '396', '422', '451', '291', '367', '28', '492', '698',\n",
       "       '435', '510', '735', '15', '473', '990', '465', '29', '362',\n",
       "       '4900', '292', '16', '1060', '533', '1250', '1035', '11000', '870',\n",
       "       '25', '505', '548', '725', '398', '433', '790', '499', '413', '1',\n",
       "       '8', '526', '344', '1450', '3040', '304', '462', '728', '1235',\n",
       "       '281', '650', '416', '10000', '1380', '12800', '925', '403', '342',\n",
       "       '395', '488', '19', '615', '1593', '387', '812', '369', '489',\n",
       "       '414', '1920', '512', '497', '372', '1575', '2600', '331', '12000',\n",
       "       '620', '625', '455', '1256', '3110', '5100', '2886', '1980', '875',\n",
       "       '710', '424', '1335', '543', '341', '685', '770', '1230', '2800',\n",
       "       67, 64, 140, 85, 55, 120, 126, 115, 121, 92, 51, 81, 113, 39, 144,\n",
       "       131, 132, 114, 72, 135, 45, 60, 73, 150, 128, 145, 90, 58, 166,\n",
       "       110, 154, 100, 78, 183, 180, 170, 42, 56, 205, 109, 65, 98, 300,\n",
       "       125, 159, 1200, 66, 147, 133, 190, 122, 71, 52, 260, 84, 195, 255,\n",
       "       75, 174, 82, 570, 86, 155, 220, 127, 44, 57, 108, 112, 91, 62, 50,\n",
       "       222, 200, 158, 118, 49, 63, 149, 138, 116, 79, 105, 53, 130, 119,\n",
       "       61, 74, 106, 70, 93, 143, 235, 285, 214, 80, 36, 129, 83, 186, 95,\n",
       "       238, 102, 160, 146, 94, 134, 77, 41, 175, 68, 234, 675, 185, 59,\n",
       "       187, 142, 111, 153, 101, 259, 350, 88, 137, 40, 89, 165, 33, 107,\n",
       "       97, 152, 360, 206, 176, 104, 211, 103, 375, 139, 69, 117, 54, 280,\n",
       "       240, 46, 141, 35, 43, 550, 1000, 233, 215, 247, 96, 124, 157, 212,\n",
       "       156, 218, 164, 87, 161, 178, 38, 230, 47, 188, 148, 181, 237, 20,\n",
       "       177, 270, 208, 76, 202, 48, 36500, 340, 167, 99, 245, 253, 198,\n",
       "       172, 232, 207, 123, 330, 248, 310, 320, 271, 480, 210, 236, 460,\n",
       "       34, 540, 400, 32, 224, 365, 380, 342, 162, 193, 136, 184, 37, 19,\n",
       "       30, 168, 286, 171, 250, 420, 470, 173, 288, 223, 197, 225, 318,\n",
       "       264, 277, 151, 525, 163, 680, 414, 275, 355, 322, 560, 204, 305,\n",
       "       445, 650, 287, 730, 410, 1185, 960, 450, 182, 213, 465, 256, 246,\n",
       "       520, 10000, 244, 239, 189, 194, 263, 304, 500, 268, 408, 192, 1700,\n",
       "       345, 169, 6000, 2700, 475, 290, 346, 243, 430, 217, 221, 295, 196,\n",
       "       385, 528, 231, 324, 4700, 265, 201, 228, 325, 390, 600, 219, 229,\n",
       "       249, 179, 313, 328, 274, 595, 323, 352, 292, 3, 315, 216, 191, 266,\n",
       "       276, 307, 565, 490, 267, 326, 370, 555, 242, 1150, 199, 25, 257,\n",
       "       425, 261, 312, 714, 417, 800, 335, 1050, 308, 31, 808, 227, 1800,\n",
       "       466, 1100, 311, 241, 291, 364, 209, 440, 428, 472, 510, 830, 810,\n",
       "       273, 28, 278, 366, 317, 296, 316, 2100, 384, 13000, 451, 269, 452,\n",
       "       332, 1500, 298, 2142, 281, 203, 258, 418, 254, 226, 3000, 252,\n",
       "       1620, 750, 282, 348, 726, 415, 333, 272, 2000, 441, 299, 369, 840,\n",
       "       580, 395, 405, 16000, 20000, 344, 15500, 464, 429, 1400, 284, 262,\n",
       "       7, 825, 251, 6, 331, 397, 2420], dtype=object)"
      ]
     },
     "execution_count": 6,
     "metadata": {},
     "output_type": "execute_result"
    }
   ],
   "source": [
    "df2023['Area'].unique() # we should delete records that have less than 20 meter area and have string data"
   ]
  },
  {
   "cell_type": "code",
   "execution_count": 7,
   "metadata": {},
   "outputs": [
    {
     "data": {
      "text/plain": [
       "count    93,876.0\n",
       "mean        120.6\n",
       "std          79.7\n",
       "min          21.0\n",
       "25%          74.0\n",
       "50%         106.0\n",
       "75%         141.0\n",
       "max       1,980.0\n",
       "Name: Area, dtype: object"
      ]
     },
     "execution_count": 7,
     "metadata": {},
     "output_type": "execute_result"
    }
   ],
   "source": [
    "df2023 = df2023[~(df2023['Area'] == 'Area')] \n",
    "df2023['Area']  = df2023['Area'].astype('int64')\n",
    "df2023 = df2023[(df2023['Area'] >20) & (df2023['Area'] < 2000)] \n",
    "df2023['Area'].describe().apply(lambda x: f\"{x:,.1f}\")"
   ]
  },
  {
   "cell_type": "code",
   "execution_count": 8,
   "metadata": {},
   "outputs": [
    {
     "data": {
      "text/plain": [
       "array(['1393', '1382', '1385', '1371', '1401', '1400', '1395', '1389',\n",
       "       '1387', '1399', '1384', '1394', '1375', '1374', '1390', '1397',\n",
       "       '1396', '1383', '1386', '1392', '1391', '1398', '1388', '1381',\n",
       "       '1380', '1377', '1372', '1379', '1378', '1373', '1376', 1388, 1380,\n",
       "       1398, 1401, 1399, 1397, 1382, 1387, 1396, 1395, 1383, 1381, 1394,\n",
       "       1385, 1391, 1390, 1377, 1392, 1400, 1389, 1393, 1384, 1386, 1378,\n",
       "       1372, 1371, 1379, 1375, 1374, 1376, 1373], dtype=object)"
      ]
     },
     "execution_count": 8,
     "metadata": {},
     "output_type": "execute_result"
    }
   ],
   "source": [
    "df2023['Construction'].unique() # we should delete records that are string the min and max of constyear make sense so we can keep all data"
   ]
  },
  {
   "cell_type": "code",
   "execution_count": 9,
   "metadata": {},
   "outputs": [],
   "source": [
    "df2023['Construction'] = df2023['Construction'].astype('int64')"
   ]
  },
  {
   "cell_type": "code",
   "execution_count": 10,
   "metadata": {},
   "outputs": [
    {
     "data": {
      "text/plain": [
       "array(['3', '4', '2', '1', 2, 3, 1, 4], dtype=object)"
      ]
     },
     "execution_count": 10,
     "metadata": {},
     "output_type": "execute_result"
    }
   ],
   "source": [
    "df2023['Room'].unique() # we have to delete string datasets and change all datatype to int32"
   ]
  },
  {
   "cell_type": "code",
   "execution_count": 11,
   "metadata": {},
   "outputs": [
    {
     "data": {
      "text/plain": [
       "array([3, 4, 2, 1], dtype=int64)"
      ]
     },
     "execution_count": 11,
     "metadata": {},
     "output_type": "execute_result"
    }
   ],
   "source": [
    "df2023['Room'] = df2023['Room'].astype('int64')  \n",
    "df2023['Room'].unique() "
   ]
  },
  {
   "cell_type": "code",
   "execution_count": 12,
   "metadata": {},
   "outputs": [
    {
     "data": {
      "text/plain": [
       "array(['True', 'False', True, False], dtype=object)"
      ]
     },
     "execution_count": 12,
     "metadata": {},
     "output_type": "execute_result"
    }
   ],
   "source": [
    "df2023['Warehouse'].unique()  # we have to change all datatype to boolean or string"
   ]
  },
  {
   "cell_type": "code",
   "execution_count": null,
   "metadata": {},
   "outputs": [
    {
     "data": {
      "text/plain": [
       "array(['True', 'False'], dtype=object)"
      ]
     },
     "execution_count": 13,
     "metadata": {},
     "output_type": "execute_result"
    }
   ],
   "source": [
    "df2023['Warehouse'] = df2023['Warehouse'].astype(str)  \n",
    "df2023['Warehouse'].unique() "
   ]
  },
  {
   "cell_type": "code",
   "execution_count": 14,
   "metadata": {},
   "outputs": [
    {
     "data": {
      "text/plain": [
       "array(['True', 'False', False, True], dtype=object)"
      ]
     },
     "execution_count": 14,
     "metadata": {},
     "output_type": "execute_result"
    }
   ],
   "source": [
    "df2023['Parking'].unique()  # we have to change all datatype to boolean or string"
   ]
  },
  {
   "cell_type": "code",
   "execution_count": null,
   "metadata": {},
   "outputs": [
    {
     "data": {
      "text/plain": [
       "array(['True', 'False'], dtype=object)"
      ]
     },
     "execution_count": 15,
     "metadata": {},
     "output_type": "execute_result"
    }
   ],
   "source": [
    "df2023['Parking'] = df2023['Parking'].astype(str)  \n",
    "df2023['Parking'].unique() "
   ]
  },
  {
   "cell_type": "code",
   "execution_count": 16,
   "metadata": {},
   "outputs": [
    {
     "data": {
      "text/plain": [
       "array(['True', 'False', True, False], dtype=object)"
      ]
     },
     "execution_count": 16,
     "metadata": {},
     "output_type": "execute_result"
    }
   ],
   "source": [
    "df2023['Elevator'].unique()  # we have to change all datatype to boolean or string"
   ]
  },
  {
   "cell_type": "code",
   "execution_count": 17,
   "metadata": {},
   "outputs": [
    {
     "data": {
      "text/plain": [
       "array(['True', 'False'], dtype=object)"
      ]
     },
     "execution_count": 17,
     "metadata": {},
     "output_type": "execute_result"
    }
   ],
   "source": [
    "df2023['Elevator'] = df2023['Elevator'].astype(str)  \n",
    "df2023['Elevator'].unique() "
   ]
  },
  {
   "cell_type": "code",
   "execution_count": 18,
   "metadata": {},
   "outputs": [
    {
     "data": {
      "text/plain": [
       "array(['۱ ساعت پیش در تهران، درکه', '۱ ساعت پیش در تهران، زعفرانیه',\n",
       "       '۱ ساعت پیش در تهران، جابری', ...,\n",
       "       '۲ هفته پیش در تهران، سنگلج، خیابان مختاری شرقی (خ. وحدت اسلامی)',\n",
       "       '۳ روز پیش در تهران، امیرآباد، خیابان کارگر شمالی (امیرآباد شمالی) (خیابان امیرآباد شمالی)',\n",
       "       '۲ هفته پیش در تهران، جردن، کوچه خرسند (کوچه کمبوجیه)'],\n",
       "      dtype=object)"
      ]
     },
     "execution_count": 18,
     "metadata": {},
     "output_type": "execute_result"
    }
   ],
   "source": [
    "df2023['Address'].unique() # we hve to split data by , and delete all numbers and spaces after and before district"
   ]
  },
  {
   "cell_type": "code",
   "execution_count": 19,
   "metadata": {},
   "outputs": [
    {
     "data": {
      "text/html": [
       "<div>\n",
       "<style scoped>\n",
       "    .dataframe tbody tr th:only-of-type {\n",
       "        vertical-align: middle;\n",
       "    }\n",
       "\n",
       "    .dataframe tbody tr th {\n",
       "        vertical-align: top;\n",
       "    }\n",
       "\n",
       "    .dataframe thead th {\n",
       "        text-align: right;\n",
       "    }\n",
       "</style>\n",
       "<table border=\"1\" class=\"dataframe\">\n",
       "  <thead>\n",
       "    <tr style=\"text-align: right;\">\n",
       "      <th></th>\n",
       "      <th>Area</th>\n",
       "      <th>Construction</th>\n",
       "      <th>Room</th>\n",
       "      <th>Warehouse</th>\n",
       "      <th>Parking</th>\n",
       "      <th>Elevator</th>\n",
       "      <th>Address</th>\n",
       "      <th>Price</th>\n",
       "      <th>District</th>\n",
       "    </tr>\n",
       "  </thead>\n",
       "  <tbody>\n",
       "    <tr>\n",
       "      <th>0</th>\n",
       "      <td>153</td>\n",
       "      <td>1393</td>\n",
       "      <td>3</td>\n",
       "      <td>True</td>\n",
       "      <td>True</td>\n",
       "      <td>True</td>\n",
       "      <td>۱ ساعت پیش در تهران، درکه</td>\n",
       "      <td>۱۸٬۳۶۰٬۰۰۰٬۰۰۰ تومان</td>\n",
       "      <td>درکه</td>\n",
       "    </tr>\n",
       "    <tr>\n",
       "      <th>1</th>\n",
       "      <td>418</td>\n",
       "      <td>1382</td>\n",
       "      <td>4</td>\n",
       "      <td>True</td>\n",
       "      <td>True</td>\n",
       "      <td>True</td>\n",
       "      <td>۱ ساعت پیش در تهران، زعفرانیه</td>\n",
       "      <td>۱۳۰٬۰۰۰٬۰۰۰٬۰۰۰ تومان</td>\n",
       "      <td>زعفرانیه</td>\n",
       "    </tr>\n",
       "    <tr>\n",
       "      <th>2</th>\n",
       "      <td>57</td>\n",
       "      <td>1385</td>\n",
       "      <td>2</td>\n",
       "      <td>False</td>\n",
       "      <td>False</td>\n",
       "      <td>True</td>\n",
       "      <td>۱ ساعت پیش در تهران، جابری</td>\n",
       "      <td>۲٬۶۰۰٬۰۰۰٬۰۰۰ تومان</td>\n",
       "      <td>جابری</td>\n",
       "    </tr>\n",
       "    <tr>\n",
       "      <th>3</th>\n",
       "      <td>193</td>\n",
       "      <td>1371</td>\n",
       "      <td>3</td>\n",
       "      <td>False</td>\n",
       "      <td>False</td>\n",
       "      <td>True</td>\n",
       "      <td>۱ ساعت پیش در تهران، فرمانیه</td>\n",
       "      <td>۲۳٬۰۰۰٬۰۰۰٬۰۰۰ تومان</td>\n",
       "      <td>فرمانیه</td>\n",
       "    </tr>\n",
       "    <tr>\n",
       "      <th>4</th>\n",
       "      <td>62</td>\n",
       "      <td>1401</td>\n",
       "      <td>1</td>\n",
       "      <td>True</td>\n",
       "      <td>True</td>\n",
       "      <td>True</td>\n",
       "      <td>۱ ساعت پیش در تهران، دهکده المپیک، بزرگراه همت...</td>\n",
       "      <td>۱٬۴۱۰٬۰۰۰٬۰۰۰ تومان</td>\n",
       "      <td>دهکده المپیک</td>\n",
       "    </tr>\n",
       "  </tbody>\n",
       "</table>\n",
       "</div>"
      ],
      "text/plain": [
       "   Area  Construction  Room Warehouse Parking Elevator  \\\n",
       "0   153          1393     3      True    True     True   \n",
       "1   418          1382     4      True    True     True   \n",
       "2    57          1385     2     False   False     True   \n",
       "3   193          1371     3     False   False     True   \n",
       "4    62          1401     1      True    True     True   \n",
       "\n",
       "                                             Address                  Price  \\\n",
       "0                          ۱ ساعت پیش در تهران، درکه   ۱۸٬۳۶۰٬۰۰۰٬۰۰۰ تومان   \n",
       "1                      ۱ ساعت پیش در تهران، زعفرانیه  ۱۳۰٬۰۰۰٬۰۰۰٬۰۰۰ تومان   \n",
       "2                         ۱ ساعت پیش در تهران، جابری    ۲٬۶۰۰٬۰۰۰٬۰۰۰ تومان   \n",
       "3                       ۱ ساعت پیش در تهران، فرمانیه   ۲۳٬۰۰۰٬۰۰۰٬۰۰۰ تومان   \n",
       "4  ۱ ساعت پیش در تهران، دهکده المپیک، بزرگراه همت...    ۱٬۴۱۰٬۰۰۰٬۰۰۰ تومان   \n",
       "\n",
       "       District  \n",
       "0          درکه  \n",
       "1      زعفرانیه  \n",
       "2         جابری  \n",
       "3       فرمانیه  \n",
       "4  دهکده المپیک  "
      ]
     },
     "execution_count": 19,
     "metadata": {},
     "output_type": "execute_result"
    }
   ],
   "source": [
    "df2023['District'] = df2023['Address'].map(lambda x:str(x).split('،').pop(1).rstrip().lstrip())\n",
    "df2023.head()"
   ]
  },
  {
   "cell_type": "code",
   "execution_count": 20,
   "metadata": {},
   "outputs": [
    {
     "data": {
      "text/plain": [
       "array(['۱۸٬۳۶۰٬۰۰۰٬۰۰۰ تومان', '۱۳۰٬۰۰۰٬۰۰۰٬۰۰۰ تومان',\n",
       "       '۲٬۶۰۰٬۰۰۰٬۰۰۰ تومان', ..., '۳٬۹۸۴٬۰۰۰٬۰۰۰ تومان',\n",
       "       '۸٬۴۴۲٬۰۰۰٬۰۰۰ تومان', '۵٬۰۹۶٬۰۰۰٬۰۰۰ تومان'], dtype=object)"
      ]
     },
     "execution_count": 20,
     "metadata": {},
     "output_type": "execute_result"
    }
   ],
   "source": [
    "df2023['Price'].unique()# we have to delete all , تومان  and all spaces before and after the data and convert the numbers to int64"
   ]
  },
  {
   "cell_type": "code",
   "execution_count": 21,
   "metadata": {},
   "outputs": [
    {
     "data": {
      "text/html": [
       "<div>\n",
       "<style scoped>\n",
       "    .dataframe tbody tr th:only-of-type {\n",
       "        vertical-align: middle;\n",
       "    }\n",
       "\n",
       "    .dataframe tbody tr th {\n",
       "        vertical-align: top;\n",
       "    }\n",
       "\n",
       "    .dataframe thead th {\n",
       "        text-align: right;\n",
       "    }\n",
       "</style>\n",
       "<table border=\"1\" class=\"dataframe\">\n",
       "  <thead>\n",
       "    <tr style=\"text-align: right;\">\n",
       "      <th></th>\n",
       "      <th>Area</th>\n",
       "      <th>Construction</th>\n",
       "      <th>Room</th>\n",
       "      <th>Warehouse</th>\n",
       "      <th>Parking</th>\n",
       "      <th>Elevator</th>\n",
       "      <th>Address</th>\n",
       "      <th>Price</th>\n",
       "      <th>District</th>\n",
       "    </tr>\n",
       "  </thead>\n",
       "  <tbody>\n",
       "  </tbody>\n",
       "</table>\n",
       "</div>"
      ],
      "text/plain": [
       "Empty DataFrame\n",
       "Columns: [Area, Construction, Room, Warehouse, Parking, Elevator, Address, Price, District]\n",
       "Index: []"
      ]
     },
     "execution_count": 21,
     "metadata": {},
     "output_type": "execute_result"
    }
   ],
   "source": [
    "df2023 = df2023[~(df2023['Price'].str.contains(r'توافقی', regex=True) == True)]\n",
    "df2023[df2023['Price'].str.contains(r'توافقی', regex=True) == True]"
   ]
  },
  {
   "cell_type": "code",
   "execution_count": 22,
   "metadata": {},
   "outputs": [],
   "source": [
    "import convert_numbers\n",
    "\n",
    "def converter(x):  \n",
    "    return convert_numbers.persian_to_english(x)  \n",
    "\n",
    "# Clean and convert prices  \n",
    "df2023['Price'] = df2023['Price'].str.replace('تومان|٬', '', regex=True).apply(converter)  \n",
    "\n",
    "# Strip whitespace and convert to integer, handle conversion issues  \n",
    "df2023['Price'] = df2023['Price'].apply(lambda x: x.strip()).astype('int64', errors='ignore')  \n",
    "\n",
    "# Filter rows where Price column has numeric values  \n",
    "df2023 = df2023[df2023['Price'].astype(str).str.contains(r'^\\d+', regex=True)] "
   ]
  },
  {
   "cell_type": "code",
   "execution_count": 23,
   "metadata": {},
   "outputs": [
    {
     "name": "stdout",
     "output_type": "stream",
     "text": [
      "<class 'pandas.core.frame.DataFrame'>\n",
      "Index: 93631 entries, 0 to 94035\n",
      "Data columns (total 9 columns):\n",
      " #   Column        Non-Null Count  Dtype \n",
      "---  ------        --------------  ----- \n",
      " 0   Area          93631 non-null  int64 \n",
      " 1   Construction  93631 non-null  int64 \n",
      " 2   Room          93631 non-null  int64 \n",
      " 3   Warehouse     93631 non-null  object\n",
      " 4   Parking       93631 non-null  object\n",
      " 5   Elevator      93631 non-null  object\n",
      " 6   Address       93631 non-null  object\n",
      " 7   Price         93631 non-null  int64 \n",
      " 8   District      93631 non-null  object\n",
      "dtypes: int64(4), object(5)\n",
      "memory usage: 7.1+ MB\n"
     ]
    }
   ],
   "source": [
    "df2023.info()"
   ]
  },
  {
   "cell_type": "code",
   "execution_count": 24,
   "metadata": {},
   "outputs": [
    {
     "data": {
      "text/html": [
       "<div>\n",
       "<style scoped>\n",
       "    .dataframe tbody tr th:only-of-type {\n",
       "        vertical-align: middle;\n",
       "    }\n",
       "\n",
       "    .dataframe tbody tr th {\n",
       "        vertical-align: top;\n",
       "    }\n",
       "\n",
       "    .dataframe thead th {\n",
       "        text-align: right;\n",
       "    }\n",
       "</style>\n",
       "<table border=\"1\" class=\"dataframe\">\n",
       "  <thead>\n",
       "    <tr style=\"text-align: right;\">\n",
       "      <th></th>\n",
       "      <th>District</th>\n",
       "      <th>Price/Meter</th>\n",
       "    </tr>\n",
       "  </thead>\n",
       "  <tbody>\n",
       "    <tr>\n",
       "      <th>135</th>\n",
       "      <td>زعفرانیه</td>\n",
       "      <td>195,652,174</td>\n",
       "    </tr>\n",
       "    <tr>\n",
       "      <th>301</th>\n",
       "      <td>ولنجک</td>\n",
       "      <td>185,300,000</td>\n",
       "    </tr>\n",
       "    <tr>\n",
       "      <th>29</th>\n",
       "      <td>الهیه</td>\n",
       "      <td>184,313,725</td>\n",
       "    </tr>\n",
       "    <tr>\n",
       "      <th>259</th>\n",
       "      <td>محمودیه</td>\n",
       "      <td>179,843,750</td>\n",
       "    </tr>\n",
       "    <tr>\n",
       "      <th>316</th>\n",
       "      <td>کامرانیه</td>\n",
       "      <td>167,567,568</td>\n",
       "    </tr>\n",
       "    <tr>\n",
       "      <th>288</th>\n",
       "      <td>نیاوران</td>\n",
       "      <td>156,862,745</td>\n",
       "    </tr>\n",
       "    <tr>\n",
       "      <th>242</th>\n",
       "      <td>فرمانیه</td>\n",
       "      <td>156,862,745</td>\n",
       "    </tr>\n",
       "    <tr>\n",
       "      <th>294</th>\n",
       "      <td>هزارسنگ</td>\n",
       "      <td>156,695,157</td>\n",
       "    </tr>\n",
       "    <tr>\n",
       "      <th>94</th>\n",
       "      <td>حصار بوعلی</td>\n",
       "      <td>154,700,855</td>\n",
       "    </tr>\n",
       "    <tr>\n",
       "      <th>27</th>\n",
       "      <td>اقدسیه</td>\n",
       "      <td>153,565,413</td>\n",
       "    </tr>\n",
       "    <tr>\n",
       "      <th>117</th>\n",
       "      <td>دروس</td>\n",
       "      <td>150,000,000</td>\n",
       "    </tr>\n",
       "    <tr>\n",
       "      <th>50</th>\n",
       "      <td>باغ فردوس</td>\n",
       "      <td>145,833,333</td>\n",
       "    </tr>\n",
       "    <tr>\n",
       "      <th>34</th>\n",
       "      <td>امامزاده قاسم</td>\n",
       "      <td>145,689,655</td>\n",
       "    </tr>\n",
       "    <tr>\n",
       "      <th>46</th>\n",
       "      <td>ایوانک</td>\n",
       "      <td>145,454,545</td>\n",
       "    </tr>\n",
       "    <tr>\n",
       "      <th>2</th>\n",
       "      <td>آجودانیه</td>\n",
       "      <td>143,210,750</td>\n",
       "    </tr>\n",
       "    <tr>\n",
       "      <th>149</th>\n",
       "      <td>سعادت‌آباد</td>\n",
       "      <td>141,666,667</td>\n",
       "    </tr>\n",
       "    <tr>\n",
       "      <th>205</th>\n",
       "      <td>شهرک پاسداران</td>\n",
       "      <td>137,728,596</td>\n",
       "    </tr>\n",
       "    <tr>\n",
       "      <th>119</th>\n",
       "      <td>دریا</td>\n",
       "      <td>135,593,220</td>\n",
       "    </tr>\n",
       "    <tr>\n",
       "      <th>122</th>\n",
       "      <td>دزاشیب</td>\n",
       "      <td>135,549,055</td>\n",
       "    </tr>\n",
       "    <tr>\n",
       "      <th>97</th>\n",
       "      <td>حکمت</td>\n",
       "      <td>135,504,202</td>\n",
       "    </tr>\n",
       "  </tbody>\n",
       "</table>\n",
       "</div>"
      ],
      "text/plain": [
       "          District  Price/Meter\n",
       "135       زعفرانیه  195,652,174\n",
       "301          ولنجک  185,300,000\n",
       "29           الهیه  184,313,725\n",
       "259        محمودیه  179,843,750\n",
       "316       کامرانیه  167,567,568\n",
       "288        نیاوران  156,862,745\n",
       "242        فرمانیه  156,862,745\n",
       "294        هزارسنگ  156,695,157\n",
       "94      حصار بوعلی  154,700,855\n",
       "27          اقدسیه  153,565,413\n",
       "117           دروس  150,000,000\n",
       "50       باغ فردوس  145,833,333\n",
       "34   امامزاده قاسم  145,689,655\n",
       "46          ایوانک  145,454,545\n",
       "2         آجودانیه  143,210,750\n",
       "149     سعادت‌آباد  141,666,667\n",
       "205  شهرک پاسداران  137,728,596\n",
       "119           دریا  135,593,220\n",
       "122         دزاشیب  135,549,055\n",
       "97            حکمت  135,504,202"
      ]
     },
     "execution_count": 24,
     "metadata": {},
     "output_type": "execute_result"
    }
   ],
   "source": [
    "df2023['Price/Meter'] = df2023['Price'] / df2023['Area']\n",
    "Price_District = df2023.groupby('District')['Price/Meter'].median().reset_index()\n",
    "Price_District = Price_District.sort_values(by='Price/Meter',ascending=False)\n",
    "Price_District['Price/Meter'] = Price_District['Price/Meter'].map(lambda x: f\"{x:,.0f}\")\n",
    "Price_District.head(20)"
   ]
  },
  {
   "cell_type": "markdown",
   "metadata": {},
   "source": [
    "**Lets Start The 2021 Year:**"
   ]
  },
  {
   "cell_type": "code",
   "execution_count": 25,
   "metadata": {},
   "outputs": [
    {
     "data": {
      "text/html": [
       "<div>\n",
       "<style scoped>\n",
       "    .dataframe tbody tr th:only-of-type {\n",
       "        vertical-align: middle;\n",
       "    }\n",
       "\n",
       "    .dataframe tbody tr th {\n",
       "        vertical-align: top;\n",
       "    }\n",
       "\n",
       "    .dataframe thead th {\n",
       "        text-align: right;\n",
       "    }\n",
       "</style>\n",
       "<table border=\"1\" class=\"dataframe\">\n",
       "  <thead>\n",
       "    <tr style=\"text-align: right;\">\n",
       "      <th></th>\n",
       "      <th>district</th>\n",
       "      <th>token</th>\n",
       "      <th>sub_category</th>\n",
       "      <th>category</th>\n",
       "      <th>business_type</th>\n",
       "      <th>price</th>\n",
       "      <th>credit</th>\n",
       "      <th>rent</th>\n",
       "      <th>title</th>\n",
       "      <th>location</th>\n",
       "      <th>area</th>\n",
       "      <th>year</th>\n",
       "      <th>room</th>\n",
       "      <th>floor</th>\n",
       "      <th>elevator</th>\n",
       "      <th>parking</th>\n",
       "      <th>storage</th>\n",
       "      <th>balcony</th>\n",
       "      <th>agency</th>\n",
       "    </tr>\n",
       "  </thead>\n",
       "  <tbody>\n",
       "    <tr>\n",
       "      <th>0</th>\n",
       "      <td>پرند</td>\n",
       "      <td>AYlgrZxh</td>\n",
       "      <td>apartment-sell</td>\n",
       "      <td>residential-sell</td>\n",
       "      <td>personal</td>\n",
       "      <td>2.400000e+08</td>\n",
       "      <td>NaN</td>\n",
       "      <td>NaN</td>\n",
       "      <td>هسا فول واریزی</td>\n",
       "      <td>{}</td>\n",
       "      <td>84.0</td>\n",
       "      <td>1399.0</td>\n",
       "      <td>2.0</td>\n",
       "      <td>3.0</td>\n",
       "      <td>False</td>\n",
       "      <td>True</td>\n",
       "      <td>True</td>\n",
       "      <td>NaN</td>\n",
       "      <td>NaN</td>\n",
       "    </tr>\n",
       "    <tr>\n",
       "      <th>1</th>\n",
       "      <td>ستارخان</td>\n",
       "      <td>AYlUb95t</td>\n",
       "      <td>shop-rent</td>\n",
       "      <td>commercial-rent</td>\n",
       "      <td>personal</td>\n",
       "      <td>NaN</td>\n",
       "      <td>NaN</td>\n",
       "      <td>NaN</td>\n",
       "      <td>15 متر مغازه(زیر همکف) پاساژ طلا و جواهر الماس...</td>\n",
       "      <td>{}</td>\n",
       "      <td>15.0</td>\n",
       "      <td>1390.0</td>\n",
       "      <td>0.0</td>\n",
       "      <td>NaN</td>\n",
       "      <td>NaN</td>\n",
       "      <td>NaN</td>\n",
       "      <td>NaN</td>\n",
       "      <td>NaN</td>\n",
       "      <td>NaN</td>\n",
       "    </tr>\n",
       "    <tr>\n",
       "      <th>2</th>\n",
       "      <td>الهیه</td>\n",
       "      <td>AYXM8Mkk</td>\n",
       "      <td>office-rent</td>\n",
       "      <td>commercial-rent</td>\n",
       "      <td>personal</td>\n",
       "      <td>NaN</td>\n",
       "      <td>NaN</td>\n",
       "      <td>NaN</td>\n",
       "      <td>فرشته اجاره۶۶متر سنداداری</td>\n",
       "      <td>{}</td>\n",
       "      <td>66.0</td>\n",
       "      <td>1397.0</td>\n",
       "      <td>0.0</td>\n",
       "      <td>6.0</td>\n",
       "      <td>True</td>\n",
       "      <td>True</td>\n",
       "      <td>False</td>\n",
       "      <td>NaN</td>\n",
       "      <td>NaN</td>\n",
       "    </tr>\n",
       "    <tr>\n",
       "      <th>3</th>\n",
       "      <td>فیروزکوه</td>\n",
       "      <td>AYO0uYGH</td>\n",
       "      <td>house-villa-sell</td>\n",
       "      <td>residential-sell</td>\n",
       "      <td>personal</td>\n",
       "      <td>4.000000e+09</td>\n",
       "      <td>NaN</td>\n",
       "      <td>NaN</td>\n",
       "      <td>ویلا باغ زریندشت فیروزکوه</td>\n",
       "      <td>{}</td>\n",
       "      <td>1300.0</td>\n",
       "      <td>1395.0</td>\n",
       "      <td>3.0</td>\n",
       "      <td>NaN</td>\n",
       "      <td>NaN</td>\n",
       "      <td>True</td>\n",
       "      <td>True</td>\n",
       "      <td>1.0</td>\n",
       "      <td>NaN</td>\n",
       "    </tr>\n",
       "    <tr>\n",
       "      <th>4</th>\n",
       "      <td>ورامین</td>\n",
       "      <td>AYlcbu9U</td>\n",
       "      <td>suite-apartment</td>\n",
       "      <td>temporary-rent</td>\n",
       "      <td>personal</td>\n",
       "      <td>NaN</td>\n",
       "      <td>NaN</td>\n",
       "      <td>NaN</td>\n",
       "      <td>اجاره سوییت</td>\n",
       "      <td>{}</td>\n",
       "      <td>2000.0</td>\n",
       "      <td>NaN</td>\n",
       "      <td>4.0</td>\n",
       "      <td>NaN</td>\n",
       "      <td>NaN</td>\n",
       "      <td>NaN</td>\n",
       "      <td>NaN</td>\n",
       "      <td>NaN</td>\n",
       "      <td>NaN</td>\n",
       "    </tr>\n",
       "  </tbody>\n",
       "</table>\n",
       "</div>"
      ],
      "text/plain": [
       "   district     token      sub_category          category business_type  \\\n",
       "0      پرند  AYlgrZxh    apartment-sell  residential-sell      personal   \n",
       "1   ستارخان  AYlUb95t         shop-rent   commercial-rent      personal   \n",
       "2     الهیه  AYXM8Mkk       office-rent   commercial-rent      personal   \n",
       "3  فیروزکوه  AYO0uYGH  house-villa-sell  residential-sell      personal   \n",
       "4    ورامین  AYlcbu9U   suite-apartment    temporary-rent      personal   \n",
       "\n",
       "          price  credit  rent  \\\n",
       "0  2.400000e+08     NaN   NaN   \n",
       "1           NaN     NaN   NaN   \n",
       "2           NaN     NaN   NaN   \n",
       "3  4.000000e+09     NaN   NaN   \n",
       "4           NaN     NaN   NaN   \n",
       "\n",
       "                                               title location    area    year  \\\n",
       "0                                     هسا فول واریزی       {}    84.0  1399.0   \n",
       "1  15 متر مغازه(زیر همکف) پاساژ طلا و جواهر الماس...       {}    15.0  1390.0   \n",
       "2                          فرشته اجاره۶۶متر سنداداری       {}    66.0  1397.0   \n",
       "3                          ویلا باغ زریندشت فیروزکوه       {}  1300.0  1395.0   \n",
       "4                                        اجاره سوییت       {}  2000.0     NaN   \n",
       "\n",
       "   room  floor elevator parking storage  balcony agency  \n",
       "0   2.0    3.0    False    True    True      NaN    NaN  \n",
       "1   0.0    NaN      NaN     NaN     NaN      NaN    NaN  \n",
       "2   0.0    6.0     True    True   False      NaN    NaN  \n",
       "3   3.0    NaN      NaN    True    True      1.0    NaN  \n",
       "4   4.0    NaN      NaN     NaN     NaN      NaN    NaN  "
      ]
     },
     "execution_count": 25,
     "metadata": {},
     "output_type": "execute_result"
    }
   ],
   "source": [
    "df2021.head()"
   ]
  },
  {
   "cell_type": "code",
   "execution_count": 26,
   "metadata": {},
   "outputs": [
    {
     "data": {
      "text/plain": [
       "array(['apartment-sell', 'shop-rent', 'office-rent', 'house-villa-sell',\n",
       "       'suite-apartment', 'industry-agriculture-business-sell',\n",
       "       'apartment-rent', 'plot-old', 'office-sell', 'shop-sell',\n",
       "       'industry-agriculture-business-rent', 'presell',\n",
       "       'house-villa-rent', 'villa', 'workspace', 'partnership',\n",
       "       'services', 'utility', 'industrial', 'accounting-finance-legal',\n",
       "       'jobs', 'shop-restaurant', 'administration-and-hr',\n",
       "       'tv-and-stereo-furniture', 'garden-and-landscaping',\n",
       "       'residential-rent', 'industrial-technology', 'craftsmen',\n",
       "       'businesses', 'batch', 'care-health-beauty', 'residential-sell',\n",
       "       'commercial-rent', 'parts-accessories', 'temporary-rent',\n",
       "       'accounting-and-finance', 'building-and-garden', 'catering'],\n",
       "      dtype=object)"
      ]
     },
     "execution_count": 26,
     "metadata": {},
     "output_type": "execute_result"
    }
   ],
   "source": [
    "df2021['sub_category'].unique()"
   ]
  },
  {
   "cell_type": "code",
   "execution_count": 27,
   "metadata": {},
   "outputs": [
    {
     "data": {
      "text/plain": [
       "array(['residential-sell', 'commercial-rent', 'temporary-rent',\n",
       "       'commercial-sell', 'residential-rent', 'real-estate-services',\n",
       "       'root', 'for-the-home', 'equipments-and-machinery', 'jobs',\n",
       "       'furniture-and-home-decore', 'services', 'real-estate',\n",
       "       'businesses', 'vehicles'], dtype=object)"
      ]
     },
     "execution_count": 27,
     "metadata": {},
     "output_type": "execute_result"
    }
   ],
   "source": [
    "df2021['category'].unique()"
   ]
  },
  {
   "cell_type": "markdown",
   "metadata": {},
   "source": [
    "**There are lots of unrelated records in 2021 dataset that we should drop them:**\n",
    "1. commercial-rent\n",
    "2. businesses\n",
    "3. equipments-and-machinery\n",
    "4. for-the-home\n",
    "5. furniture-and-home-decore\n",
    "6. jobs\n",
    "7. real-estate  > emporary-rent , residential-rent , commercial-rent\n",
    "8. real-estate-services > partnership\n",
    "9. residential-rent\n",
    "10. root\n",
    "11. services\n",
    "12. temporary-rent\n",
    "13. vehicles"
   ]
  },
  {
   "cell_type": "code",
   "execution_count": 28,
   "metadata": {},
   "outputs": [
    {
     "data": {
      "text/html": [
       "<div>\n",
       "<style scoped>\n",
       "    .dataframe tbody tr th:only-of-type {\n",
       "        vertical-align: middle;\n",
       "    }\n",
       "\n",
       "    .dataframe tbody tr th {\n",
       "        vertical-align: top;\n",
       "    }\n",
       "\n",
       "    .dataframe thead th {\n",
       "        text-align: right;\n",
       "    }\n",
       "</style>\n",
       "<table border=\"1\" class=\"dataframe\">\n",
       "  <thead>\n",
       "    <tr style=\"text-align: right;\">\n",
       "      <th></th>\n",
       "      <th></th>\n",
       "      <th>sub_category</th>\n",
       "    </tr>\n",
       "    <tr>\n",
       "      <th>category</th>\n",
       "      <th>sub_category</th>\n",
       "      <th></th>\n",
       "    </tr>\n",
       "  </thead>\n",
       "  <tbody>\n",
       "    <tr>\n",
       "      <th>businesses</th>\n",
       "      <th>batch</th>\n",
       "      <td>3</td>\n",
       "    </tr>\n",
       "    <tr>\n",
       "      <th rowspan=\"3\" valign=\"top\">commercial-rent</th>\n",
       "      <th>industry-agriculture-business-rent</th>\n",
       "      <td>1478</td>\n",
       "    </tr>\n",
       "    <tr>\n",
       "      <th>office-rent</th>\n",
       "      <td>12643</td>\n",
       "    </tr>\n",
       "    <tr>\n",
       "      <th>shop-rent</th>\n",
       "      <td>8575</td>\n",
       "    </tr>\n",
       "    <tr>\n",
       "      <th rowspan=\"3\" valign=\"top\">commercial-sell</th>\n",
       "      <th>industry-agriculture-business-sell</th>\n",
       "      <td>4257</td>\n",
       "    </tr>\n",
       "    <tr>\n",
       "      <th>office-sell</th>\n",
       "      <td>6680</td>\n",
       "    </tr>\n",
       "    <tr>\n",
       "      <th>shop-sell</th>\n",
       "      <td>8188</td>\n",
       "    </tr>\n",
       "    <tr>\n",
       "      <th>equipments-and-machinery</th>\n",
       "      <th>industrial</th>\n",
       "      <td>1</td>\n",
       "    </tr>\n",
       "    <tr>\n",
       "      <th rowspan=\"2\" valign=\"top\">for-the-home</th>\n",
       "      <th>building-and-garden</th>\n",
       "      <td>1</td>\n",
       "    </tr>\n",
       "    <tr>\n",
       "      <th>utility</th>\n",
       "      <td>1</td>\n",
       "    </tr>\n",
       "    <tr>\n",
       "      <th>furniture-and-home-decore</th>\n",
       "      <th>tv-and-stereo-furniture</th>\n",
       "      <td>1</td>\n",
       "    </tr>\n",
       "    <tr>\n",
       "      <th rowspan=\"5\" valign=\"top\">jobs</th>\n",
       "      <th>accounting-finance-legal</th>\n",
       "      <td>6</td>\n",
       "    </tr>\n",
       "    <tr>\n",
       "      <th>administration-and-hr</th>\n",
       "      <td>1</td>\n",
       "    </tr>\n",
       "    <tr>\n",
       "      <th>care-health-beauty</th>\n",
       "      <td>2</td>\n",
       "    </tr>\n",
       "    <tr>\n",
       "      <th>industrial-technology</th>\n",
       "      <td>1</td>\n",
       "    </tr>\n",
       "    <tr>\n",
       "      <th>shop-restaurant</th>\n",
       "      <td>1</td>\n",
       "    </tr>\n",
       "    <tr>\n",
       "      <th rowspan=\"4\" valign=\"top\">real-estate</th>\n",
       "      <th>commercial-rent</th>\n",
       "      <td>1</td>\n",
       "    </tr>\n",
       "    <tr>\n",
       "      <th>residential-rent</th>\n",
       "      <td>1</td>\n",
       "    </tr>\n",
       "    <tr>\n",
       "      <th>residential-sell</th>\n",
       "      <td>2</td>\n",
       "    </tr>\n",
       "    <tr>\n",
       "      <th>temporary-rent</th>\n",
       "      <td>1</td>\n",
       "    </tr>\n",
       "    <tr>\n",
       "      <th rowspan=\"2\" valign=\"top\">real-estate-services</th>\n",
       "      <th>partnership</th>\n",
       "      <td>1755</td>\n",
       "    </tr>\n",
       "    <tr>\n",
       "      <th>presell</th>\n",
       "      <td>11017</td>\n",
       "    </tr>\n",
       "    <tr>\n",
       "      <th rowspan=\"2\" valign=\"top\">residential-rent</th>\n",
       "      <th>apartment-rent</th>\n",
       "      <td>82577</td>\n",
       "    </tr>\n",
       "    <tr>\n",
       "      <th>house-villa-rent</th>\n",
       "      <td>3568</td>\n",
       "    </tr>\n",
       "    <tr>\n",
       "      <th rowspan=\"3\" valign=\"top\">residential-sell</th>\n",
       "      <th>apartment-sell</th>\n",
       "      <td>195497</td>\n",
       "    </tr>\n",
       "    <tr>\n",
       "      <th>house-villa-sell</th>\n",
       "      <td>11690</td>\n",
       "    </tr>\n",
       "    <tr>\n",
       "      <th>plot-old</th>\n",
       "      <td>21948</td>\n",
       "    </tr>\n",
       "    <tr>\n",
       "      <th rowspan=\"3\" valign=\"top\">root</th>\n",
       "      <th>businesses</th>\n",
       "      <td>2</td>\n",
       "    </tr>\n",
       "    <tr>\n",
       "      <th>jobs</th>\n",
       "      <td>2</td>\n",
       "    </tr>\n",
       "    <tr>\n",
       "      <th>services</th>\n",
       "      <td>14</td>\n",
       "    </tr>\n",
       "    <tr>\n",
       "      <th rowspan=\"4\" valign=\"top\">services</th>\n",
       "      <th>accounting-and-finance</th>\n",
       "      <td>1</td>\n",
       "    </tr>\n",
       "    <tr>\n",
       "      <th>catering</th>\n",
       "      <td>1</td>\n",
       "    </tr>\n",
       "    <tr>\n",
       "      <th>craftsmen</th>\n",
       "      <td>2</td>\n",
       "    </tr>\n",
       "    <tr>\n",
       "      <th>garden-and-landscaping</th>\n",
       "      <td>1</td>\n",
       "    </tr>\n",
       "    <tr>\n",
       "      <th rowspan=\"3\" valign=\"top\">temporary-rent</th>\n",
       "      <th>suite-apartment</th>\n",
       "      <td>1593</td>\n",
       "    </tr>\n",
       "    <tr>\n",
       "      <th>villa</th>\n",
       "      <td>590</td>\n",
       "    </tr>\n",
       "    <tr>\n",
       "      <th>workspace</th>\n",
       "      <td>229</td>\n",
       "    </tr>\n",
       "    <tr>\n",
       "      <th>vehicles</th>\n",
       "      <th>parts-accessories</th>\n",
       "      <td>1</td>\n",
       "    </tr>\n",
       "  </tbody>\n",
       "</table>\n",
       "</div>"
      ],
      "text/plain": [
       "                                                              sub_category\n",
       "category                  sub_category                                    \n",
       "businesses                batch                                          3\n",
       "commercial-rent           industry-agriculture-business-rent          1478\n",
       "                          office-rent                                12643\n",
       "                          shop-rent                                   8575\n",
       "commercial-sell           industry-agriculture-business-sell          4257\n",
       "                          office-sell                                 6680\n",
       "                          shop-sell                                   8188\n",
       "equipments-and-machinery  industrial                                     1\n",
       "for-the-home              building-and-garden                            1\n",
       "                          utility                                        1\n",
       "furniture-and-home-decore tv-and-stereo-furniture                        1\n",
       "jobs                      accounting-finance-legal                       6\n",
       "                          administration-and-hr                          1\n",
       "                          care-health-beauty                             2\n",
       "                          industrial-technology                          1\n",
       "                          shop-restaurant                                1\n",
       "real-estate               commercial-rent                                1\n",
       "                          residential-rent                               1\n",
       "                          residential-sell                               2\n",
       "                          temporary-rent                                 1\n",
       "real-estate-services      partnership                                 1755\n",
       "                          presell                                    11017\n",
       "residential-rent          apartment-rent                             82577\n",
       "                          house-villa-rent                            3568\n",
       "residential-sell          apartment-sell                            195497\n",
       "                          house-villa-sell                           11690\n",
       "                          plot-old                                   21948\n",
       "root                      businesses                                     2\n",
       "                          jobs                                           2\n",
       "                          services                                      14\n",
       "services                  accounting-and-finance                         1\n",
       "                          catering                                       1\n",
       "                          craftsmen                                      2\n",
       "                          garden-and-landscaping                         1\n",
       "temporary-rent            suite-apartment                             1593\n",
       "                          villa                                        590\n",
       "                          workspace                                    229\n",
       "vehicles                  parts-accessories                              1"
      ]
     },
     "execution_count": 28,
     "metadata": {},
     "output_type": "execute_result"
    }
   ],
   "source": [
    "categoryCheck = df2021.groupby(['category' , 'sub_category'])['sub_category'].count()\n",
    "categoryCheck.to_frame()"
   ]
  },
  {
   "cell_type": "code",
   "execution_count": 29,
   "metadata": {},
   "outputs": [],
   "source": [
    "unrelated_sub_categories = [  \n",
    "    'commercial-rent', 'businesses', 'equipments-and-machinery',   \n",
    "    'for-the-home', 'furniture-and-home-decore', 'jobs',   \n",
    "    'residential-rent', 'root', 'services',   \n",
    "    'temporary-rent', 'vehicles' \n",
    "]  \n",
    "  \n",
    "filtered_df = df2021[(~df2021['category'].isin(unrelated_sub_categories)) & (~df2021['sub_category'].isin(['partnership','emporary-rent' , 'residential-rent' , 'commercial-rent']))]  "
   ]
  },
  {
   "cell_type": "code",
   "execution_count": 30,
   "metadata": {},
   "outputs": [
    {
     "data": {
      "text/html": [
       "<div>\n",
       "<style scoped>\n",
       "    .dataframe tbody tr th:only-of-type {\n",
       "        vertical-align: middle;\n",
       "    }\n",
       "\n",
       "    .dataframe tbody tr th {\n",
       "        vertical-align: top;\n",
       "    }\n",
       "\n",
       "    .dataframe thead th {\n",
       "        text-align: right;\n",
       "    }\n",
       "</style>\n",
       "<table border=\"1\" class=\"dataframe\">\n",
       "  <thead>\n",
       "    <tr style=\"text-align: right;\">\n",
       "      <th></th>\n",
       "      <th>district</th>\n",
       "      <th>token</th>\n",
       "      <th>sub_category</th>\n",
       "      <th>category</th>\n",
       "      <th>business_type</th>\n",
       "      <th>price</th>\n",
       "      <th>credit</th>\n",
       "      <th>rent</th>\n",
       "      <th>title</th>\n",
       "      <th>location</th>\n",
       "      <th>area</th>\n",
       "      <th>year</th>\n",
       "      <th>room</th>\n",
       "      <th>floor</th>\n",
       "      <th>elevator</th>\n",
       "      <th>parking</th>\n",
       "      <th>storage</th>\n",
       "      <th>balcony</th>\n",
       "      <th>agency</th>\n",
       "    </tr>\n",
       "  </thead>\n",
       "  <tbody>\n",
       "    <tr>\n",
       "      <th>0</th>\n",
       "      <td>پرند</td>\n",
       "      <td>AYlgrZxh</td>\n",
       "      <td>apartment-sell</td>\n",
       "      <td>residential-sell</td>\n",
       "      <td>personal</td>\n",
       "      <td>2.400000e+08</td>\n",
       "      <td>NaN</td>\n",
       "      <td>NaN</td>\n",
       "      <td>هسا فول واریزی</td>\n",
       "      <td>{}</td>\n",
       "      <td>84.0</td>\n",
       "      <td>1399.0</td>\n",
       "      <td>2.0</td>\n",
       "      <td>3.0</td>\n",
       "      <td>False</td>\n",
       "      <td>True</td>\n",
       "      <td>True</td>\n",
       "      <td>NaN</td>\n",
       "      <td>NaN</td>\n",
       "    </tr>\n",
       "    <tr>\n",
       "      <th>3</th>\n",
       "      <td>فیروزکوه</td>\n",
       "      <td>AYO0uYGH</td>\n",
       "      <td>house-villa-sell</td>\n",
       "      <td>residential-sell</td>\n",
       "      <td>personal</td>\n",
       "      <td>4.000000e+09</td>\n",
       "      <td>NaN</td>\n",
       "      <td>NaN</td>\n",
       "      <td>ویلا باغ زریندشت فیروزکوه</td>\n",
       "      <td>{}</td>\n",
       "      <td>1300.0</td>\n",
       "      <td>1395.0</td>\n",
       "      <td>3.0</td>\n",
       "      <td>NaN</td>\n",
       "      <td>NaN</td>\n",
       "      <td>True</td>\n",
       "      <td>True</td>\n",
       "      <td>1.0</td>\n",
       "      <td>NaN</td>\n",
       "    </tr>\n",
       "    <tr>\n",
       "      <th>5</th>\n",
       "      <td>چیتگر</td>\n",
       "      <td>AYlkrHbP</td>\n",
       "      <td>industry-agriculture-business-sell</td>\n",
       "      <td>commercial-sell</td>\n",
       "      <td>real-estate-business</td>\n",
       "      <td>2.270000e+11</td>\n",
       "      <td>NaN</td>\n",
       "      <td>NaN</td>\n",
       "      <td>۵۵۰۵ متر زمین با دستور نقشه اداری تجاری چیتگر</td>\n",
       "      <td>{}</td>\n",
       "      <td>5505.0</td>\n",
       "      <td>1399.0</td>\n",
       "      <td>4.0</td>\n",
       "      <td>NaN</td>\n",
       "      <td>NaN</td>\n",
       "      <td>NaN</td>\n",
       "      <td>NaN</td>\n",
       "      <td>NaN</td>\n",
       "      <td>سرمایه گذاری مسکن برنا</td>\n",
       "    </tr>\n",
       "    <tr>\n",
       "      <th>6</th>\n",
       "      <td>فیروزکوه</td>\n",
       "      <td>AYO4u7iR</td>\n",
       "      <td>industry-agriculture-business-sell</td>\n",
       "      <td>commercial-sell</td>\n",
       "      <td>personal</td>\n",
       "      <td>1.250000e+09</td>\n",
       "      <td>NaN</td>\n",
       "      <td>NaN</td>\n",
       "      <td>باغ فروشی زریندشت فیروزکوه</td>\n",
       "      <td>{}</td>\n",
       "      <td>1360.0</td>\n",
       "      <td>NaN</td>\n",
       "      <td>NaN</td>\n",
       "      <td>NaN</td>\n",
       "      <td>NaN</td>\n",
       "      <td>NaN</td>\n",
       "      <td>NaN</td>\n",
       "      <td>NaN</td>\n",
       "      <td>NaN</td>\n",
       "    </tr>\n",
       "    <tr>\n",
       "      <th>7</th>\n",
       "      <td>نازی‌آباد</td>\n",
       "      <td>AYlcbIE5</td>\n",
       "      <td>apartment-sell</td>\n",
       "      <td>residential-sell</td>\n",
       "      <td>personal</td>\n",
       "      <td>1.400000e+09</td>\n",
       "      <td>NaN</td>\n",
       "      <td>NaN</td>\n",
       "      <td>آپارتمان ۵۳ متری هزاردستگاه.تک واحدی فول</td>\n",
       "      <td>{'latitude': '35.64359', 'longitude': '51.4047...</td>\n",
       "      <td>53.0</td>\n",
       "      <td>1394.0</td>\n",
       "      <td>1.0</td>\n",
       "      <td>3.0</td>\n",
       "      <td>True</td>\n",
       "      <td>True</td>\n",
       "      <td>True</td>\n",
       "      <td>NaN</td>\n",
       "      <td>NaN</td>\n",
       "    </tr>\n",
       "    <tr>\n",
       "      <th>...</th>\n",
       "      <td>...</td>\n",
       "      <td>...</td>\n",
       "      <td>...</td>\n",
       "      <td>...</td>\n",
       "      <td>...</td>\n",
       "      <td>...</td>\n",
       "      <td>...</td>\n",
       "      <td>...</td>\n",
       "      <td>...</td>\n",
       "      <td>...</td>\n",
       "      <td>...</td>\n",
       "      <td>...</td>\n",
       "      <td>...</td>\n",
       "      <td>...</td>\n",
       "      <td>...</td>\n",
       "      <td>...</td>\n",
       "      <td>...</td>\n",
       "      <td>...</td>\n",
       "      <td>...</td>\n",
       "    </tr>\n",
       "    <tr>\n",
       "      <th>372324</th>\n",
       "      <td>رباط کریم</td>\n",
       "      <td>QXY_bR-C</td>\n",
       "      <td>industry-agriculture-business-sell</td>\n",
       "      <td>commercial-sell</td>\n",
       "      <td>personal</td>\n",
       "      <td>NaN</td>\n",
       "      <td>NaN</td>\n",
       "      <td>NaN</td>\n",
       "      <td>کارگاه 1000متری در جاده قرمز و ینگ کار</td>\n",
       "      <td>{}</td>\n",
       "      <td>1000.0</td>\n",
       "      <td>1395.0</td>\n",
       "      <td>0.0</td>\n",
       "      <td>NaN</td>\n",
       "      <td>NaN</td>\n",
       "      <td>NaN</td>\n",
       "      <td>NaN</td>\n",
       "      <td>NaN</td>\n",
       "      <td>NaN</td>\n",
       "    </tr>\n",
       "    <tr>\n",
       "      <th>372326</th>\n",
       "      <td>شهرک غرب</td>\n",
       "      <td>AXATghDR</td>\n",
       "      <td>shop-sell</td>\n",
       "      <td>commercial-sell</td>\n",
       "      <td>None</td>\n",
       "      <td>NaN</td>\n",
       "      <td>NaN</td>\n",
       "      <td>NaN</td>\n",
       "      <td>لیدوما, 130 متر تجاری</td>\n",
       "      <td>{}</td>\n",
       "      <td>133.0</td>\n",
       "      <td>1395.0</td>\n",
       "      <td>1.0</td>\n",
       "      <td>NaN</td>\n",
       "      <td>NaN</td>\n",
       "      <td>NaN</td>\n",
       "      <td>NaN</td>\n",
       "      <td>NaN</td>\n",
       "      <td>NaN</td>\n",
       "    </tr>\n",
       "    <tr>\n",
       "      <th>372327</th>\n",
       "      <td>رباط کریم</td>\n",
       "      <td>QXYHcBse</td>\n",
       "      <td>industry-agriculture-business-sell</td>\n",
       "      <td>commercial-sell</td>\n",
       "      <td>personal</td>\n",
       "      <td>NaN</td>\n",
       "      <td>NaN</td>\n",
       "      <td>NaN</td>\n",
       "      <td>گاراژ2800متری در سلطان آباد جاده ساوه</td>\n",
       "      <td>{}</td>\n",
       "      <td>2800.0</td>\n",
       "      <td>1385.0</td>\n",
       "      <td>0.0</td>\n",
       "      <td>NaN</td>\n",
       "      <td>NaN</td>\n",
       "      <td>NaN</td>\n",
       "      <td>NaN</td>\n",
       "      <td>NaN</td>\n",
       "      <td>NaN</td>\n",
       "    </tr>\n",
       "    <tr>\n",
       "      <th>372329</th>\n",
       "      <td>آجودانیه</td>\n",
       "      <td>QX9szhxq</td>\n",
       "      <td>presell</td>\n",
       "      <td>real-estate-services</td>\n",
       "      <td>personal</td>\n",
       "      <td>NaN</td>\n",
       "      <td>NaN</td>\n",
       "      <td>NaN</td>\n",
       "      <td>٣٥٠ متر آجودانیه ( پیش فروش) تحویل ٦ ماهه</td>\n",
       "      <td>{}</td>\n",
       "      <td>NaN</td>\n",
       "      <td>NaN</td>\n",
       "      <td>NaN</td>\n",
       "      <td>NaN</td>\n",
       "      <td>NaN</td>\n",
       "      <td>NaN</td>\n",
       "      <td>NaN</td>\n",
       "      <td>NaN</td>\n",
       "      <td>NaN</td>\n",
       "    </tr>\n",
       "    <tr>\n",
       "      <th>372331</th>\n",
       "      <td>نیاوران</td>\n",
       "      <td>gXHY8KlA</td>\n",
       "      <td>apartment-sell</td>\n",
       "      <td>residential-sell</td>\n",
       "      <td>personal</td>\n",
       "      <td>NaN</td>\n",
       "      <td>NaN</td>\n",
       "      <td>NaN</td>\n",
       "      <td>نیاوران شمال کاخ 215 متر با سه پارکینگ خوش نقشه</td>\n",
       "      <td>{}</td>\n",
       "      <td>215.0</td>\n",
       "      <td>1391.0</td>\n",
       "      <td>3.0</td>\n",
       "      <td>4.0</td>\n",
       "      <td>True</td>\n",
       "      <td>True</td>\n",
       "      <td>True</td>\n",
       "      <td>NaN</td>\n",
       "      <td>NaN</td>\n",
       "    </tr>\n",
       "  </tbody>\n",
       "</table>\n",
       "<p>259280 rows × 19 columns</p>\n",
       "</div>"
      ],
      "text/plain": [
       "         district     token                        sub_category  \\\n",
       "0            پرند  AYlgrZxh                      apartment-sell   \n",
       "3        فیروزکوه  AYO0uYGH                    house-villa-sell   \n",
       "5           چیتگر  AYlkrHbP  industry-agriculture-business-sell   \n",
       "6        فیروزکوه  AYO4u7iR  industry-agriculture-business-sell   \n",
       "7       نازی‌آباد  AYlcbIE5                      apartment-sell   \n",
       "...           ...       ...                                 ...   \n",
       "372324  رباط کریم  QXY_bR-C  industry-agriculture-business-sell   \n",
       "372326   شهرک غرب  AXATghDR                           shop-sell   \n",
       "372327  رباط کریم  QXYHcBse  industry-agriculture-business-sell   \n",
       "372329   آجودانیه  QX9szhxq                             presell   \n",
       "372331    نیاوران  gXHY8KlA                      apartment-sell   \n",
       "\n",
       "                    category         business_type         price  credit  \\\n",
       "0           residential-sell              personal  2.400000e+08     NaN   \n",
       "3           residential-sell              personal  4.000000e+09     NaN   \n",
       "5            commercial-sell  real-estate-business  2.270000e+11     NaN   \n",
       "6            commercial-sell              personal  1.250000e+09     NaN   \n",
       "7           residential-sell              personal  1.400000e+09     NaN   \n",
       "...                      ...                   ...           ...     ...   \n",
       "372324       commercial-sell              personal           NaN     NaN   \n",
       "372326       commercial-sell                  None           NaN     NaN   \n",
       "372327       commercial-sell              personal           NaN     NaN   \n",
       "372329  real-estate-services              personal           NaN     NaN   \n",
       "372331      residential-sell              personal           NaN     NaN   \n",
       "\n",
       "        rent                                            title  \\\n",
       "0        NaN                                   هسا فول واریزی   \n",
       "3        NaN                        ویلا باغ زریندشت فیروزکوه   \n",
       "5        NaN    ۵۵۰۵ متر زمین با دستور نقشه اداری تجاری چیتگر   \n",
       "6        NaN                       باغ فروشی زریندشت فیروزکوه   \n",
       "7        NaN         آپارتمان ۵۳ متری هزاردستگاه.تک واحدی فول   \n",
       "...      ...                                              ...   \n",
       "372324   NaN           کارگاه 1000متری در جاده قرمز و ینگ کار   \n",
       "372326   NaN                            لیدوما, 130 متر تجاری   \n",
       "372327   NaN            گاراژ2800متری در سلطان آباد جاده ساوه   \n",
       "372329   NaN        ٣٥٠ متر آجودانیه ( پیش فروش) تحویل ٦ ماهه   \n",
       "372331   NaN  نیاوران شمال کاخ 215 متر با سه پارکینگ خوش نقشه   \n",
       "\n",
       "                                                 location    area    year  \\\n",
       "0                                                      {}    84.0  1399.0   \n",
       "3                                                      {}  1300.0  1395.0   \n",
       "5                                                      {}  5505.0  1399.0   \n",
       "6                                                      {}  1360.0     NaN   \n",
       "7       {'latitude': '35.64359', 'longitude': '51.4047...    53.0  1394.0   \n",
       "...                                                   ...     ...     ...   \n",
       "372324                                                 {}  1000.0  1395.0   \n",
       "372326                                                 {}   133.0  1395.0   \n",
       "372327                                                 {}  2800.0  1385.0   \n",
       "372329                                                 {}     NaN     NaN   \n",
       "372331                                                 {}   215.0  1391.0   \n",
       "\n",
       "        room  floor elevator parking storage  balcony                  agency  \n",
       "0        2.0    3.0    False    True    True      NaN                     NaN  \n",
       "3        3.0    NaN      NaN    True    True      1.0                     NaN  \n",
       "5        4.0    NaN      NaN     NaN     NaN      NaN  سرمایه گذاری مسکن برنا  \n",
       "6        NaN    NaN      NaN     NaN     NaN      NaN                     NaN  \n",
       "7        1.0    3.0     True    True    True      NaN                     NaN  \n",
       "...      ...    ...      ...     ...     ...      ...                     ...  \n",
       "372324   0.0    NaN      NaN     NaN     NaN      NaN                     NaN  \n",
       "372326   1.0    NaN      NaN     NaN     NaN      NaN                     NaN  \n",
       "372327   0.0    NaN      NaN     NaN     NaN      NaN                     NaN  \n",
       "372329   NaN    NaN      NaN     NaN     NaN      NaN                     NaN  \n",
       "372331   3.0    4.0     True    True    True      NaN                     NaN  \n",
       "\n",
       "[259280 rows x 19 columns]"
      ]
     },
     "execution_count": 30,
     "metadata": {},
     "output_type": "execute_result"
    }
   ],
   "source": [
    "filtered_df"
   ]
  },
  {
   "cell_type": "code",
   "execution_count": 31,
   "metadata": {},
   "outputs": [
    {
     "data": {
      "text/html": [
       "<div>\n",
       "<style scoped>\n",
       "    .dataframe tbody tr th:only-of-type {\n",
       "        vertical-align: middle;\n",
       "    }\n",
       "\n",
       "    .dataframe tbody tr th {\n",
       "        vertical-align: top;\n",
       "    }\n",
       "\n",
       "    .dataframe thead th {\n",
       "        text-align: right;\n",
       "    }\n",
       "</style>\n",
       "<table border=\"1\" class=\"dataframe\">\n",
       "  <thead>\n",
       "    <tr style=\"text-align: right;\">\n",
       "      <th></th>\n",
       "      <th></th>\n",
       "      <th>sub_category</th>\n",
       "    </tr>\n",
       "    <tr>\n",
       "      <th>category</th>\n",
       "      <th>sub_category</th>\n",
       "      <th></th>\n",
       "    </tr>\n",
       "  </thead>\n",
       "  <tbody>\n",
       "    <tr>\n",
       "      <th rowspan=\"3\" valign=\"top\">commercial-sell</th>\n",
       "      <th>industry-agriculture-business-sell</th>\n",
       "      <td>4257</td>\n",
       "    </tr>\n",
       "    <tr>\n",
       "      <th>office-sell</th>\n",
       "      <td>6680</td>\n",
       "    </tr>\n",
       "    <tr>\n",
       "      <th>shop-sell</th>\n",
       "      <td>8188</td>\n",
       "    </tr>\n",
       "    <tr>\n",
       "      <th rowspan=\"2\" valign=\"top\">real-estate</th>\n",
       "      <th>residential-sell</th>\n",
       "      <td>2</td>\n",
       "    </tr>\n",
       "    <tr>\n",
       "      <th>temporary-rent</th>\n",
       "      <td>1</td>\n",
       "    </tr>\n",
       "    <tr>\n",
       "      <th>real-estate-services</th>\n",
       "      <th>presell</th>\n",
       "      <td>11017</td>\n",
       "    </tr>\n",
       "    <tr>\n",
       "      <th rowspan=\"3\" valign=\"top\">residential-sell</th>\n",
       "      <th>apartment-sell</th>\n",
       "      <td>195497</td>\n",
       "    </tr>\n",
       "    <tr>\n",
       "      <th>house-villa-sell</th>\n",
       "      <td>11690</td>\n",
       "    </tr>\n",
       "    <tr>\n",
       "      <th>plot-old</th>\n",
       "      <td>21948</td>\n",
       "    </tr>\n",
       "  </tbody>\n",
       "</table>\n",
       "</div>"
      ],
      "text/plain": [
       "                                                         sub_category\n",
       "category             sub_category                                    \n",
       "commercial-sell      industry-agriculture-business-sell          4257\n",
       "                     office-sell                                 6680\n",
       "                     shop-sell                                   8188\n",
       "real-estate          residential-sell                               2\n",
       "                     temporary-rent                                 1\n",
       "real-estate-services presell                                    11017\n",
       "residential-sell     apartment-sell                            195497\n",
       "                     house-villa-sell                           11690\n",
       "                     plot-old                                   21948"
      ]
     },
     "execution_count": 31,
     "metadata": {},
     "output_type": "execute_result"
    }
   ],
   "source": [
    "categoryCheck2 = filtered_df.groupby(['category' , 'sub_category'])['sub_category'].count()\n",
    "categoryCheck2.to_frame()"
   ]
  },
  {
   "cell_type": "code",
   "execution_count": 32,
   "metadata": {},
   "outputs": [
    {
     "data": {
      "text/html": [
       "<div>\n",
       "<style scoped>\n",
       "    .dataframe tbody tr th:only-of-type {\n",
       "        vertical-align: middle;\n",
       "    }\n",
       "\n",
       "    .dataframe tbody tr th {\n",
       "        vertical-align: top;\n",
       "    }\n",
       "\n",
       "    .dataframe thead th {\n",
       "        text-align: right;\n",
       "    }\n",
       "</style>\n",
       "<table border=\"1\" class=\"dataframe\">\n",
       "  <thead>\n",
       "    <tr style=\"text-align: right;\">\n",
       "      <th></th>\n",
       "      <th>area</th>\n",
       "      <th>year</th>\n",
       "      <th>room</th>\n",
       "      <th>storage</th>\n",
       "      <th>parking</th>\n",
       "      <th>elevator</th>\n",
       "      <th>district</th>\n",
       "      <th>price</th>\n",
       "    </tr>\n",
       "  </thead>\n",
       "  <tbody>\n",
       "    <tr>\n",
       "      <th>0</th>\n",
       "      <td>84.0</td>\n",
       "      <td>1399.0</td>\n",
       "      <td>2.0</td>\n",
       "      <td>True</td>\n",
       "      <td>True</td>\n",
       "      <td>False</td>\n",
       "      <td>پرند</td>\n",
       "      <td>2.400000e+08</td>\n",
       "    </tr>\n",
       "    <tr>\n",
       "      <th>3</th>\n",
       "      <td>1300.0</td>\n",
       "      <td>1395.0</td>\n",
       "      <td>3.0</td>\n",
       "      <td>True</td>\n",
       "      <td>True</td>\n",
       "      <td>NaN</td>\n",
       "      <td>فیروزکوه</td>\n",
       "      <td>4.000000e+09</td>\n",
       "    </tr>\n",
       "    <tr>\n",
       "      <th>5</th>\n",
       "      <td>5505.0</td>\n",
       "      <td>1399.0</td>\n",
       "      <td>4.0</td>\n",
       "      <td>NaN</td>\n",
       "      <td>NaN</td>\n",
       "      <td>NaN</td>\n",
       "      <td>چیتگر</td>\n",
       "      <td>2.270000e+11</td>\n",
       "    </tr>\n",
       "    <tr>\n",
       "      <th>6</th>\n",
       "      <td>1360.0</td>\n",
       "      <td>NaN</td>\n",
       "      <td>NaN</td>\n",
       "      <td>NaN</td>\n",
       "      <td>NaN</td>\n",
       "      <td>NaN</td>\n",
       "      <td>فیروزکوه</td>\n",
       "      <td>1.250000e+09</td>\n",
       "    </tr>\n",
       "    <tr>\n",
       "      <th>7</th>\n",
       "      <td>53.0</td>\n",
       "      <td>1394.0</td>\n",
       "      <td>1.0</td>\n",
       "      <td>True</td>\n",
       "      <td>True</td>\n",
       "      <td>True</td>\n",
       "      <td>نازی‌آباد</td>\n",
       "      <td>1.400000e+09</td>\n",
       "    </tr>\n",
       "    <tr>\n",
       "      <th>...</th>\n",
       "      <td>...</td>\n",
       "      <td>...</td>\n",
       "      <td>...</td>\n",
       "      <td>...</td>\n",
       "      <td>...</td>\n",
       "      <td>...</td>\n",
       "      <td>...</td>\n",
       "      <td>...</td>\n",
       "    </tr>\n",
       "    <tr>\n",
       "      <th>372324</th>\n",
       "      <td>1000.0</td>\n",
       "      <td>1395.0</td>\n",
       "      <td>0.0</td>\n",
       "      <td>NaN</td>\n",
       "      <td>NaN</td>\n",
       "      <td>NaN</td>\n",
       "      <td>رباط کریم</td>\n",
       "      <td>NaN</td>\n",
       "    </tr>\n",
       "    <tr>\n",
       "      <th>372326</th>\n",
       "      <td>133.0</td>\n",
       "      <td>1395.0</td>\n",
       "      <td>1.0</td>\n",
       "      <td>NaN</td>\n",
       "      <td>NaN</td>\n",
       "      <td>NaN</td>\n",
       "      <td>شهرک غرب</td>\n",
       "      <td>NaN</td>\n",
       "    </tr>\n",
       "    <tr>\n",
       "      <th>372327</th>\n",
       "      <td>2800.0</td>\n",
       "      <td>1385.0</td>\n",
       "      <td>0.0</td>\n",
       "      <td>NaN</td>\n",
       "      <td>NaN</td>\n",
       "      <td>NaN</td>\n",
       "      <td>رباط کریم</td>\n",
       "      <td>NaN</td>\n",
       "    </tr>\n",
       "    <tr>\n",
       "      <th>372329</th>\n",
       "      <td>NaN</td>\n",
       "      <td>NaN</td>\n",
       "      <td>NaN</td>\n",
       "      <td>NaN</td>\n",
       "      <td>NaN</td>\n",
       "      <td>NaN</td>\n",
       "      <td>آجودانیه</td>\n",
       "      <td>NaN</td>\n",
       "    </tr>\n",
       "    <tr>\n",
       "      <th>372331</th>\n",
       "      <td>215.0</td>\n",
       "      <td>1391.0</td>\n",
       "      <td>3.0</td>\n",
       "      <td>True</td>\n",
       "      <td>True</td>\n",
       "      <td>True</td>\n",
       "      <td>نیاوران</td>\n",
       "      <td>NaN</td>\n",
       "    </tr>\n",
       "  </tbody>\n",
       "</table>\n",
       "<p>259280 rows × 8 columns</p>\n",
       "</div>"
      ],
      "text/plain": [
       "          area    year  room storage parking elevator   district         price\n",
       "0         84.0  1399.0   2.0    True    True    False       پرند  2.400000e+08\n",
       "3       1300.0  1395.0   3.0    True    True      NaN   فیروزکوه  4.000000e+09\n",
       "5       5505.0  1399.0   4.0     NaN     NaN      NaN      چیتگر  2.270000e+11\n",
       "6       1360.0     NaN   NaN     NaN     NaN      NaN   فیروزکوه  1.250000e+09\n",
       "7         53.0  1394.0   1.0    True    True     True  نازی‌آباد  1.400000e+09\n",
       "...        ...     ...   ...     ...     ...      ...        ...           ...\n",
       "372324  1000.0  1395.0   0.0     NaN     NaN      NaN  رباط کریم           NaN\n",
       "372326   133.0  1395.0   1.0     NaN     NaN      NaN   شهرک غرب           NaN\n",
       "372327  2800.0  1385.0   0.0     NaN     NaN      NaN  رباط کریم           NaN\n",
       "372329     NaN     NaN   NaN     NaN     NaN      NaN   آجودانیه           NaN\n",
       "372331   215.0  1391.0   3.0    True    True     True    نیاوران           NaN\n",
       "\n",
       "[259280 rows x 8 columns]"
      ]
     },
     "execution_count": 32,
     "metadata": {},
     "output_type": "execute_result"
    }
   ],
   "source": [
    "columns_to_select = ['area', 'year', 'room', 'storage', 'parking', 'elevator', 'district', 'price']  \n",
    "df2021_filtered = filtered_df[columns_to_select]  \n",
    "df2021_filtered"
   ]
  },
  {
   "cell_type": "code",
   "execution_count": 33,
   "metadata": {},
   "outputs": [
    {
     "name": "stdout",
     "output_type": "stream",
     "text": [
      "<class 'pandas.core.frame.DataFrame'>\n",
      "Index: 259280 entries, 0 to 372331\n",
      "Data columns (total 19 columns):\n",
      " #   Column         Non-Null Count   Dtype  \n",
      "---  ------         --------------   -----  \n",
      " 0   district       259280 non-null  object \n",
      " 1   token          259280 non-null  object \n",
      " 2   sub_category   259280 non-null  object \n",
      " 3   category       259280 non-null  object \n",
      " 4   business_type  259254 non-null  object \n",
      " 5   price          154363 non-null  float64\n",
      " 6   credit         0 non-null       float64\n",
      " 7   rent           0 non-null       float64\n",
      " 8   title          259280 non-null  object \n",
      " 9   location       259280 non-null  object \n",
      " 10  area           248248 non-null  float64\n",
      " 11  year           223490 non-null  float64\n",
      " 12  room           224629 non-null  float64\n",
      " 13  floor          194281 non-null  float64\n",
      " 14  elevator       194296 non-null  object \n",
      " 15  parking        205385 non-null  object \n",
      " 16  storage        205354 non-null  object \n",
      " 17  balcony        11084 non-null   float64\n",
      " 18  agency         95258 non-null   object \n",
      "dtypes: float64(8), object(11)\n",
      "memory usage: 39.6+ MB\n"
     ]
    }
   ],
   "source": [
    "filtered_df.info()"
   ]
  },
  {
   "cell_type": "code",
   "execution_count": 34,
   "metadata": {},
   "outputs": [
    {
     "data": {
      "text/plain": [
       "array([  84., 1300., 5505., ...,  569.,  964.,  503.])"
      ]
     },
     "execution_count": 34,
     "metadata": {},
     "output_type": "execute_result"
    }
   ],
   "source": [
    "filtered_df['area'].unique() #The buildings above 2000 meter are not still apartments so we will filer area > 2000 and <20 meter"
   ]
  },
  {
   "cell_type": "code",
   "execution_count": 35,
   "metadata": {},
   "outputs": [],
   "source": [
    "df2021_filtered = df2021_filtered[(df2021_filtered['area'] >20) & (df2021_filtered['area'] < 2000)] "
   ]
  },
  {
   "cell_type": "code",
   "execution_count": 36,
   "metadata": {},
   "outputs": [
    {
     "data": {
      "text/plain": [
       "array([True, nan, False, 'دارد', 'ندارد'], dtype=object)"
      ]
     },
     "execution_count": 36,
     "metadata": {},
     "output_type": "execute_result"
    }
   ],
   "source": [
    "filtered_df['parking'].unique() #Lets standardize all values"
   ]
  },
  {
   "cell_type": "code",
   "execution_count": 37,
   "metadata": {},
   "outputs": [],
   "source": [
    "df2021_filtered['parking'] = df2021_filtered['parking'].replace({'ندارد':'False' , 'دارد':'True'}).astype('str').replace({'nan':np.nan})"
   ]
  },
  {
   "cell_type": "code",
   "execution_count": 38,
   "metadata": {},
   "outputs": [
    {
     "data": {
      "text/plain": [
       "array(['True', nan, 'False'], dtype=object)"
      ]
     },
     "execution_count": 38,
     "metadata": {},
     "output_type": "execute_result"
    }
   ],
   "source": [
    "df2021_filtered['parking'].unique()"
   ]
  },
  {
   "cell_type": "code",
   "execution_count": 39,
   "metadata": {},
   "outputs": [
    {
     "data": {
      "text/plain": [
       "array([True, nan, False, 'دارد', 'ندارد'], dtype=object)"
      ]
     },
     "execution_count": 39,
     "metadata": {},
     "output_type": "execute_result"
    }
   ],
   "source": [
    "filtered_df['storage'].unique()"
   ]
  },
  {
   "cell_type": "code",
   "execution_count": 40,
   "metadata": {},
   "outputs": [],
   "source": [
    "df2021_filtered['storage'] = df2021_filtered['storage'].replace({'ندارد':'False' , 'دارد':'True'}).astype('str').replace({'nan':np.nan})"
   ]
  },
  {
   "cell_type": "code",
   "execution_count": 41,
   "metadata": {},
   "outputs": [
    {
     "data": {
      "text/plain": [
       "array(['True', nan, 'False'], dtype=object)"
      ]
     },
     "execution_count": 41,
     "metadata": {},
     "output_type": "execute_result"
    }
   ],
   "source": [
    "df2021_filtered['storage'].unique()"
   ]
  },
  {
   "cell_type": "code",
   "execution_count": 42,
   "metadata": {},
   "outputs": [
    {
     "data": {
      "text/plain": [
       "array([ 2.,  3.,  4., nan,  1.,  0.])"
      ]
     },
     "execution_count": 42,
     "metadata": {},
     "output_type": "execute_result"
    }
   ],
   "source": [
    "filtered_df['room'].unique()"
   ]
  },
  {
   "cell_type": "code",
   "execution_count": 43,
   "metadata": {},
   "outputs": [
    {
     "data": {
      "text/plain": [
       "array([1399., 1395.,   nan, 1394., 1385., 1382., 1397., 1374., 1390.,\n",
       "       1392., 1388., 1383., 1370., 1391., 1375., 1387., 1398., 1386.,\n",
       "       1384., 1389., 1371., 1393., 1373., 1396., 1379., 1380., 1381.,\n",
       "       1377., 1378., 1376., 1372.])"
      ]
     },
     "execution_count": 43,
     "metadata": {},
     "output_type": "execute_result"
    }
   ],
   "source": [
    "filtered_df['year'].unique()"
   ]
  },
  {
   "cell_type": "code",
   "execution_count": 44,
   "metadata": {},
   "outputs": [
    {
     "data": {
      "text/plain": [
       "array([False, nan, True, 'دارد'], dtype=object)"
      ]
     },
     "execution_count": 44,
     "metadata": {},
     "output_type": "execute_result"
    }
   ],
   "source": [
    "filtered_df['elevator'].unique()"
   ]
  },
  {
   "cell_type": "code",
   "execution_count": 45,
   "metadata": {},
   "outputs": [],
   "source": [
    "df2021_filtered['elevator'] = df2021_filtered['elevator'].replace({'ندارد':'False' , 'دارد':'True' }).astype('str').replace({'nan':np.nan})"
   ]
  },
  {
   "cell_type": "code",
   "execution_count": 46,
   "metadata": {},
   "outputs": [
    {
     "data": {
      "text/plain": [
       "array(['False', nan, 'True'], dtype=object)"
      ]
     },
     "execution_count": 46,
     "metadata": {},
     "output_type": "execute_result"
    }
   ],
   "source": [
    "df2021_filtered['elevator'].unique()"
   ]
  },
  {
   "cell_type": "code",
   "execution_count": 47,
   "metadata": {},
   "outputs": [
    {
     "data": {
      "text/plain": [
       "array(['پرند', 'فیروزکوه', 'چیتگر', 'نازی\\u200cآباد', 'آذربایجان', 'دروس',\n",
       "       'آهنگ', 'سبلان', 'جردن', 'شهر ری - هاشم\\u200cآباد',\n",
       "       'دریاچه شهدای خلیج فارس', 'اندیشه', 'پلیس', 'دولاب', 'پردیس',\n",
       "       'رباط کریم', 'اسفندیاری', 'بلوار کشاورز', 'شهریار', 'منیریه',\n",
       "       'باغ فیض', 'زعفرانیه', 'نیاوران', 'ولنجک', 'شوش', 'ورامین',\n",
       "       'سعادت\\u200cآباد', 'تهران\\u200cویلا', 'تهرانپارس غربی', 'سرو آزاد',\n",
       "       'کوی فردوس', 'شهر ری - شهرک شهید مفتح', 'نارمک جنوبی',\n",
       "       'شهرک ولیعصر', 'جنت\\u200cآباد شمالی', 'تهران\\u200cسر',\n",
       "       'جنت\\u200cآباد مرکزی', 'شهرک غرب', 'جنت\\u200cآباد جنوبی', 'شهادت',\n",
       "       'سیدخندان', 'کوهک', 'ستارخان', 'اتابک', 'دهکده المپیک', 'لواسان',\n",
       "       'فشم', 'سلیمانی', 'کن', 'افسریه', 'زرگنده', 'گرگان', 'فرمانیه',\n",
       "       'پیروزی', 'شهران جنوبی', 'مهرآباد جنوبی', 'فرحزاد', 'خلیج فارس',\n",
       "       'تسلیحات', 'شهر قدس', 'امام حسین(ع)', 'مرادآباد', 'بومهن',\n",
       "       'عباس\\u200cآباد', 'حسن\\u200cآباد', 'سلسبیل', 'آجودانیه', 'قیام',\n",
       "       'حکیمیه', 'دروازه شمیران', 'قرچک', 'میدان ولیعصر',\n",
       "       'خانی\\u200cآباد نو', 'مسعودیه', 'پاکدشت', 'الهیه',\n",
       "       'شهر ری - استخر', 'کرمان', 'شهرک فردوس', 'شهرک راه\\u200cآهن',\n",
       "       'زمزم', 'نارمک', 'رودهن', 'پونک', 'عبدل\\u200cآباد',\n",
       "       'گیشا (کوی نصر)', 'شادآباد', 'دریا', 'جوانمرد قصاب',\n",
       "       'شهر ری - اقدسیه', 'فیروزآبادی', 'محمودیه', 'هاشمی',\n",
       "       'شهرک فرهنگیان', 'جیحون', 'تهرانپارس شرقی', 'خاوران',\n",
       "       'سازمان برنامه', 'دولتخواه', 'دولت\\u200cآباد', 'شهر زیبا',\n",
       "       'ظهیرآباد', 'جوادیه', 'نظام\\u200cآباد', 'پاسداران', 'قیطریه',\n",
       "       'شریف\\u200cآباد', 'گمرک', 'صادقیه', 'یاخچی\\u200cآباد', 'هروی',\n",
       "       'ونک', 'حسین\\u200cآباد', 'بریانک', 'میدان حر',\n",
       "       'شهر ری - تقی\\u200cآباد', 'سازمان آب', 'اختیاریه', 'ملک\\u200cآباد',\n",
       "       'تولید دارو', 'المهدی', 'شهران شمالی', 'فلاح', 'کاروان',\n",
       "       'امیر بهادر', 'سرآسیاب مهرآباد', 'شهرک نفت (منطقه ۵)',\n",
       "       'شهرک کیانشهر', 'عبدالله\\u200cآباد', 'بهارستان', 'مولوی', 'درکه',\n",
       "       'تهران\\u200cنو', 'مرزداران', 'هفت حوض', 'آبشار تهران', 'خزانه',\n",
       "       'وردآورد', 'آرژانتین', 'امیریه', 'شمس\\u200cآباد', 'مشیریه',\n",
       "       'قلمستان', 'نعمت\\u200cآباد', 'امیرآباد', 'درب دوم', 'ازگل',\n",
       "       'یوسف\\u200cآباد', 'قیام\\u200cدشت', 'امامت', 'استاد معین',\n",
       "       'ابن بابویه', 'دیلمان', 'دریان\\u200cنو', 'گلچین', 'طرشت', 'آبشار',\n",
       "       'خاک سفید', 'امامزاده حسن(ع)', 'وحیدیه', 'گاندی', 'بلورسازی',\n",
       "       'نواب', 'شیخ هادی', 'مجیدیه', 'ایوانک', 'شاهین', 'جلفا',\n",
       "       'یافت\\u200cآباد', 'خواجه نصیر طوسی', 'مخصوص', 'فاطمی', 'جی',\n",
       "       'قنات\\u200cکوثر', 'مبارک\\u200cآباد بهشتی', 'دارآباد', 'اباذر',\n",
       "       'شهرک پرواز', 'شمشیری', 'زنجان', 'سهروردی', 'شریف', 'آسمان',\n",
       "       'شهرک پاسداران', 'سنایی', 'شهرک نفت (منطقه ۱)', 'هاشم\\u200cآباد',\n",
       "       'عارف', 'صالح\\u200cآباد شرقی', 'شهر ری - عباس\\u200cآباد',\n",
       "       'کامرانیه', 'استخر', 'شکوفه', 'شهرک امام خمینی', 'نیلوفر',\n",
       "       'کوی مهران', 'تجریش', 'ظفر', 'صفا', 'میرداماد',\n",
       "       'صفائیه (چشمه علی)', 'ابوذر (منطقه ۱۵)', 'بهمن یار', 'حشمتیه',\n",
       "       'اوقاف', 'کوی فراز', 'حسن\\u200cآباد باقرفر', 'هزارسنگ',\n",
       "       'شارق شرقی', 'اقدسیه', 'امین حضور', 'شهرک آپادانا', 'دبستان',\n",
       "       'بازار', 'علی\\u200cآباد', 'هوانیروز', 'جمهوری', 'نیرو هوایی',\n",
       "       'ارامنه', 'سوهانک', 'ایرانشهر', 'فردوسی', 'خانی\\u200cآباد',\n",
       "       'دانشگاه علم و صنعت', 'کوثر', 'شهرک شریعتی', 'توانیر', 'شیوا',\n",
       "       'پاتریس لومومبا', 'سعیدآباد', 'اراج', 'امامزاده قاسم', 'دزاشیب',\n",
       "       'جوادیه تهرانپارس', 'سنگلج', 'دکتر هوشیار', 'ارم',\n",
       "       'شهرک شهید باقری', 'ایران', 'فدک', 'طوس', 'جلیلی', 'شیان',\n",
       "       'شهید دستغیب', 'جمال\\u200cزاده', 'لویزان', 'باغ فردوس',\n",
       "       'منصوریه (پل سیمان)', 'پرواز', 'زرکش', 'شهرک امید', 'سیزده آبان',\n",
       "       'قلهک', 'شمیران\\u200cنو', 'باغ خزانه', 'توحید', 'پرستار', 'شادمهر',\n",
       "       'کوی هفدهم شهریور', 'شهرک ژاندارمری', 'مینابی', 'آذری', 'هفت چنار',\n",
       "       'بهار', 'شهر ری - علائین', 'چهارصد دستگاه', 'جابری', 'سپهر',\n",
       "       'اتحاد', 'حافظیه', 'اکباتان', 'کوی بیمه', 'دردشت', 'شهرآرا',\n",
       "       'بهداشت', 'طیب', 'خواجه نظام الملک', 'جهاد', 'میدان انقلاب',\n",
       "       'سرخه حصار', 'سرتخت', 'مینا', 'سیروس', 'شهرک دانشگاه تهران',\n",
       "       'زهتابی', 'جماران', 'زاهد گیلانی', 'اوین', 'دربند', 'مجیدآباد',\n",
       "       'قبا', 'شاهد', 'کاشانک', 'حکمت', 'فتح', 'شبیری', 'لشکر',\n",
       "       'شهرک دریا', 'زیبادشت', 'گلاب دره', 'دانشگاه شریف', 'نصرت',\n",
       "       'اسکندری', 'شهرک کوهسار', 'چیذر', 'شیرازی', 'بهجت\\u200cآباد',\n",
       "       'سرآسیاب دولاب', 'کاظم\\u200cآباد', 'وصفنارد', 'شهرک آزادی',\n",
       "       'قاسم\\u200cآباد', 'پامنار', 'شهید رجایی', 'ده\\u200cونک', 'آرارات',\n",
       "       'امام سجاد(ع)', 'باغ آذری', 'امانیه', 'کوی نوبنیاد', 'دلگشا',\n",
       "       'شهرک طالقانی', 'شهرک والفجر (منطقه ۶)', 'شهرک محلاتی',\n",
       "       'شهرک مسلمین', 'سلامت', 'شاندیز', 'شهید اسدی', 'صد دستگاه',\n",
       "       'بهاران', 'ائمه اطهار', 'خاقانی', 'مدائن', 'صاحب الزمان',\n",
       "       'شهرک استقلال', 'نجات اللهی', 'مسگرآباد', 'شهید بروجردی',\n",
       "       'شهرک تختی', 'آشتیانی', 'نبی اکرم(ص)', 'بیسیم', 'شهرک سینمایی',\n",
       "       'شهرک صدرا', 'حصارک', 'حمزه\\u200cآباد', 'دهقان', 'شهرک ابوذر',\n",
       "       'ابراهیم\\u200cآباد', 'شهرک دانشگاهی', 'تاکسیرانی', 'شهرک گلها',\n",
       "       'شهرک شریفی', 'دانشگاه تهران', 'مقدم', 'کریم\\u200cآباد',\n",
       "       'شهید آوینی', 'قزل قلعه', 'حصار بوعلی', 'فرودگاه مهرآباد',\n",
       "       'شهرک غزالی', 'باغ رضوان', 'شهرک آسمان', 'قصر فیروزه ۲',\n",
       "       'شهرک امیرالمومنین'], dtype=object)"
      ]
     },
     "execution_count": 47,
     "metadata": {},
     "output_type": "execute_result"
    }
   ],
   "source": [
    "filtered_df['district'].unique()"
   ]
  },
  {
   "cell_type": "code",
   "execution_count": 48,
   "metadata": {},
   "outputs": [
    {
     "data": {
      "text/plain": [
       "array([2.400e+08, 4.000e+09, 2.270e+11, ..., 1.658e+10, 5.700e+06,\n",
       "       5.387e+08])"
      ]
     },
     "execution_count": 48,
     "metadata": {},
     "output_type": "execute_result"
    }
   ],
   "source": [
    "filtered_df['price'].unique()"
   ]
  },
  {
   "cell_type": "code",
   "execution_count": 49,
   "metadata": {},
   "outputs": [],
   "source": [
    "df2021_filtered = df2021_filtered.dropna()"
   ]
  },
  {
   "cell_type": "code",
   "execution_count": 50,
   "metadata": {},
   "outputs": [
    {
     "data": {
      "text/html": [
       "<style type=\"text/css\">\n",
       "#T_02865_row0_col3, #T_02865_row1_col3, #T_02865_row2_col3, #T_02865_row3_col3, #T_02865_row4_col3, #T_02865_row5_col3, #T_02865_row6_col3, #T_02865_row7_col3 {\n",
       "  background-color: #ebf3eb;\n",
       "  color: #000000;\n",
       "}\n",
       "</style>\n",
       "<table id=\"T_02865\">\n",
       "  <thead>\n",
       "    <tr>\n",
       "      <th class=\"blank level0\" >&nbsp;</th>\n",
       "      <th id=\"T_02865_level0_col0\" class=\"col_heading level0 col0\" >columns</th>\n",
       "      <th id=\"T_02865_level0_col1\" class=\"col_heading level0 col1\" >Type</th>\n",
       "      <th id=\"T_02865_level0_col2\" class=\"col_heading level0 col2\" >Total null</th>\n",
       "      <th id=\"T_02865_level0_col3\" class=\"col_heading level0 col3\" >%</th>\n",
       "    </tr>\n",
       "  </thead>\n",
       "  <tbody>\n",
       "    <tr>\n",
       "      <th id=\"T_02865_level0_row0\" class=\"row_heading level0 row0\" >0</th>\n",
       "      <td id=\"T_02865_row0_col0\" class=\"data row0 col0\" >area</td>\n",
       "      <td id=\"T_02865_row0_col1\" class=\"data row0 col1\" >float64</td>\n",
       "      <td id=\"T_02865_row0_col2\" class=\"data row0 col2\" >0</td>\n",
       "      <td id=\"T_02865_row0_col3\" class=\"data row0 col3\" >0.00</td>\n",
       "    </tr>\n",
       "    <tr>\n",
       "      <th id=\"T_02865_level0_row1\" class=\"row_heading level0 row1\" >1</th>\n",
       "      <td id=\"T_02865_row1_col0\" class=\"data row1 col0\" >year</td>\n",
       "      <td id=\"T_02865_row1_col1\" class=\"data row1 col1\" >float64</td>\n",
       "      <td id=\"T_02865_row1_col2\" class=\"data row1 col2\" >0</td>\n",
       "      <td id=\"T_02865_row1_col3\" class=\"data row1 col3\" >0.00</td>\n",
       "    </tr>\n",
       "    <tr>\n",
       "      <th id=\"T_02865_level0_row2\" class=\"row_heading level0 row2\" >2</th>\n",
       "      <td id=\"T_02865_row2_col0\" class=\"data row2 col0\" >room</td>\n",
       "      <td id=\"T_02865_row2_col1\" class=\"data row2 col1\" >float64</td>\n",
       "      <td id=\"T_02865_row2_col2\" class=\"data row2 col2\" >0</td>\n",
       "      <td id=\"T_02865_row2_col3\" class=\"data row2 col3\" >0.00</td>\n",
       "    </tr>\n",
       "    <tr>\n",
       "      <th id=\"T_02865_level0_row3\" class=\"row_heading level0 row3\" >3</th>\n",
       "      <td id=\"T_02865_row3_col0\" class=\"data row3 col0\" >storage</td>\n",
       "      <td id=\"T_02865_row3_col1\" class=\"data row3 col1\" >object</td>\n",
       "      <td id=\"T_02865_row3_col2\" class=\"data row3 col2\" >0</td>\n",
       "      <td id=\"T_02865_row3_col3\" class=\"data row3 col3\" >0.00</td>\n",
       "    </tr>\n",
       "    <tr>\n",
       "      <th id=\"T_02865_level0_row4\" class=\"row_heading level0 row4\" >4</th>\n",
       "      <td id=\"T_02865_row4_col0\" class=\"data row4 col0\" >parking</td>\n",
       "      <td id=\"T_02865_row4_col1\" class=\"data row4 col1\" >object</td>\n",
       "      <td id=\"T_02865_row4_col2\" class=\"data row4 col2\" >0</td>\n",
       "      <td id=\"T_02865_row4_col3\" class=\"data row4 col3\" >0.00</td>\n",
       "    </tr>\n",
       "    <tr>\n",
       "      <th id=\"T_02865_level0_row5\" class=\"row_heading level0 row5\" >5</th>\n",
       "      <td id=\"T_02865_row5_col0\" class=\"data row5 col0\" >elevator</td>\n",
       "      <td id=\"T_02865_row5_col1\" class=\"data row5 col1\" >object</td>\n",
       "      <td id=\"T_02865_row5_col2\" class=\"data row5 col2\" >0</td>\n",
       "      <td id=\"T_02865_row5_col3\" class=\"data row5 col3\" >0.00</td>\n",
       "    </tr>\n",
       "    <tr>\n",
       "      <th id=\"T_02865_level0_row6\" class=\"row_heading level0 row6\" >6</th>\n",
       "      <td id=\"T_02865_row6_col0\" class=\"data row6 col0\" >district</td>\n",
       "      <td id=\"T_02865_row6_col1\" class=\"data row6 col1\" >object</td>\n",
       "      <td id=\"T_02865_row6_col2\" class=\"data row6 col2\" >0</td>\n",
       "      <td id=\"T_02865_row6_col3\" class=\"data row6 col3\" >0.00</td>\n",
       "    </tr>\n",
       "    <tr>\n",
       "      <th id=\"T_02865_level0_row7\" class=\"row_heading level0 row7\" >7</th>\n",
       "      <td id=\"T_02865_row7_col0\" class=\"data row7 col0\" >price</td>\n",
       "      <td id=\"T_02865_row7_col1\" class=\"data row7 col1\" >float64</td>\n",
       "      <td id=\"T_02865_row7_col2\" class=\"data row7 col2\" >0</td>\n",
       "      <td id=\"T_02865_row7_col3\" class=\"data row7 col3\" >0.00</td>\n",
       "    </tr>\n",
       "  </tbody>\n",
       "</table>\n"
      ],
      "text/plain": [
       "<pandas.io.formats.style.Styler at 0x12605a88b90>"
      ]
     },
     "execution_count": 50,
     "metadata": {},
     "output_type": "execute_result"
    }
   ],
   "source": [
    "percentage_result = df2021_filtered.isnull().sum()/df2021_filtered.shape[0] * 100\n",
    "column_type = [df2021_filtered[col].dtype for col in df2021_filtered.columns]\n",
    "# create a DataFrame to show case the result\n",
    "percentage_result = pd.DataFrame({\"columns\": percentage_result.keys(), \"Type\" : column_type ,\"Total null\" :  df2021_filtered.isnull().sum() ,\"%\": percentage_result.round(2) })\n",
    "percentage_result.reset_index(drop=True, inplace=True)\n",
    "cm = sns.light_palette(\"green\", as_cmap=True)\n",
    "percentage_result.style.background_gradient(cmap=cm , subset=['%']).format({'%': '{:.2f}'}) "
   ]
  },
  {
   "cell_type": "code",
   "execution_count": 51,
   "metadata": {},
   "outputs": [
    {
     "name": "stdout",
     "output_type": "stream",
     "text": [
      "<class 'pandas.core.frame.DataFrame'>\n",
      "Index: 126538 entries, 0 to 372297\n",
      "Data columns (total 8 columns):\n",
      " #   Column    Non-Null Count   Dtype  \n",
      "---  ------    --------------   -----  \n",
      " 0   area      126538 non-null  float64\n",
      " 1   year      126538 non-null  float64\n",
      " 2   room      126538 non-null  float64\n",
      " 3   storage   126538 non-null  object \n",
      " 4   parking   126538 non-null  object \n",
      " 5   elevator  126538 non-null  object \n",
      " 6   district  126538 non-null  object \n",
      " 7   price     126538 non-null  float64\n",
      "dtypes: float64(4), object(4)\n",
      "memory usage: 8.7+ MB\n"
     ]
    }
   ],
   "source": [
    "df2021_filtered.info()"
   ]
  },
  {
   "cell_type": "code",
   "execution_count": 52,
   "metadata": {},
   "outputs": [],
   "source": [
    "df2021_filtered['Price/Meter'] = df2021_filtered['price'] / df2021_filtered['area']\n",
    "df2021_filtered.columns = ['Area', 'Construction', 'Room', 'Warehouse', 'Parking', 'Elevator', 'District', 'Price', 'Price/Meter']"
   ]
  },
  {
   "cell_type": "code",
   "execution_count": 53,
   "metadata": {},
   "outputs": [
    {
     "name": "stdout",
     "output_type": "stream",
     "text": [
      "<class 'pandas.core.frame.DataFrame'>\n",
      "Index: 126538 entries, 0 to 372297\n",
      "Data columns (total 10 columns):\n",
      " #   Column        Non-Null Count   Dtype  \n",
      "---  ------        --------------   -----  \n",
      " 0   Area          126538 non-null  float64\n",
      " 1   Construction  126538 non-null  float64\n",
      " 2   Room          126538 non-null  float64\n",
      " 3   Warehouse     126538 non-null  object \n",
      " 4   Parking       126538 non-null  object \n",
      " 5   Elevator      126538 non-null  object \n",
      " 6   District      126538 non-null  object \n",
      " 7   Price         126538 non-null  float64\n",
      " 8   Price/Meter   126538 non-null  float64\n",
      " 9   Year          126538 non-null  object \n",
      "dtypes: float64(5), object(5)\n",
      "memory usage: 10.6+ MB\n"
     ]
    }
   ],
   "source": [
    "df2023['Year'] = '2023'\n",
    "df2021_filtered['Year'] = '2021'\n",
    "df2021_filtered.info()"
   ]
  },
  {
   "cell_type": "code",
   "execution_count": 54,
   "metadata": {},
   "outputs": [
    {
     "data": {
      "text/plain": [
       "['پرند',\n",
       " 'شهر ری - هاشم\\u200cآباد',\n",
       " 'اندیشه',\n",
       " 'پردیس',\n",
       " 'رباط کریم',\n",
       " 'شهریار',\n",
       " 'ورامین',\n",
       " 'شهر قدس',\n",
       " 'لواسان',\n",
       " 'رودهن',\n",
       " 'فیروزکوه',\n",
       " 'پاکدشت',\n",
       " 'شهر ری - اقدسیه',\n",
       " 'قرچک',\n",
       " 'بومهن',\n",
       " 'فشم',\n",
       " 'شهر ری - شهرک شهید مفتح',\n",
       " 'شهر ری - استخر',\n",
       " 'پرواز',\n",
       " 'شهر ری - تقی\\u200cآباد',\n",
       " 'شهرک استقلال',\n",
       " 'شهر ری - عباس\\u200cآباد',\n",
       " 'شهر ری - علائین',\n",
       " 'عبدالله\\u200cآباد',\n",
       " 'شهرک دانشگاهی']"
      ]
     },
     "execution_count": 54,
     "metadata": {},
     "output_type": "execute_result"
    }
   ],
   "source": [
    "dist_name =[]\n",
    "unmatched_dist = []\n",
    "for i in df2021_filtered['District'].unique():\n",
    "    if i in df2023['District'].unique():\n",
    "        dist_name.append(i)\n",
    "    else:\n",
    "        unmatched_dist.append(i)\n",
    "        \n",
    "unmatched_dist"
   ]
  },
  {
   "cell_type": "code",
   "execution_count": 55,
   "metadata": {},
   "outputs": [],
   "source": [
    "df2023_finall  = df2023[['Year','Area', 'Construction', 'Room', 'Warehouse', 'Parking', 'Elevator', 'District', 'Price', 'Price/Meter']]\n",
    "df2021_finall = df2021_filtered[['Year','Area', 'Construction', 'Room', 'Warehouse', 'Parking', 'Elevator', 'District', 'Price', 'Price/Meter']]\n",
    "\n",
    "df2021_2023 = pd.concat([df2023_finall, df2021_finall], ignore_index=True)\n",
    "  \n",
    "df2021_2023 = df2021_2023[~df2021_2023['District'].isin(unmatched_dist)]  "
   ]
  },
  {
   "cell_type": "code",
   "execution_count": 56,
   "metadata": {},
   "outputs": [],
   "source": [
    "MostEpensive2023 = df2021_2023[df2021_2023['Year'] == '2023'].groupby('District').agg({  \n",
    "    'Price/Meter': 'median',  \n",
    "    'Room': 'median',  \n",
    "    'Area': 'mean'  \n",
    "}).reset_index()  \n",
    "\n",
    "true_counts = df2021_2023[df2021_2023['Year'] == '2023'].groupby('District').agg({  \n",
    "    'Warehouse': lambda x: (x == 'True').sum(),  \n",
    "    'Elevator': lambda x: (x == 'True').sum(),  \n",
    "    'Parking': lambda x: (x == 'True').sum()  \n",
    "}).reset_index()  \n",
    "\n",
    "total_counts = df2021_2023[df2021_2023['Year'] == '2023'].groupby('District').size().reset_index(name='Total')  \n",
    " \n",
    "percentage_df = pd.merge(true_counts, total_counts, on='District')  \n",
    " \n",
    "percentage_df['Warehouse%'] = ((percentage_df['Warehouse'] / percentage_df['Total']) * 100  ).round(1)\n",
    "percentage_df['Elevator%'] = ((percentage_df['Elevator'] / percentage_df['Total']) * 100  ).round(1)\n",
    "percentage_df['Parking%'] = ((percentage_df['Parking'] / percentage_df['Total']) * 100  ).round(1)\n",
    "\n",
    "MostEpensive2023 = pd.merge(MostEpensive2023, percentage_df[['District', 'Warehouse%', 'Elevator%', 'Parking%']], on='District', how='left')  \n",
    " \n",
    "MostEpensive2023 = MostEpensive2023.sort_values(by='Price/Meter', ascending=False)  \n",
    "\n",
    "MostEpensive2023['DistaceOfMeadian'] = (MostEpensive2023['Price/Meter'] / df2023['Price/Meter'].median()).round(2)\n",
    "MostEpensive2023['Price/Meter'] = MostEpensive2023['Price/Meter'] \n",
    "MostEpensive2023['Area'] = (MostEpensive2023['Area']).round(2)\n"
   ]
  },
  {
   "cell_type": "code",
   "execution_count": 57,
   "metadata": {},
   "outputs": [
    {
     "data": {
      "text/html": [
       "<div>\n",
       "<style scoped>\n",
       "    .dataframe tbody tr th:only-of-type {\n",
       "        vertical-align: middle;\n",
       "    }\n",
       "\n",
       "    .dataframe tbody tr th {\n",
       "        vertical-align: top;\n",
       "    }\n",
       "\n",
       "    .dataframe thead th {\n",
       "        text-align: right;\n",
       "    }\n",
       "</style>\n",
       "<table border=\"1\" class=\"dataframe\">\n",
       "  <thead>\n",
       "    <tr style=\"text-align: right;\">\n",
       "      <th></th>\n",
       "      <th>District</th>\n",
       "      <th>Price/Meter</th>\n",
       "      <th>Room</th>\n",
       "      <th>Area</th>\n",
       "      <th>Warehouse%</th>\n",
       "      <th>Elevator%</th>\n",
       "      <th>Parking%</th>\n",
       "      <th>DistaceOfMeadian</th>\n",
       "    </tr>\n",
       "  </thead>\n",
       "  <tbody>\n",
       "    <tr>\n",
       "      <th>135</th>\n",
       "      <td>زعفرانیه</td>\n",
       "      <td>1.956522e+08</td>\n",
       "      <td>3.0</td>\n",
       "      <td>243.80</td>\n",
       "      <td>99.1</td>\n",
       "      <td>99.6</td>\n",
       "      <td>99.7</td>\n",
       "      <td>2.22</td>\n",
       "    </tr>\n",
       "    <tr>\n",
       "      <th>301</th>\n",
       "      <td>ولنجک</td>\n",
       "      <td>1.853000e+08</td>\n",
       "      <td>3.0</td>\n",
       "      <td>211.61</td>\n",
       "      <td>98.1</td>\n",
       "      <td>99.9</td>\n",
       "      <td>99.9</td>\n",
       "      <td>2.10</td>\n",
       "    </tr>\n",
       "    <tr>\n",
       "      <th>29</th>\n",
       "      <td>الهیه</td>\n",
       "      <td>1.843137e+08</td>\n",
       "      <td>3.0</td>\n",
       "      <td>249.85</td>\n",
       "      <td>98.3</td>\n",
       "      <td>98.9</td>\n",
       "      <td>99.1</td>\n",
       "      <td>2.09</td>\n",
       "    </tr>\n",
       "    <tr>\n",
       "      <th>259</th>\n",
       "      <td>محمودیه</td>\n",
       "      <td>1.798438e+08</td>\n",
       "      <td>3.0</td>\n",
       "      <td>228.34</td>\n",
       "      <td>98.0</td>\n",
       "      <td>99.7</td>\n",
       "      <td>100.0</td>\n",
       "      <td>2.04</td>\n",
       "    </tr>\n",
       "    <tr>\n",
       "      <th>316</th>\n",
       "      <td>کامرانیه</td>\n",
       "      <td>1.675676e+08</td>\n",
       "      <td>3.0</td>\n",
       "      <td>225.12</td>\n",
       "      <td>97.8</td>\n",
       "      <td>99.6</td>\n",
       "      <td>99.6</td>\n",
       "      <td>1.90</td>\n",
       "    </tr>\n",
       "    <tr>\n",
       "      <th>288</th>\n",
       "      <td>نیاوران</td>\n",
       "      <td>1.568627e+08</td>\n",
       "      <td>3.0</td>\n",
       "      <td>198.49</td>\n",
       "      <td>97.5</td>\n",
       "      <td>99.1</td>\n",
       "      <td>98.8</td>\n",
       "      <td>1.78</td>\n",
       "    </tr>\n",
       "    <tr>\n",
       "      <th>242</th>\n",
       "      <td>فرمانیه</td>\n",
       "      <td>1.568627e+08</td>\n",
       "      <td>3.0</td>\n",
       "      <td>210.36</td>\n",
       "      <td>99.0</td>\n",
       "      <td>99.5</td>\n",
       "      <td>99.0</td>\n",
       "      <td>1.78</td>\n",
       "    </tr>\n",
       "    <tr>\n",
       "      <th>294</th>\n",
       "      <td>هزارسنگ</td>\n",
       "      <td>1.566952e+08</td>\n",
       "      <td>3.0</td>\n",
       "      <td>159.50</td>\n",
       "      <td>100.0</td>\n",
       "      <td>100.0</td>\n",
       "      <td>100.0</td>\n",
       "      <td>1.78</td>\n",
       "    </tr>\n",
       "    <tr>\n",
       "      <th>94</th>\n",
       "      <td>حصار بوعلی</td>\n",
       "      <td>1.547009e+08</td>\n",
       "      <td>3.0</td>\n",
       "      <td>227.64</td>\n",
       "      <td>100.0</td>\n",
       "      <td>100.0</td>\n",
       "      <td>100.0</td>\n",
       "      <td>1.75</td>\n",
       "    </tr>\n",
       "    <tr>\n",
       "      <th>27</th>\n",
       "      <td>اقدسیه</td>\n",
       "      <td>1.535654e+08</td>\n",
       "      <td>3.0</td>\n",
       "      <td>222.46</td>\n",
       "      <td>97.8</td>\n",
       "      <td>99.1</td>\n",
       "      <td>99.1</td>\n",
       "      <td>1.74</td>\n",
       "    </tr>\n",
       "    <tr>\n",
       "      <th>117</th>\n",
       "      <td>دروس</td>\n",
       "      <td>1.500000e+08</td>\n",
       "      <td>3.0</td>\n",
       "      <td>198.33</td>\n",
       "      <td>96.6</td>\n",
       "      <td>99.6</td>\n",
       "      <td>98.2</td>\n",
       "      <td>1.70</td>\n",
       "    </tr>\n",
       "    <tr>\n",
       "      <th>50</th>\n",
       "      <td>باغ فردوس</td>\n",
       "      <td>1.458333e+08</td>\n",
       "      <td>3.0</td>\n",
       "      <td>212.94</td>\n",
       "      <td>94.3</td>\n",
       "      <td>97.1</td>\n",
       "      <td>100.0</td>\n",
       "      <td>1.65</td>\n",
       "    </tr>\n",
       "    <tr>\n",
       "      <th>34</th>\n",
       "      <td>امامزاده قاسم</td>\n",
       "      <td>1.456897e+08</td>\n",
       "      <td>3.0</td>\n",
       "      <td>197.22</td>\n",
       "      <td>95.9</td>\n",
       "      <td>95.9</td>\n",
       "      <td>98.6</td>\n",
       "      <td>1.65</td>\n",
       "    </tr>\n",
       "    <tr>\n",
       "      <th>46</th>\n",
       "      <td>ایوانک</td>\n",
       "      <td>1.454545e+08</td>\n",
       "      <td>3.0</td>\n",
       "      <td>142.21</td>\n",
       "      <td>84.2</td>\n",
       "      <td>100.0</td>\n",
       "      <td>100.0</td>\n",
       "      <td>1.65</td>\n",
       "    </tr>\n",
       "    <tr>\n",
       "      <th>2</th>\n",
       "      <td>آجودانیه</td>\n",
       "      <td>1.432107e+08</td>\n",
       "      <td>3.0</td>\n",
       "      <td>178.86</td>\n",
       "      <td>97.1</td>\n",
       "      <td>100.0</td>\n",
       "      <td>97.1</td>\n",
       "      <td>1.62</td>\n",
       "    </tr>\n",
       "    <tr>\n",
       "      <th>149</th>\n",
       "      <td>سعادت‌آباد</td>\n",
       "      <td>1.416667e+08</td>\n",
       "      <td>3.0</td>\n",
       "      <td>159.45</td>\n",
       "      <td>94.6</td>\n",
       "      <td>98.7</td>\n",
       "      <td>97.0</td>\n",
       "      <td>1.61</td>\n",
       "    </tr>\n",
       "    <tr>\n",
       "      <th>205</th>\n",
       "      <td>شهرک پاسداران</td>\n",
       "      <td>1.377286e+08</td>\n",
       "      <td>2.0</td>\n",
       "      <td>142.00</td>\n",
       "      <td>100.0</td>\n",
       "      <td>100.0</td>\n",
       "      <td>100.0</td>\n",
       "      <td>1.56</td>\n",
       "    </tr>\n",
       "    <tr>\n",
       "      <th>119</th>\n",
       "      <td>دریا</td>\n",
       "      <td>1.355932e+08</td>\n",
       "      <td>3.0</td>\n",
       "      <td>173.12</td>\n",
       "      <td>97.1</td>\n",
       "      <td>100.0</td>\n",
       "      <td>95.7</td>\n",
       "      <td>1.54</td>\n",
       "    </tr>\n",
       "    <tr>\n",
       "      <th>122</th>\n",
       "      <td>دزاشیب</td>\n",
       "      <td>1.355491e+08</td>\n",
       "      <td>2.0</td>\n",
       "      <td>151.67</td>\n",
       "      <td>94.7</td>\n",
       "      <td>98.7</td>\n",
       "      <td>94.7</td>\n",
       "      <td>1.54</td>\n",
       "    </tr>\n",
       "    <tr>\n",
       "      <th>97</th>\n",
       "      <td>حکمت</td>\n",
       "      <td>1.355042e+08</td>\n",
       "      <td>2.0</td>\n",
       "      <td>151.26</td>\n",
       "      <td>97.3</td>\n",
       "      <td>100.0</td>\n",
       "      <td>100.0</td>\n",
       "      <td>1.54</td>\n",
       "    </tr>\n",
       "  </tbody>\n",
       "</table>\n",
       "</div>"
      ],
      "text/plain": [
       "          District   Price/Meter  Room    Area  Warehouse%  Elevator%  \\\n",
       "135       زعفرانیه  1.956522e+08   3.0  243.80        99.1       99.6   \n",
       "301          ولنجک  1.853000e+08   3.0  211.61        98.1       99.9   \n",
       "29           الهیه  1.843137e+08   3.0  249.85        98.3       98.9   \n",
       "259        محمودیه  1.798438e+08   3.0  228.34        98.0       99.7   \n",
       "316       کامرانیه  1.675676e+08   3.0  225.12        97.8       99.6   \n",
       "288        نیاوران  1.568627e+08   3.0  198.49        97.5       99.1   \n",
       "242        فرمانیه  1.568627e+08   3.0  210.36        99.0       99.5   \n",
       "294        هزارسنگ  1.566952e+08   3.0  159.50       100.0      100.0   \n",
       "94      حصار بوعلی  1.547009e+08   3.0  227.64       100.0      100.0   \n",
       "27          اقدسیه  1.535654e+08   3.0  222.46        97.8       99.1   \n",
       "117           دروس  1.500000e+08   3.0  198.33        96.6       99.6   \n",
       "50       باغ فردوس  1.458333e+08   3.0  212.94        94.3       97.1   \n",
       "34   امامزاده قاسم  1.456897e+08   3.0  197.22        95.9       95.9   \n",
       "46          ایوانک  1.454545e+08   3.0  142.21        84.2      100.0   \n",
       "2         آجودانیه  1.432107e+08   3.0  178.86        97.1      100.0   \n",
       "149     سعادت‌آباد  1.416667e+08   3.0  159.45        94.6       98.7   \n",
       "205  شهرک پاسداران  1.377286e+08   2.0  142.00       100.0      100.0   \n",
       "119           دریا  1.355932e+08   3.0  173.12        97.1      100.0   \n",
       "122         دزاشیب  1.355491e+08   2.0  151.67        94.7       98.7   \n",
       "97            حکمت  1.355042e+08   2.0  151.26        97.3      100.0   \n",
       "\n",
       "     Parking%  DistaceOfMeadian  \n",
       "135      99.7              2.22  \n",
       "301      99.9              2.10  \n",
       "29       99.1              2.09  \n",
       "259     100.0              2.04  \n",
       "316      99.6              1.90  \n",
       "288      98.8              1.78  \n",
       "242      99.0              1.78  \n",
       "294     100.0              1.78  \n",
       "94      100.0              1.75  \n",
       "27       99.1              1.74  \n",
       "117      98.2              1.70  \n",
       "50      100.0              1.65  \n",
       "34       98.6              1.65  \n",
       "46      100.0              1.65  \n",
       "2        97.1              1.62  \n",
       "149      97.0              1.61  \n",
       "205     100.0              1.56  \n",
       "119      95.7              1.54  \n",
       "122      94.7              1.54  \n",
       "97      100.0              1.54  "
      ]
     },
     "execution_count": 57,
     "metadata": {},
     "output_type": "execute_result"
    }
   ],
   "source": [
    "MostEpensive2023.head(20)"
   ]
  },
  {
   "cell_type": "code",
   "execution_count": 58,
   "metadata": {},
   "outputs": [],
   "source": [
    "\n",
    "MostEpensive2021 = df2021_2023[df2021_2023['Year'] == '2021'].groupby('District').agg({  \n",
    "    'Price/Meter': 'median',  \n",
    "    'Room': 'median',  \n",
    "    'Area': 'mean'  \n",
    "}).reset_index()  \n",
    "\n",
    "true_counts = df2021_2023[df2021_2023['Year'] == '2021'].groupby('District').agg({  \n",
    "    'Warehouse': lambda x: (x == 'True').sum(),  \n",
    "    'Elevator': lambda x: (x == 'True').sum(),  \n",
    "    'Parking': lambda x: (x == 'True').sum()  \n",
    "}).reset_index()  \n",
    "\n",
    "total_counts = df2021_2023[df2021_2023['Year'] == '2021'].groupby('District').size().reset_index(name='Total')  \n",
    " \n",
    "percentage_df = pd.merge(true_counts, total_counts, on='District')  \n",
    " \n",
    "percentage_df['Warehouse%'] = ((percentage_df['Warehouse'] / percentage_df['Total']) * 100  ).round(1)\n",
    "percentage_df['Elevator%'] = ((percentage_df['Elevator'] / percentage_df['Total']) * 100  ).round(1)\n",
    "percentage_df['Parking%'] = ((percentage_df['Parking'] / percentage_df['Total']) * 100  ).round(1)\n",
    "\n",
    "MostEpensive2021 = pd.merge(MostEpensive2021, percentage_df[['District', 'Warehouse%', 'Elevator%', 'Parking%']], on='District', how='left')  \n",
    " \n",
    "MostEpensive2021 = MostEpensive2021.sort_values(by='Price/Meter', ascending=False)  \n",
    "\n",
    "MostEpensive2021['DistaceOfMeadian'] = (MostEpensive2021['Price/Meter'] / df2021_filtered['Price/Meter'].median()).round(2)\n",
    "MostEpensive2021['Price/Meter'] = MostEpensive2021['Price/Meter'] \n",
    "MostEpensive2021['Area'] = (MostEpensive2021['Area'] ).round(2)\n",
    "\n"
   ]
  },
  {
   "cell_type": "code",
   "execution_count": 59,
   "metadata": {},
   "outputs": [
    {
     "data": {
      "text/html": [
       "<div>\n",
       "<style scoped>\n",
       "    .dataframe tbody tr th:only-of-type {\n",
       "        vertical-align: middle;\n",
       "    }\n",
       "\n",
       "    .dataframe tbody tr th {\n",
       "        vertical-align: top;\n",
       "    }\n",
       "\n",
       "    .dataframe thead th {\n",
       "        text-align: right;\n",
       "    }\n",
       "</style>\n",
       "<table border=\"1\" class=\"dataframe\">\n",
       "  <thead>\n",
       "    <tr style=\"text-align: right;\">\n",
       "      <th></th>\n",
       "      <th>District</th>\n",
       "      <th>Price/Meter</th>\n",
       "      <th>Room</th>\n",
       "      <th>Area</th>\n",
       "      <th>Warehouse%</th>\n",
       "      <th>Elevator%</th>\n",
       "      <th>Parking%</th>\n",
       "      <th>DistaceOfMeadian</th>\n",
       "    </tr>\n",
       "  </thead>\n",
       "  <tbody>\n",
       "    <tr>\n",
       "      <th>93</th>\n",
       "      <td>حصار بوعلی</td>\n",
       "      <td>1.193548e+08</td>\n",
       "      <td>3.0</td>\n",
       "      <td>262.67</td>\n",
       "      <td>100.0</td>\n",
       "      <td>100.0</td>\n",
       "      <td>100.0</td>\n",
       "      <td>3.76</td>\n",
       "    </tr>\n",
       "    <tr>\n",
       "      <th>134</th>\n",
       "      <td>زعفرانیه</td>\n",
       "      <td>9.090909e+07</td>\n",
       "      <td>3.0</td>\n",
       "      <td>205.01</td>\n",
       "      <td>98.4</td>\n",
       "      <td>95.9</td>\n",
       "      <td>98.0</td>\n",
       "      <td>2.87</td>\n",
       "    </tr>\n",
       "    <tr>\n",
       "      <th>29</th>\n",
       "      <td>الهیه</td>\n",
       "      <td>8.847856e+07</td>\n",
       "      <td>3.0</td>\n",
       "      <td>204.78</td>\n",
       "      <td>98.3</td>\n",
       "      <td>97.7</td>\n",
       "      <td>98.2</td>\n",
       "      <td>2.79</td>\n",
       "    </tr>\n",
       "    <tr>\n",
       "      <th>299</th>\n",
       "      <td>ولنجک</td>\n",
       "      <td>8.529412e+07</td>\n",
       "      <td>3.0</td>\n",
       "      <td>164.59</td>\n",
       "      <td>99.3</td>\n",
       "      <td>96.9</td>\n",
       "      <td>99.6</td>\n",
       "      <td>2.69</td>\n",
       "    </tr>\n",
       "    <tr>\n",
       "      <th>257</th>\n",
       "      <td>محمودیه</td>\n",
       "      <td>8.449519e+07</td>\n",
       "      <td>3.0</td>\n",
       "      <td>170.18</td>\n",
       "      <td>97.9</td>\n",
       "      <td>92.7</td>\n",
       "      <td>98.3</td>\n",
       "      <td>2.66</td>\n",
       "    </tr>\n",
       "    <tr>\n",
       "      <th>240</th>\n",
       "      <td>فرمانیه</td>\n",
       "      <td>8.000000e+07</td>\n",
       "      <td>3.0</td>\n",
       "      <td>199.39</td>\n",
       "      <td>98.9</td>\n",
       "      <td>97.4</td>\n",
       "      <td>98.0</td>\n",
       "      <td>2.52</td>\n",
       "    </tr>\n",
       "    <tr>\n",
       "      <th>314</th>\n",
       "      <td>کامرانیه</td>\n",
       "      <td>8.000000e+07</td>\n",
       "      <td>3.0</td>\n",
       "      <td>186.53</td>\n",
       "      <td>97.4</td>\n",
       "      <td>97.1</td>\n",
       "      <td>98.1</td>\n",
       "      <td>2.52</td>\n",
       "    </tr>\n",
       "    <tr>\n",
       "      <th>286</th>\n",
       "      <td>نیاوران</td>\n",
       "      <td>8.000000e+07</td>\n",
       "      <td>3.0</td>\n",
       "      <td>192.59</td>\n",
       "      <td>98.3</td>\n",
       "      <td>97.2</td>\n",
       "      <td>98.7</td>\n",
       "      <td>2.52</td>\n",
       "    </tr>\n",
       "    <tr>\n",
       "      <th>27</th>\n",
       "      <td>اقدسیه</td>\n",
       "      <td>7.800000e+07</td>\n",
       "      <td>3.0</td>\n",
       "      <td>188.58</td>\n",
       "      <td>97.5</td>\n",
       "      <td>97.2</td>\n",
       "      <td>99.0</td>\n",
       "      <td>2.46</td>\n",
       "    </tr>\n",
       "    <tr>\n",
       "      <th>49</th>\n",
       "      <td>باغ فردوس</td>\n",
       "      <td>7.303846e+07</td>\n",
       "      <td>3.0</td>\n",
       "      <td>204.68</td>\n",
       "      <td>92.9</td>\n",
       "      <td>92.9</td>\n",
       "      <td>92.9</td>\n",
       "      <td>2.30</td>\n",
       "    </tr>\n",
       "    <tr>\n",
       "      <th>116</th>\n",
       "      <td>دروس</td>\n",
       "      <td>7.179487e+07</td>\n",
       "      <td>3.0</td>\n",
       "      <td>174.60</td>\n",
       "      <td>98.1</td>\n",
       "      <td>94.0</td>\n",
       "      <td>96.8</td>\n",
       "      <td>2.26</td>\n",
       "    </tr>\n",
       "    <tr>\n",
       "      <th>45</th>\n",
       "      <td>ایوانک</td>\n",
       "      <td>7.147059e+07</td>\n",
       "      <td>3.0</td>\n",
       "      <td>137.55</td>\n",
       "      <td>100.0</td>\n",
       "      <td>90.0</td>\n",
       "      <td>100.0</td>\n",
       "      <td>2.25</td>\n",
       "    </tr>\n",
       "    <tr>\n",
       "      <th>76</th>\n",
       "      <td>جماران</td>\n",
       "      <td>7.068966e+07</td>\n",
       "      <td>3.0</td>\n",
       "      <td>150.68</td>\n",
       "      <td>96.8</td>\n",
       "      <td>100.0</td>\n",
       "      <td>100.0</td>\n",
       "      <td>2.23</td>\n",
       "    </tr>\n",
       "    <tr>\n",
       "      <th>2</th>\n",
       "      <td>آجودانیه</td>\n",
       "      <td>7.000000e+07</td>\n",
       "      <td>3.0</td>\n",
       "      <td>163.61</td>\n",
       "      <td>99.2</td>\n",
       "      <td>96.9</td>\n",
       "      <td>98.4</td>\n",
       "      <td>2.21</td>\n",
       "    </tr>\n",
       "    <tr>\n",
       "      <th>193</th>\n",
       "      <td>شهرک غرب</td>\n",
       "      <td>6.756522e+07</td>\n",
       "      <td>3.0</td>\n",
       "      <td>145.09</td>\n",
       "      <td>97.5</td>\n",
       "      <td>92.6</td>\n",
       "      <td>96.2</td>\n",
       "      <td>2.13</td>\n",
       "    </tr>\n",
       "    <tr>\n",
       "      <th>35</th>\n",
       "      <td>امانیه</td>\n",
       "      <td>6.700000e+07</td>\n",
       "      <td>2.0</td>\n",
       "      <td>147.92</td>\n",
       "      <td>94.9</td>\n",
       "      <td>89.7</td>\n",
       "      <td>97.4</td>\n",
       "      <td>2.11</td>\n",
       "    </tr>\n",
       "    <tr>\n",
       "      <th>312</th>\n",
       "      <td>کاشانک</td>\n",
       "      <td>6.504000e+07</td>\n",
       "      <td>2.0</td>\n",
       "      <td>138.77</td>\n",
       "      <td>91.5</td>\n",
       "      <td>89.4</td>\n",
       "      <td>93.6</td>\n",
       "      <td>2.05</td>\n",
       "    </tr>\n",
       "    <tr>\n",
       "      <th>96</th>\n",
       "      <td>حکمت</td>\n",
       "      <td>6.500000e+07</td>\n",
       "      <td>2.0</td>\n",
       "      <td>122.75</td>\n",
       "      <td>92.8</td>\n",
       "      <td>97.1</td>\n",
       "      <td>89.9</td>\n",
       "      <td>2.05</td>\n",
       "    </tr>\n",
       "    <tr>\n",
       "      <th>117</th>\n",
       "      <td>درکه</td>\n",
       "      <td>6.454545e+07</td>\n",
       "      <td>2.0</td>\n",
       "      <td>131.19</td>\n",
       "      <td>98.8</td>\n",
       "      <td>90.7</td>\n",
       "      <td>94.2</td>\n",
       "      <td>2.04</td>\n",
       "    </tr>\n",
       "    <tr>\n",
       "      <th>251</th>\n",
       "      <td>قیطریه</td>\n",
       "      <td>6.444444e+07</td>\n",
       "      <td>2.0</td>\n",
       "      <td>131.81</td>\n",
       "      <td>97.9</td>\n",
       "      <td>94.7</td>\n",
       "      <td>97.8</td>\n",
       "      <td>2.03</td>\n",
       "    </tr>\n",
       "  </tbody>\n",
       "</table>\n",
       "</div>"
      ],
      "text/plain": [
       "       District   Price/Meter  Room    Area  Warehouse%  Elevator%  Parking%  \\\n",
       "93   حصار بوعلی  1.193548e+08   3.0  262.67       100.0      100.0     100.0   \n",
       "134    زعفرانیه  9.090909e+07   3.0  205.01        98.4       95.9      98.0   \n",
       "29        الهیه  8.847856e+07   3.0  204.78        98.3       97.7      98.2   \n",
       "299       ولنجک  8.529412e+07   3.0  164.59        99.3       96.9      99.6   \n",
       "257     محمودیه  8.449519e+07   3.0  170.18        97.9       92.7      98.3   \n",
       "240     فرمانیه  8.000000e+07   3.0  199.39        98.9       97.4      98.0   \n",
       "314    کامرانیه  8.000000e+07   3.0  186.53        97.4       97.1      98.1   \n",
       "286     نیاوران  8.000000e+07   3.0  192.59        98.3       97.2      98.7   \n",
       "27       اقدسیه  7.800000e+07   3.0  188.58        97.5       97.2      99.0   \n",
       "49    باغ فردوس  7.303846e+07   3.0  204.68        92.9       92.9      92.9   \n",
       "116        دروس  7.179487e+07   3.0  174.60        98.1       94.0      96.8   \n",
       "45       ایوانک  7.147059e+07   3.0  137.55       100.0       90.0     100.0   \n",
       "76       جماران  7.068966e+07   3.0  150.68        96.8      100.0     100.0   \n",
       "2      آجودانیه  7.000000e+07   3.0  163.61        99.2       96.9      98.4   \n",
       "193    شهرک غرب  6.756522e+07   3.0  145.09        97.5       92.6      96.2   \n",
       "35       امانیه  6.700000e+07   2.0  147.92        94.9       89.7      97.4   \n",
       "312      کاشانک  6.504000e+07   2.0  138.77        91.5       89.4      93.6   \n",
       "96         حکمت  6.500000e+07   2.0  122.75        92.8       97.1      89.9   \n",
       "117        درکه  6.454545e+07   2.0  131.19        98.8       90.7      94.2   \n",
       "251      قیطریه  6.444444e+07   2.0  131.81        97.9       94.7      97.8   \n",
       "\n",
       "     DistaceOfMeadian  \n",
       "93               3.76  \n",
       "134              2.87  \n",
       "29               2.79  \n",
       "299              2.69  \n",
       "257              2.66  \n",
       "240              2.52  \n",
       "314              2.52  \n",
       "286              2.52  \n",
       "27               2.46  \n",
       "49               2.30  \n",
       "116              2.26  \n",
       "45               2.25  \n",
       "76               2.23  \n",
       "2                2.21  \n",
       "193              2.13  \n",
       "35               2.11  \n",
       "312              2.05  \n",
       "96               2.05  \n",
       "117              2.04  \n",
       "251              2.03  "
      ]
     },
     "execution_count": 59,
     "metadata": {},
     "output_type": "execute_result"
    }
   ],
   "source": [
    "MostEpensive2021.head(20)"
   ]
  },
  {
   "cell_type": "code",
   "execution_count": 98,
   "metadata": {},
   "outputs": [],
   "source": [
    " \n",
    "merged_df = pd.merge(MostEpensive2023, MostEpensive2021, on='District', suffixes=('_2023', '_2021'))  \n",
    "\n",
    "# Calculate differences  \n",
    "merged_df['Price/Meter_Diff'] = (merged_df['Price/Meter_2023'] - merged_df['Price/Meter_2021']  )\n",
    "merged_df['Price/Meter_Growth'] =( (merged_df['Price/Meter_2023'] - merged_df['Price/Meter_2021']  )/ merged_df['Price/Meter_2021'] ).round(2)\n",
    "merged_df['Price/Meter_TotalMedian'] =( (merged_df['Price/Meter_2023'] - merged_df['Price/Meter_2021']  )/ df2021_2023['Price/Meter'].median() ).round(2)\n",
    "merged_df['Room_Diff'] = merged_df['Room_2023'] - merged_df['Room_2021']  \n",
    "merged_df['Area_Diff'] = merged_df['Area_2023'] - merged_df['Area_2021']  \n",
    "merged_df['Warehouse%_Diff'] = merged_df['Warehouse%_2023'] - merged_df['Warehouse%_2021']  \n",
    "merged_df['Elevator%_Diff'] = merged_df['Elevator%_2023'] - merged_df['Elevator%_2021']  \n",
    "merged_df['Parking%_Diff'] = merged_df['Parking%_2023'] - merged_df['Parking%_2021']  \n",
    "\n",
    "# Select relevant columns for the final output  \n",
    "result_df = merged_df[['District','Price/Meter_2021','Price/Meter_2023', 'Price/Meter_Diff','Price/Meter_Growth','Price/Meter_TotalMedian', 'Room_Diff', 'Area_Diff',  \n",
    "                        'Warehouse%_Diff', 'Elevator%_Diff', 'Parking%_Diff']] \n",
    "\n",
    "result_df['Price/Meter_Diff'] = result_df['Price/Meter_Diff'].map(lambda x: f\"{x:,.0f}\") "
   ]
  },
  {
   "cell_type": "code",
   "execution_count": 61,
   "metadata": {},
   "outputs": [
    {
     "data": {
      "text/html": [
       "<div>\n",
       "<style scoped>\n",
       "    .dataframe tbody tr th:only-of-type {\n",
       "        vertical-align: middle;\n",
       "    }\n",
       "\n",
       "    .dataframe tbody tr th {\n",
       "        vertical-align: top;\n",
       "    }\n",
       "\n",
       "    .dataframe thead th {\n",
       "        text-align: right;\n",
       "    }\n",
       "</style>\n",
       "<table border=\"1\" class=\"dataframe\">\n",
       "  <thead>\n",
       "    <tr style=\"text-align: right;\">\n",
       "      <th></th>\n",
       "      <th>District</th>\n",
       "      <th>Price/Meter_2021</th>\n",
       "      <th>Price/Meter_2023</th>\n",
       "      <th>Price/Meter_Diff</th>\n",
       "      <th>Price/Meter_Growth</th>\n",
       "      <th>Price/Meter_TotalMedian</th>\n",
       "      <th>Room_Diff</th>\n",
       "      <th>Area_Diff</th>\n",
       "      <th>Warehouse%_Diff</th>\n",
       "      <th>Elevator%_Diff</th>\n",
       "      <th>Parking%_Diff</th>\n",
       "    </tr>\n",
       "  </thead>\n",
       "  <tbody>\n",
       "    <tr>\n",
       "      <th>2</th>\n",
       "      <td>الهیه</td>\n",
       "      <td>8.847856e+07</td>\n",
       "      <td>1.843137e+08</td>\n",
       "      <td>95,835,169</td>\n",
       "      <td>1.08</td>\n",
       "      <td>1.77</td>\n",
       "      <td>0.0</td>\n",
       "      <td>45.07</td>\n",
       "      <td>0.0</td>\n",
       "      <td>1.2</td>\n",
       "      <td>0.9</td>\n",
       "    </tr>\n",
       "    <tr>\n",
       "      <th>3</th>\n",
       "      <td>محمودیه</td>\n",
       "      <td>8.449519e+07</td>\n",
       "      <td>1.798438e+08</td>\n",
       "      <td>95,348,558</td>\n",
       "      <td>1.13</td>\n",
       "      <td>1.77</td>\n",
       "      <td>0.0</td>\n",
       "      <td>58.16</td>\n",
       "      <td>0.1</td>\n",
       "      <td>7.0</td>\n",
       "      <td>1.7</td>\n",
       "    </tr>\n",
       "    <tr>\n",
       "      <th>334</th>\n",
       "      <td>حسن‌آباد باقرفر</td>\n",
       "      <td>5.362319e+06</td>\n",
       "      <td>1.492857e+07</td>\n",
       "      <td>9,566,253</td>\n",
       "      <td>1.78</td>\n",
       "      <td>0.18</td>\n",
       "      <td>0.0</td>\n",
       "      <td>2.41</td>\n",
       "      <td>-52.9</td>\n",
       "      <td>32.4</td>\n",
       "      <td>23.5</td>\n",
       "    </tr>\n",
       "    <tr>\n",
       "      <th>4</th>\n",
       "      <td>کامرانیه</td>\n",
       "      <td>8.000000e+07</td>\n",
       "      <td>1.675676e+08</td>\n",
       "      <td>87,567,568</td>\n",
       "      <td>1.09</td>\n",
       "      <td>1.62</td>\n",
       "      <td>0.0</td>\n",
       "      <td>38.59</td>\n",
       "      <td>0.4</td>\n",
       "      <td>2.5</td>\n",
       "      <td>1.5</td>\n",
       "    </tr>\n",
       "    <tr>\n",
       "      <th>12</th>\n",
       "      <td>امامزاده قاسم</td>\n",
       "      <td>6.296296e+07</td>\n",
       "      <td>1.456897e+08</td>\n",
       "      <td>82,726,692</td>\n",
       "      <td>1.31</td>\n",
       "      <td>1.53</td>\n",
       "      <td>0.0</td>\n",
       "      <td>21.10</td>\n",
       "      <td>7.9</td>\n",
       "      <td>11.9</td>\n",
       "      <td>14.6</td>\n",
       "    </tr>\n",
       "    <tr>\n",
       "      <th>...</th>\n",
       "      <td>...</td>\n",
       "      <td>...</td>\n",
       "      <td>...</td>\n",
       "      <td>...</td>\n",
       "      <td>...</td>\n",
       "      <td>...</td>\n",
       "      <td>...</td>\n",
       "      <td>...</td>\n",
       "      <td>...</td>\n",
       "      <td>...</td>\n",
       "      <td>...</td>\n",
       "    </tr>\n",
       "    <tr>\n",
       "      <th>0</th>\n",
       "      <td>زعفرانیه</td>\n",
       "      <td>9.090909e+07</td>\n",
       "      <td>1.956522e+08</td>\n",
       "      <td>104,743,083</td>\n",
       "      <td>1.15</td>\n",
       "      <td>1.94</td>\n",
       "      <td>0.0</td>\n",
       "      <td>38.79</td>\n",
       "      <td>0.7</td>\n",
       "      <td>3.7</td>\n",
       "      <td>1.7</td>\n",
       "    </tr>\n",
       "    <tr>\n",
       "      <th>7</th>\n",
       "      <td>هزارسنگ</td>\n",
       "      <td>5.340909e+07</td>\n",
       "      <td>1.566952e+08</td>\n",
       "      <td>103,286,066</td>\n",
       "      <td>1.93</td>\n",
       "      <td>1.91</td>\n",
       "      <td>0.5</td>\n",
       "      <td>41.50</td>\n",
       "      <td>0.0</td>\n",
       "      <td>0.0</td>\n",
       "      <td>0.0</td>\n",
       "    </tr>\n",
       "    <tr>\n",
       "      <th>1</th>\n",
       "      <td>ولنجک</td>\n",
       "      <td>8.529412e+07</td>\n",
       "      <td>1.853000e+08</td>\n",
       "      <td>100,005,882</td>\n",
       "      <td>1.17</td>\n",
       "      <td>1.85</td>\n",
       "      <td>0.0</td>\n",
       "      <td>47.02</td>\n",
       "      <td>-1.2</td>\n",
       "      <td>3.0</td>\n",
       "      <td>0.3</td>\n",
       "    </tr>\n",
       "    <tr>\n",
       "      <th>329</th>\n",
       "      <td>مسگرآباد</td>\n",
       "      <td>9.634146e+06</td>\n",
       "      <td>2.000000e+07</td>\n",
       "      <td>10,365,854</td>\n",
       "      <td>1.08</td>\n",
       "      <td>0.19</td>\n",
       "      <td>0.0</td>\n",
       "      <td>1.73</td>\n",
       "      <td>-80.0</td>\n",
       "      <td>80.0</td>\n",
       "      <td>0.0</td>\n",
       "    </tr>\n",
       "    <tr>\n",
       "      <th>326</th>\n",
       "      <td>نعمت‌آباد</td>\n",
       "      <td>1.200000e+07</td>\n",
       "      <td>2.227586e+07</td>\n",
       "      <td>10,275,862</td>\n",
       "      <td>0.86</td>\n",
       "      <td>0.19</td>\n",
       "      <td>1.0</td>\n",
       "      <td>15.10</td>\n",
       "      <td>-0.9</td>\n",
       "      <td>11.5</td>\n",
       "      <td>6.1</td>\n",
       "    </tr>\n",
       "  </tbody>\n",
       "</table>\n",
       "<p>335 rows × 11 columns</p>\n",
       "</div>"
      ],
      "text/plain": [
       "            District  Price/Meter_2021  Price/Meter_2023 Price/Meter_Diff  \\\n",
       "2              الهیه      8.847856e+07      1.843137e+08       95,835,169   \n",
       "3            محمودیه      8.449519e+07      1.798438e+08       95,348,558   \n",
       "334  حسن‌آباد باقرفر      5.362319e+06      1.492857e+07        9,566,253   \n",
       "4           کامرانیه      8.000000e+07      1.675676e+08       87,567,568   \n",
       "12     امامزاده قاسم      6.296296e+07      1.456897e+08       82,726,692   \n",
       "..               ...               ...               ...              ...   \n",
       "0           زعفرانیه      9.090909e+07      1.956522e+08      104,743,083   \n",
       "7            هزارسنگ      5.340909e+07      1.566952e+08      103,286,066   \n",
       "1              ولنجک      8.529412e+07      1.853000e+08      100,005,882   \n",
       "329         مسگرآباد      9.634146e+06      2.000000e+07       10,365,854   \n",
       "326        نعمت‌آباد      1.200000e+07      2.227586e+07       10,275,862   \n",
       "\n",
       "     Price/Meter_Growth  Price/Meter_TotalMedian  Room_Diff  Area_Diff  \\\n",
       "2                  1.08                     1.77        0.0      45.07   \n",
       "3                  1.13                     1.77        0.0      58.16   \n",
       "334                1.78                     0.18        0.0       2.41   \n",
       "4                  1.09                     1.62        0.0      38.59   \n",
       "12                 1.31                     1.53        0.0      21.10   \n",
       "..                  ...                      ...        ...        ...   \n",
       "0                  1.15                     1.94        0.0      38.79   \n",
       "7                  1.93                     1.91        0.5      41.50   \n",
       "1                  1.17                     1.85        0.0      47.02   \n",
       "329                1.08                     0.19        0.0       1.73   \n",
       "326                0.86                     0.19        1.0      15.10   \n",
       "\n",
       "     Warehouse%_Diff  Elevator%_Diff  Parking%_Diff  \n",
       "2                0.0             1.2            0.9  \n",
       "3                0.1             7.0            1.7  \n",
       "334            -52.9            32.4           23.5  \n",
       "4                0.4             2.5            1.5  \n",
       "12               7.9            11.9           14.6  \n",
       "..               ...             ...            ...  \n",
       "0                0.7             3.7            1.7  \n",
       "7                0.0             0.0            0.0  \n",
       "1               -1.2             3.0            0.3  \n",
       "329            -80.0            80.0            0.0  \n",
       "326             -0.9            11.5            6.1  \n",
       "\n",
       "[335 rows x 11 columns]"
      ]
     },
     "execution_count": 61,
     "metadata": {},
     "output_type": "execute_result"
    }
   ],
   "source": [
    "result_df.sort_values(by='Price/Meter_Diff', ascending=False)"
   ]
  },
  {
   "cell_type": "code",
   "execution_count": 62,
   "metadata": {},
   "outputs": [
    {
     "name": "stdout",
     "output_type": "stream",
     "text": [
      "Q1: 44309262.16640502\n",
      "Q2 (Median): 60172413.79310345\n",
      "Q3: 90490079.36507937\n",
      "IQR: 46180817.19867435\n",
      "Margin below Q1: -24961963.631606504\n",
      "Margin above Q3: 159761305.16309088\n"
     ]
    }
   ],
   "source": [
    "# Calculate the quartiles  \n",
    "Q1 = merged_df['Price/Meter_2023'].quantile(0.25)  \n",
    "Q2 = merged_df['Price/Meter_2023'].quantile(0.50)  # This is also the median  \n",
    "Q3 = merged_df['Price/Meter_2023'].quantile(0.75)  \n",
    "\n",
    "# Calculate the Interquartile Range (IQR)  \n",
    "IQR = Q3 - Q1  \n",
    "\n",
    "# Print the results  \n",
    "print(f\"Q1: {Q1}\")  \n",
    "print(f\"Q2 (Median): {Q2}\")  \n",
    "print(f\"Q3: {Q3}\")  \n",
    "print(f\"IQR: {IQR}\")  \n",
    "\n",
    "# Optionally, calculate margins  \n",
    "margin_below_Q1 = Q1 - 1.5 * IQR  \n",
    "margin_above_Q3 = Q3 + 1.5 * IQR  \n",
    "\n",
    "print(f\"Margin below Q1: {margin_below_Q1}\")  \n",
    "print(f\"Margin above Q3: {margin_above_Q3}\")  "
   ]
  },
  {
   "cell_type": "code",
   "execution_count": 99,
   "metadata": {},
   "outputs": [],
   "source": [
    "conditions = [  \n",
    "    (result_df['Price/Meter_2023'] < Q1),  \n",
    "    (result_df['Price/Meter_2023'] >= Q1) & (result_df['Price/Meter_2023'] < Q2),  \n",
    "    (result_df['Price/Meter_2023'] >= Q2) & (result_df['Price/Meter_2023'] < Q3),  \n",
    "    (result_df['Price/Meter_2023'] >= Q3)  \n",
    "]  \n",
    "\n",
    "choices = ['Very Low', 'Medium', 'High', 'Very High']  \n",
    "\n",
    "result_df['Price_Category'] = np.select(conditions, choices)"
   ]
  },
  {
   "cell_type": "code",
   "execution_count": 64,
   "metadata": {},
   "outputs": [
    {
     "data": {
      "text/html": [
       "<div>\n",
       "<style scoped>\n",
       "    .dataframe tbody tr th:only-of-type {\n",
       "        vertical-align: middle;\n",
       "    }\n",
       "\n",
       "    .dataframe tbody tr th {\n",
       "        vertical-align: top;\n",
       "    }\n",
       "\n",
       "    .dataframe thead th {\n",
       "        text-align: right;\n",
       "    }\n",
       "</style>\n",
       "<table border=\"1\" class=\"dataframe\">\n",
       "  <thead>\n",
       "    <tr style=\"text-align: right;\">\n",
       "      <th></th>\n",
       "      <th>District</th>\n",
       "      <th>Price/Meter_2021</th>\n",
       "      <th>Price/Meter_2023</th>\n",
       "      <th>Price/Meter_Diff</th>\n",
       "      <th>Price/Meter_Growth</th>\n",
       "      <th>Price/Meter_TotalMedian</th>\n",
       "      <th>Room_Diff</th>\n",
       "      <th>Area_Diff</th>\n",
       "      <th>Warehouse%_Diff</th>\n",
       "      <th>Elevator%_Diff</th>\n",
       "      <th>Parking%_Diff</th>\n",
       "      <th>Price_Category</th>\n",
       "    </tr>\n",
       "  </thead>\n",
       "  <tbody>\n",
       "    <tr>\n",
       "      <th>0</th>\n",
       "      <td>زعفرانیه</td>\n",
       "      <td>9.090909e+07</td>\n",
       "      <td>1.956522e+08</td>\n",
       "      <td>104,743,083</td>\n",
       "      <td>1.15</td>\n",
       "      <td>1.94</td>\n",
       "      <td>0.0</td>\n",
       "      <td>38.79</td>\n",
       "      <td>0.7</td>\n",
       "      <td>3.7</td>\n",
       "      <td>1.7</td>\n",
       "      <td>Very High</td>\n",
       "    </tr>\n",
       "    <tr>\n",
       "      <th>1</th>\n",
       "      <td>ولنجک</td>\n",
       "      <td>8.529412e+07</td>\n",
       "      <td>1.853000e+08</td>\n",
       "      <td>100,005,882</td>\n",
       "      <td>1.17</td>\n",
       "      <td>1.85</td>\n",
       "      <td>0.0</td>\n",
       "      <td>47.02</td>\n",
       "      <td>-1.2</td>\n",
       "      <td>3.0</td>\n",
       "      <td>0.3</td>\n",
       "      <td>Very High</td>\n",
       "    </tr>\n",
       "    <tr>\n",
       "      <th>2</th>\n",
       "      <td>الهیه</td>\n",
       "      <td>8.847856e+07</td>\n",
       "      <td>1.843137e+08</td>\n",
       "      <td>95,835,169</td>\n",
       "      <td>1.08</td>\n",
       "      <td>1.77</td>\n",
       "      <td>0.0</td>\n",
       "      <td>45.07</td>\n",
       "      <td>0.0</td>\n",
       "      <td>1.2</td>\n",
       "      <td>0.9</td>\n",
       "      <td>Very High</td>\n",
       "    </tr>\n",
       "    <tr>\n",
       "      <th>3</th>\n",
       "      <td>محمودیه</td>\n",
       "      <td>8.449519e+07</td>\n",
       "      <td>1.798438e+08</td>\n",
       "      <td>95,348,558</td>\n",
       "      <td>1.13</td>\n",
       "      <td>1.77</td>\n",
       "      <td>0.0</td>\n",
       "      <td>58.16</td>\n",
       "      <td>0.1</td>\n",
       "      <td>7.0</td>\n",
       "      <td>1.7</td>\n",
       "      <td>Very High</td>\n",
       "    </tr>\n",
       "    <tr>\n",
       "      <th>4</th>\n",
       "      <td>کامرانیه</td>\n",
       "      <td>8.000000e+07</td>\n",
       "      <td>1.675676e+08</td>\n",
       "      <td>87,567,568</td>\n",
       "      <td>1.09</td>\n",
       "      <td>1.62</td>\n",
       "      <td>0.0</td>\n",
       "      <td>38.59</td>\n",
       "      <td>0.4</td>\n",
       "      <td>2.5</td>\n",
       "      <td>1.5</td>\n",
       "      <td>Very High</td>\n",
       "    </tr>\n",
       "    <tr>\n",
       "      <th>5</th>\n",
       "      <td>نیاوران</td>\n",
       "      <td>8.000000e+07</td>\n",
       "      <td>1.568627e+08</td>\n",
       "      <td>76,862,745</td>\n",
       "      <td>0.96</td>\n",
       "      <td>1.42</td>\n",
       "      <td>0.0</td>\n",
       "      <td>5.90</td>\n",
       "      <td>-0.8</td>\n",
       "      <td>1.9</td>\n",
       "      <td>0.1</td>\n",
       "      <td>Very High</td>\n",
       "    </tr>\n",
       "    <tr>\n",
       "      <th>6</th>\n",
       "      <td>فرمانیه</td>\n",
       "      <td>8.000000e+07</td>\n",
       "      <td>1.568627e+08</td>\n",
       "      <td>76,862,745</td>\n",
       "      <td>0.96</td>\n",
       "      <td>1.42</td>\n",
       "      <td>0.0</td>\n",
       "      <td>10.97</td>\n",
       "      <td>0.1</td>\n",
       "      <td>2.1</td>\n",
       "      <td>1.0</td>\n",
       "      <td>Very High</td>\n",
       "    </tr>\n",
       "    <tr>\n",
       "      <th>7</th>\n",
       "      <td>هزارسنگ</td>\n",
       "      <td>5.340909e+07</td>\n",
       "      <td>1.566952e+08</td>\n",
       "      <td>103,286,066</td>\n",
       "      <td>1.93</td>\n",
       "      <td>1.91</td>\n",
       "      <td>0.5</td>\n",
       "      <td>41.50</td>\n",
       "      <td>0.0</td>\n",
       "      <td>0.0</td>\n",
       "      <td>0.0</td>\n",
       "      <td>Very High</td>\n",
       "    </tr>\n",
       "    <tr>\n",
       "      <th>8</th>\n",
       "      <td>حصار بوعلی</td>\n",
       "      <td>1.193548e+08</td>\n",
       "      <td>1.547009e+08</td>\n",
       "      <td>35,346,016</td>\n",
       "      <td>0.30</td>\n",
       "      <td>0.65</td>\n",
       "      <td>0.0</td>\n",
       "      <td>-35.03</td>\n",
       "      <td>0.0</td>\n",
       "      <td>0.0</td>\n",
       "      <td>0.0</td>\n",
       "      <td>Very High</td>\n",
       "    </tr>\n",
       "    <tr>\n",
       "      <th>9</th>\n",
       "      <td>اقدسیه</td>\n",
       "      <td>7.800000e+07</td>\n",
       "      <td>1.535654e+08</td>\n",
       "      <td>75,565,413</td>\n",
       "      <td>0.97</td>\n",
       "      <td>1.40</td>\n",
       "      <td>0.0</td>\n",
       "      <td>33.88</td>\n",
       "      <td>0.3</td>\n",
       "      <td>1.9</td>\n",
       "      <td>0.1</td>\n",
       "      <td>Very High</td>\n",
       "    </tr>\n",
       "  </tbody>\n",
       "</table>\n",
       "</div>"
      ],
      "text/plain": [
       "     District  Price/Meter_2021  Price/Meter_2023 Price/Meter_Diff  \\\n",
       "0    زعفرانیه      9.090909e+07      1.956522e+08      104,743,083   \n",
       "1       ولنجک      8.529412e+07      1.853000e+08      100,005,882   \n",
       "2       الهیه      8.847856e+07      1.843137e+08       95,835,169   \n",
       "3     محمودیه      8.449519e+07      1.798438e+08       95,348,558   \n",
       "4    کامرانیه      8.000000e+07      1.675676e+08       87,567,568   \n",
       "5     نیاوران      8.000000e+07      1.568627e+08       76,862,745   \n",
       "6     فرمانیه      8.000000e+07      1.568627e+08       76,862,745   \n",
       "7     هزارسنگ      5.340909e+07      1.566952e+08      103,286,066   \n",
       "8  حصار بوعلی      1.193548e+08      1.547009e+08       35,346,016   \n",
       "9      اقدسیه      7.800000e+07      1.535654e+08       75,565,413   \n",
       "\n",
       "   Price/Meter_Growth  Price/Meter_TotalMedian  Room_Diff  Area_Diff  \\\n",
       "0                1.15                     1.94        0.0      38.79   \n",
       "1                1.17                     1.85        0.0      47.02   \n",
       "2                1.08                     1.77        0.0      45.07   \n",
       "3                1.13                     1.77        0.0      58.16   \n",
       "4                1.09                     1.62        0.0      38.59   \n",
       "5                0.96                     1.42        0.0       5.90   \n",
       "6                0.96                     1.42        0.0      10.97   \n",
       "7                1.93                     1.91        0.5      41.50   \n",
       "8                0.30                     0.65        0.0     -35.03   \n",
       "9                0.97                     1.40        0.0      33.88   \n",
       "\n",
       "   Warehouse%_Diff  Elevator%_Diff  Parking%_Diff Price_Category  \n",
       "0              0.7             3.7            1.7      Very High  \n",
       "1             -1.2             3.0            0.3      Very High  \n",
       "2              0.0             1.2            0.9      Very High  \n",
       "3              0.1             7.0            1.7      Very High  \n",
       "4              0.4             2.5            1.5      Very High  \n",
       "5             -0.8             1.9            0.1      Very High  \n",
       "6              0.1             2.1            1.0      Very High  \n",
       "7              0.0             0.0            0.0      Very High  \n",
       "8              0.0             0.0            0.0      Very High  \n",
       "9              0.3             1.9            0.1      Very High  "
      ]
     },
     "execution_count": 64,
     "metadata": {},
     "output_type": "execute_result"
    }
   ],
   "source": [
    "result_df.head(10)"
   ]
  },
  {
   "cell_type": "code",
   "execution_count": 100,
   "metadata": {},
   "outputs": [
    {
     "data": {
      "application/vnd.plotly.v1+json": {
       "config": {
        "plotlyServerURL": "https://plot.ly"
       },
       "data": [
        {
         "marker": {
          "color": "#1f77b4"
         },
         "name": "Price/Meter_2021",
         "type": "bar",
         "x": [
          "شهرک پاسداران",
          "زعفرانیه",
          "هزارسنگ",
          "ولنجک",
          "الهیه",
          "محمودیه",
          "کامرانیه",
          "امامزاده قاسم",
          "سعادت‌آباد",
          "گیشا (کوی نصر)",
          "دروس",
          "دزاشیب",
          "نیاوران",
          "فرمانیه",
          "اقدسیه"
         ],
         "xaxis": "x",
         "y": [
          25301204.819277108,
          90909090.9090909,
          53409090.90909091,
          85294117.64705883,
          88478556.8413887,
          84495192.3076923,
          80000000,
          62962962.96296296,
          61987179.48717949,
          55000000,
          71794871.79487179,
          57525252.52525252,
          80000000,
          80000000,
          78000000
         ],
         "yaxis": "y"
        },
        {
         "marker": {
          "color": "#1f77b4"
         },
         "name": "Price/Meter_2023",
         "opacity": 0.6,
         "type": "bar",
         "x": [
          "شهرک پاسداران",
          "زعفرانیه",
          "هزارسنگ",
          "ولنجک",
          "الهیه",
          "محمودیه",
          "کامرانیه",
          "امامزاده قاسم",
          "سعادت‌آباد",
          "گیشا (کوی نصر)",
          "دروس",
          "دزاشیب",
          "نیاوران",
          "فرمانیه",
          "اقدسیه"
         ],
         "xaxis": "x",
         "y": [
          137728596.38905066,
          195652173.91304347,
          156695156.6951567,
          185300000,
          184313725.49019608,
          179843750,
          167567567.56756756,
          145689655.1724138,
          141666666.66666666,
          134549071.61803713,
          150000000,
          135549054.90549058,
          156862745.0980392,
          156862745.0980392,
          153565412.68950027
         ],
         "yaxis": "y"
        },
        {
         "line": {
          "color": "black",
          "dash": "dash"
         },
         "mode": "lines+markers",
         "name": "Price/Meter_Diff",
         "type": "scatter",
         "x": [
          "شهرک پاسداران",
          "زعفرانیه",
          "هزارسنگ",
          "ولنجک",
          "الهیه",
          "محمودیه",
          "کامرانیه",
          "امامزاده قاسم",
          "سعادت‌آباد",
          "گیشا (کوی نصر)",
          "دروس",
          "دزاشیب",
          "نیاوران",
          "فرمانیه",
          "اقدسیه"
         ],
         "xaxis": "x",
         "y": [
          112427392,
          104743083,
          103286066,
          100005882,
          95835169,
          95348558,
          87567568,
          82726692,
          79679487,
          79549072,
          78205128,
          78023802,
          76862745,
          76862745,
          75565413
         ],
         "yaxis": "y"
        },
        {
         "marker": {
          "color": "#ff7f0e"
         },
         "name": "Price/Meter_2021",
         "type": "bar",
         "x": [
          "شهرک گلها",
          "ارم",
          "سازمان برنامه",
          "باغ فیض",
          "بهجت‌آباد",
          "شهران جنوبی",
          "سازمان آب",
          "کوی فردوس",
          "شهرک پرواز",
          "شهران شمالی",
          "نارمک",
          "کوی بیمه",
          "صادقیه",
          "فاطمی",
          "جنت‌آباد شمالی"
         ],
         "xaxis": "x2",
         "y": [
          11153846.153846154,
          34848484.84848485,
          36046511.62790698,
          34736842.10526316,
          36923076.92307692,
          34195402.29885057,
          32411111.111111112,
          35000000,
          34093647.316538885,
          34117647.058823526,
          32941176.470588237,
          32000000,
          36000000,
          40123456.790123455,
          34800000
         ],
         "yaxis": "y2"
        },
        {
         "marker": {
          "color": "#ff7f0e"
         },
         "name": "Price/Meter_2023",
         "opacity": 0.6,
         "type": "bar",
         "x": [
          "شهرک گلها",
          "ارم",
          "سازمان برنامه",
          "باغ فیض",
          "بهجت‌آباد",
          "شهران جنوبی",
          "سازمان آب",
          "کوی فردوس",
          "شهرک پرواز",
          "شهران شمالی",
          "نارمک",
          "کوی بیمه",
          "صادقیه",
          "فاطمی",
          "جنت‌آباد شمالی"
         ],
         "xaxis": "x2",
         "y": [
          82296650.71770334,
          88907894.7368421,
          89829282.4074074,
          88349514.56310679,
          90000000,
          87254901.96078432,
          85000000,
          87323943.66197184,
          85906464.42759119,
          85365853.65853658,
          83922327.67232767,
          82812500,
          86352339.18128654,
          90285714.28571428,
          84938271.60493827
         ],
         "yaxis": "y2"
        },
        {
         "line": {
          "color": "black",
          "dash": "dash"
         },
         "mode": "lines+markers",
         "name": "Price/Meter_Diff",
         "type": "scatter",
         "x": [
          "شهرک گلها",
          "ارم",
          "سازمان برنامه",
          "باغ فیض",
          "بهجت‌آباد",
          "شهران جنوبی",
          "سازمان آب",
          "کوی فردوس",
          "شهرک پرواز",
          "شهران شمالی",
          "نارمک",
          "کوی بیمه",
          "صادقیه",
          "فاطمی",
          "جنت‌آباد شمالی"
         ],
         "xaxis": "x2",
         "y": [
          71142805,
          54059410,
          53782771,
          53612672,
          53076923,
          53059500,
          52588889,
          52323944,
          51812817,
          51248207,
          50981151,
          50812500,
          50352339,
          50162257,
          50138272
         ],
         "yaxis": "y2"
        },
        {
         "marker": {
          "color": "#2ca02c"
         },
         "name": "Price/Meter_2021",
         "type": "bar",
         "x": [
          "شهرک فرهنگیان",
          "خواجه نظام الملک",
          "ارامنه",
          "گرگان",
          "استاد معین",
          "هاشمی",
          "زاهد گیلانی",
          "آذربایجان",
          "خواجه نصیر طوسی",
          "سلسبیل",
          "سبلان",
          "ابوذر (منطقه ۱۵)",
          "جیحون",
          "لشکر",
          "دلگشا"
         ],
         "xaxis": "x3",
         "y": [
          15789473.684210526,
          20821568.62745098,
          20909090.90909091,
          21000000,
          22765957.44680851,
          20175438.59649123,
          18085106.382978722,
          23110119.04761905,
          23669772.256728776,
          19125000,
          21183333.333333336,
          23000000,
          20000000,
          21645427.28635682,
          17000000
         ],
         "yaxis": "y3"
        },
        {
         "marker": {
          "color": "#2ca02c"
         },
         "name": "Price/Meter_2023",
         "opacity": 0.6,
         "type": "bar",
         "x": [
          "شهرک فرهنگیان",
          "خواجه نظام الملک",
          "ارامنه",
          "گرگان",
          "استاد معین",
          "هاشمی",
          "زاهد گیلانی",
          "آذربایجان",
          "خواجه نصیر طوسی",
          "سلسبیل",
          "سبلان",
          "ابوذر (منطقه ۱۵)",
          "جیحون",
          "لشکر",
          "دلگشا"
         ],
         "xaxis": "x3",
         "y": [
          56512204.42410374,
          59459459.45945946,
          58793911.00702576,
          58076923.07692308,
          59629629.62962963,
          56962025.3164557,
          54651162.79069767,
          59482758.62068965,
          60000000,
          55431677.01863354,
          56960594.31524548,
          58600000,
          55357142.85714286,
          56770154.37392796,
          52000000
         ],
         "yaxis": "y3"
        },
        {
         "line": {
          "color": "black",
          "dash": "dash"
         },
         "mode": "lines+markers",
         "name": "Price/Meter_Diff",
         "type": "scatter",
         "x": [
          "شهرک فرهنگیان",
          "خواجه نظام الملک",
          "ارامنه",
          "گرگان",
          "استاد معین",
          "هاشمی",
          "زاهد گیلانی",
          "آذربایجان",
          "خواجه نصیر طوسی",
          "سلسبیل",
          "سبلان",
          "ابوذر (منطقه ۱۵)",
          "جیحون",
          "لشکر",
          "دلگشا"
         ],
         "xaxis": "x3",
         "y": [
          40722731,
          38637891,
          37884820,
          37076923,
          36863672,
          36786587,
          36566056,
          36372640,
          36330228,
          36306677,
          35777261,
          35600000,
          35357143,
          35124727,
          35000000
         ],
         "yaxis": "y3"
        },
        {
         "marker": {
          "color": "#d62728"
         },
         "name": "Price/Meter_2021",
         "type": "bar",
         "x": [
          "شهرک امام خمینی",
          "نواب",
          "امامزاده حسن(ع)",
          "شهرک مسلمین",
          "بازار",
          "آذری",
          "منصوریه (پل سیمان)",
          "دولاب",
          "دولت‌آباد",
          "مسعودیه",
          "فتح",
          "شهرک کیانشهر",
          "فلاح",
          "شهرک فردوس",
          "شبیری"
         ],
         "xaxis": "x4",
         "y": [
          12912176.724137932,
          15168079.096045196,
          14814814.814814815,
          13750000,
          13040650.406504065,
          15000000,
          16602777.777777778,
          16929824.56140351,
          16118881.11888112,
          15000000,
          14630769.23076923,
          14500000,
          14741935.483870968,
          16549030.172413792,
          17571428.57142857
         ],
         "yaxis": "y4"
        },
        {
         "marker": {
          "color": "#d62728"
         },
         "name": "Price/Meter_2023",
         "opacity": 0.6,
         "type": "bar",
         "x": [
          "شهرک امام خمینی",
          "نواب",
          "امامزاده حسن(ع)",
          "شهرک مسلمین",
          "بازار",
          "آذری",
          "منصوریه (پل سیمان)",
          "دولاب",
          "دولت‌آباد",
          "مسعودیه",
          "فتح",
          "شهرک کیانشهر",
          "فلاح",
          "شهرک فردوس",
          "شبیری"
         ],
         "xaxis": "x4",
         "y": [
          42666666.666666664,
          43846153.84615385,
          43057100.482017055,
          41448412.6984127,
          40644654.08805031,
          42482876.71232876,
          43958333.33333333,
          44230769.23076923,
          43269230.76923077,
          41428571.428571425,
          41000000,
          40853846.15384615,
          41055555.55555555,
          42857142.85714286,
          43719660.19417476
         ],
         "yaxis": "y4"
        },
        {
         "line": {
          "color": "black",
          "dash": "dash"
         },
         "mode": "lines+markers",
         "name": "Price/Meter_Diff",
         "type": "scatter",
         "x": [
          "شهرک امام خمینی",
          "نواب",
          "امامزاده حسن(ع)",
          "شهرک مسلمین",
          "بازار",
          "آذری",
          "منصوریه (پل سیمان)",
          "دولاب",
          "دولت‌آباد",
          "مسعودیه",
          "فتح",
          "شهرک کیانشهر",
          "فلاح",
          "شهرک فردوس",
          "شبیری"
         ],
         "xaxis": "x4",
         "y": [
          29754490,
          28678075,
          28242286,
          27698413,
          27604004,
          27482877,
          27355556,
          27300945,
          27150350,
          26428571,
          26369231,
          26353846,
          26313620,
          26308113,
          26148232
         ],
         "yaxis": "y4"
        }
       ],
       "layout": {
        "annotations": [
         {
          "font": {
           "size": 16
          },
          "showarrow": false,
          "text": "Very High",
          "x": 0.5,
          "xanchor": "center",
          "xref": "paper",
          "y": 1,
          "yanchor": "bottom",
          "yref": "paper"
         },
         {
          "font": {
           "size": 16
          },
          "showarrow": false,
          "text": "High",
          "x": 0.5,
          "xanchor": "center",
          "xref": "paper",
          "y": 0.7,
          "yanchor": "bottom",
          "yref": "paper"
         },
         {
          "font": {
           "size": 16
          },
          "showarrow": false,
          "text": "Medium",
          "x": 0.5,
          "xanchor": "center",
          "xref": "paper",
          "y": 0.39999999999999997,
          "yanchor": "bottom",
          "yref": "paper"
         },
         {
          "font": {
           "size": 16
          },
          "showarrow": false,
          "text": "Very Low",
          "x": 0.5,
          "xanchor": "center",
          "xref": "paper",
          "y": 0.09999999999999998,
          "yanchor": "bottom",
          "yref": "paper"
         },
         {
          "align": "center",
          "showarrow": false,
          "text": "<b>Very Low Price Category</b><br><span style='color:#d62728;'>■ Price/Meter_2021</span> <span style='color:#d62728; opacity: 0.6;'>■ Price/Meter_2023</span> <span style='color:black;'>● Price/Price/Meter_Diff</span>",
          "x": 1.5,
          "xanchor": "center",
          "xref": "x4 domain",
          "y": 5.1,
          "yanchor": "bottom",
          "yref": "y4 domain"
         }
        ],
        "height": 1400,
        "showlegend": true,
        "template": {
         "data": {
          "bar": [
           {
            "error_x": {
             "color": "#2a3f5f"
            },
            "error_y": {
             "color": "#2a3f5f"
            },
            "marker": {
             "line": {
              "color": "#E5ECF6",
              "width": 0.5
             },
             "pattern": {
              "fillmode": "overlay",
              "size": 10,
              "solidity": 0.2
             }
            },
            "type": "bar"
           }
          ],
          "barpolar": [
           {
            "marker": {
             "line": {
              "color": "#E5ECF6",
              "width": 0.5
             },
             "pattern": {
              "fillmode": "overlay",
              "size": 10,
              "solidity": 0.2
             }
            },
            "type": "barpolar"
           }
          ],
          "carpet": [
           {
            "aaxis": {
             "endlinecolor": "#2a3f5f",
             "gridcolor": "white",
             "linecolor": "white",
             "minorgridcolor": "white",
             "startlinecolor": "#2a3f5f"
            },
            "baxis": {
             "endlinecolor": "#2a3f5f",
             "gridcolor": "white",
             "linecolor": "white",
             "minorgridcolor": "white",
             "startlinecolor": "#2a3f5f"
            },
            "type": "carpet"
           }
          ],
          "choropleth": [
           {
            "colorbar": {
             "outlinewidth": 0,
             "ticks": ""
            },
            "type": "choropleth"
           }
          ],
          "contour": [
           {
            "colorbar": {
             "outlinewidth": 0,
             "ticks": ""
            },
            "colorscale": [
             [
              0,
              "#0d0887"
             ],
             [
              0.1111111111111111,
              "#46039f"
             ],
             [
              0.2222222222222222,
              "#7201a8"
             ],
             [
              0.3333333333333333,
              "#9c179e"
             ],
             [
              0.4444444444444444,
              "#bd3786"
             ],
             [
              0.5555555555555556,
              "#d8576b"
             ],
             [
              0.6666666666666666,
              "#ed7953"
             ],
             [
              0.7777777777777778,
              "#fb9f3a"
             ],
             [
              0.8888888888888888,
              "#fdca26"
             ],
             [
              1,
              "#f0f921"
             ]
            ],
            "type": "contour"
           }
          ],
          "contourcarpet": [
           {
            "colorbar": {
             "outlinewidth": 0,
             "ticks": ""
            },
            "type": "contourcarpet"
           }
          ],
          "heatmap": [
           {
            "colorbar": {
             "outlinewidth": 0,
             "ticks": ""
            },
            "colorscale": [
             [
              0,
              "#0d0887"
             ],
             [
              0.1111111111111111,
              "#46039f"
             ],
             [
              0.2222222222222222,
              "#7201a8"
             ],
             [
              0.3333333333333333,
              "#9c179e"
             ],
             [
              0.4444444444444444,
              "#bd3786"
             ],
             [
              0.5555555555555556,
              "#d8576b"
             ],
             [
              0.6666666666666666,
              "#ed7953"
             ],
             [
              0.7777777777777778,
              "#fb9f3a"
             ],
             [
              0.8888888888888888,
              "#fdca26"
             ],
             [
              1,
              "#f0f921"
             ]
            ],
            "type": "heatmap"
           }
          ],
          "heatmapgl": [
           {
            "colorbar": {
             "outlinewidth": 0,
             "ticks": ""
            },
            "colorscale": [
             [
              0,
              "#0d0887"
             ],
             [
              0.1111111111111111,
              "#46039f"
             ],
             [
              0.2222222222222222,
              "#7201a8"
             ],
             [
              0.3333333333333333,
              "#9c179e"
             ],
             [
              0.4444444444444444,
              "#bd3786"
             ],
             [
              0.5555555555555556,
              "#d8576b"
             ],
             [
              0.6666666666666666,
              "#ed7953"
             ],
             [
              0.7777777777777778,
              "#fb9f3a"
             ],
             [
              0.8888888888888888,
              "#fdca26"
             ],
             [
              1,
              "#f0f921"
             ]
            ],
            "type": "heatmapgl"
           }
          ],
          "histogram": [
           {
            "marker": {
             "pattern": {
              "fillmode": "overlay",
              "size": 10,
              "solidity": 0.2
             }
            },
            "type": "histogram"
           }
          ],
          "histogram2d": [
           {
            "colorbar": {
             "outlinewidth": 0,
             "ticks": ""
            },
            "colorscale": [
             [
              0,
              "#0d0887"
             ],
             [
              0.1111111111111111,
              "#46039f"
             ],
             [
              0.2222222222222222,
              "#7201a8"
             ],
             [
              0.3333333333333333,
              "#9c179e"
             ],
             [
              0.4444444444444444,
              "#bd3786"
             ],
             [
              0.5555555555555556,
              "#d8576b"
             ],
             [
              0.6666666666666666,
              "#ed7953"
             ],
             [
              0.7777777777777778,
              "#fb9f3a"
             ],
             [
              0.8888888888888888,
              "#fdca26"
             ],
             [
              1,
              "#f0f921"
             ]
            ],
            "type": "histogram2d"
           }
          ],
          "histogram2dcontour": [
           {
            "colorbar": {
             "outlinewidth": 0,
             "ticks": ""
            },
            "colorscale": [
             [
              0,
              "#0d0887"
             ],
             [
              0.1111111111111111,
              "#46039f"
             ],
             [
              0.2222222222222222,
              "#7201a8"
             ],
             [
              0.3333333333333333,
              "#9c179e"
             ],
             [
              0.4444444444444444,
              "#bd3786"
             ],
             [
              0.5555555555555556,
              "#d8576b"
             ],
             [
              0.6666666666666666,
              "#ed7953"
             ],
             [
              0.7777777777777778,
              "#fb9f3a"
             ],
             [
              0.8888888888888888,
              "#fdca26"
             ],
             [
              1,
              "#f0f921"
             ]
            ],
            "type": "histogram2dcontour"
           }
          ],
          "mesh3d": [
           {
            "colorbar": {
             "outlinewidth": 0,
             "ticks": ""
            },
            "type": "mesh3d"
           }
          ],
          "parcoords": [
           {
            "line": {
             "colorbar": {
              "outlinewidth": 0,
              "ticks": ""
             }
            },
            "type": "parcoords"
           }
          ],
          "pie": [
           {
            "automargin": true,
            "type": "pie"
           }
          ],
          "scatter": [
           {
            "fillpattern": {
             "fillmode": "overlay",
             "size": 10,
             "solidity": 0.2
            },
            "type": "scatter"
           }
          ],
          "scatter3d": [
           {
            "line": {
             "colorbar": {
              "outlinewidth": 0,
              "ticks": ""
             }
            },
            "marker": {
             "colorbar": {
              "outlinewidth": 0,
              "ticks": ""
             }
            },
            "type": "scatter3d"
           }
          ],
          "scattercarpet": [
           {
            "marker": {
             "colorbar": {
              "outlinewidth": 0,
              "ticks": ""
             }
            },
            "type": "scattercarpet"
           }
          ],
          "scattergeo": [
           {
            "marker": {
             "colorbar": {
              "outlinewidth": 0,
              "ticks": ""
             }
            },
            "type": "scattergeo"
           }
          ],
          "scattergl": [
           {
            "marker": {
             "colorbar": {
              "outlinewidth": 0,
              "ticks": ""
             }
            },
            "type": "scattergl"
           }
          ],
          "scattermapbox": [
           {
            "marker": {
             "colorbar": {
              "outlinewidth": 0,
              "ticks": ""
             }
            },
            "type": "scattermapbox"
           }
          ],
          "scatterpolar": [
           {
            "marker": {
             "colorbar": {
              "outlinewidth": 0,
              "ticks": ""
             }
            },
            "type": "scatterpolar"
           }
          ],
          "scatterpolargl": [
           {
            "marker": {
             "colorbar": {
              "outlinewidth": 0,
              "ticks": ""
             }
            },
            "type": "scatterpolargl"
           }
          ],
          "scatterternary": [
           {
            "marker": {
             "colorbar": {
              "outlinewidth": 0,
              "ticks": ""
             }
            },
            "type": "scatterternary"
           }
          ],
          "surface": [
           {
            "colorbar": {
             "outlinewidth": 0,
             "ticks": ""
            },
            "colorscale": [
             [
              0,
              "#0d0887"
             ],
             [
              0.1111111111111111,
              "#46039f"
             ],
             [
              0.2222222222222222,
              "#7201a8"
             ],
             [
              0.3333333333333333,
              "#9c179e"
             ],
             [
              0.4444444444444444,
              "#bd3786"
             ],
             [
              0.5555555555555556,
              "#d8576b"
             ],
             [
              0.6666666666666666,
              "#ed7953"
             ],
             [
              0.7777777777777778,
              "#fb9f3a"
             ],
             [
              0.8888888888888888,
              "#fdca26"
             ],
             [
              1,
              "#f0f921"
             ]
            ],
            "type": "surface"
           }
          ],
          "table": [
           {
            "cells": {
             "fill": {
              "color": "#EBF0F8"
             },
             "line": {
              "color": "white"
             }
            },
            "header": {
             "fill": {
              "color": "#C8D4E3"
             },
             "line": {
              "color": "white"
             }
            },
            "type": "table"
           }
          ]
         },
         "layout": {
          "annotationdefaults": {
           "arrowcolor": "#2a3f5f",
           "arrowhead": 0,
           "arrowwidth": 1
          },
          "autotypenumbers": "strict",
          "coloraxis": {
           "colorbar": {
            "outlinewidth": 0,
            "ticks": ""
           }
          },
          "colorscale": {
           "diverging": [
            [
             0,
             "#8e0152"
            ],
            [
             0.1,
             "#c51b7d"
            ],
            [
             0.2,
             "#de77ae"
            ],
            [
             0.3,
             "#f1b6da"
            ],
            [
             0.4,
             "#fde0ef"
            ],
            [
             0.5,
             "#f7f7f7"
            ],
            [
             0.6,
             "#e6f5d0"
            ],
            [
             0.7,
             "#b8e186"
            ],
            [
             0.8,
             "#7fbc41"
            ],
            [
             0.9,
             "#4d9221"
            ],
            [
             1,
             "#276419"
            ]
           ],
           "sequential": [
            [
             0,
             "#0d0887"
            ],
            [
             0.1111111111111111,
             "#46039f"
            ],
            [
             0.2222222222222222,
             "#7201a8"
            ],
            [
             0.3333333333333333,
             "#9c179e"
            ],
            [
             0.4444444444444444,
             "#bd3786"
            ],
            [
             0.5555555555555556,
             "#d8576b"
            ],
            [
             0.6666666666666666,
             "#ed7953"
            ],
            [
             0.7777777777777778,
             "#fb9f3a"
            ],
            [
             0.8888888888888888,
             "#fdca26"
            ],
            [
             1,
             "#f0f921"
            ]
           ],
           "sequentialminus": [
            [
             0,
             "#0d0887"
            ],
            [
             0.1111111111111111,
             "#46039f"
            ],
            [
             0.2222222222222222,
             "#7201a8"
            ],
            [
             0.3333333333333333,
             "#9c179e"
            ],
            [
             0.4444444444444444,
             "#bd3786"
            ],
            [
             0.5555555555555556,
             "#d8576b"
            ],
            [
             0.6666666666666666,
             "#ed7953"
            ],
            [
             0.7777777777777778,
             "#fb9f3a"
            ],
            [
             0.8888888888888888,
             "#fdca26"
            ],
            [
             1,
             "#f0f921"
            ]
           ]
          },
          "colorway": [
           "#636efa",
           "#EF553B",
           "#00cc96",
           "#ab63fa",
           "#FFA15A",
           "#19d3f3",
           "#FF6692",
           "#B6E880",
           "#FF97FF",
           "#FECB52"
          ],
          "font": {
           "color": "#2a3f5f"
          },
          "geo": {
           "bgcolor": "white",
           "lakecolor": "white",
           "landcolor": "#E5ECF6",
           "showlakes": true,
           "showland": true,
           "subunitcolor": "white"
          },
          "hoverlabel": {
           "align": "left"
          },
          "hovermode": "closest",
          "mapbox": {
           "style": "light"
          },
          "paper_bgcolor": "white",
          "plot_bgcolor": "#E5ECF6",
          "polar": {
           "angularaxis": {
            "gridcolor": "white",
            "linecolor": "white",
            "ticks": ""
           },
           "bgcolor": "#E5ECF6",
           "radialaxis": {
            "gridcolor": "white",
            "linecolor": "white",
            "ticks": ""
           }
          },
          "scene": {
           "xaxis": {
            "backgroundcolor": "#E5ECF6",
            "gridcolor": "white",
            "gridwidth": 2,
            "linecolor": "white",
            "showbackground": true,
            "ticks": "",
            "zerolinecolor": "white"
           },
           "yaxis": {
            "backgroundcolor": "#E5ECF6",
            "gridcolor": "white",
            "gridwidth": 2,
            "linecolor": "white",
            "showbackground": true,
            "ticks": "",
            "zerolinecolor": "white"
           },
           "zaxis": {
            "backgroundcolor": "#E5ECF6",
            "gridcolor": "white",
            "gridwidth": 2,
            "linecolor": "white",
            "showbackground": true,
            "ticks": "",
            "zerolinecolor": "white"
           }
          },
          "shapedefaults": {
           "line": {
            "color": "#2a3f5f"
           }
          },
          "ternary": {
           "aaxis": {
            "gridcolor": "white",
            "linecolor": "white",
            "ticks": ""
           },
           "baxis": {
            "gridcolor": "white",
            "linecolor": "white",
            "ticks": ""
           },
           "bgcolor": "#E5ECF6",
           "caxis": {
            "gridcolor": "white",
            "linecolor": "white",
            "ticks": ""
           }
          },
          "title": {
           "x": 0.05
          },
          "xaxis": {
           "automargin": true,
           "gridcolor": "white",
           "linecolor": "white",
           "ticks": "",
           "title": {
            "standoff": 15
           },
           "zerolinecolor": "white",
           "zerolinewidth": 2
          },
          "yaxis": {
           "automargin": true,
           "gridcolor": "white",
           "linecolor": "white",
           "ticks": "",
           "title": {
            "standoff": 15
           },
           "zerolinecolor": "white",
           "zerolinewidth": 2
          }
         }
        },
        "title": {
         "text": "Top 15 Districts by Price Category (2021 vs 2023)"
        },
        "width": 1000,
        "xaxis": {
         "anchor": "y",
         "domain": [
          0,
          1
         ],
         "tickfont": {
          "size": 15
         }
        },
        "xaxis2": {
         "anchor": "y2",
         "domain": [
          0,
          1
         ],
         "tickfont": {
          "size": 15
         }
        },
        "xaxis3": {
         "anchor": "y3",
         "domain": [
          0,
          1
         ],
         "tickfont": {
          "size": 15
         }
        },
        "xaxis4": {
         "anchor": "y4",
         "domain": [
          0,
          1
         ],
         "tickfont": {
          "size": 15
         }
        },
        "yaxis": {
         "anchor": "x",
         "domain": [
          0.9,
          1
         ]
        },
        "yaxis2": {
         "anchor": "x2",
         "domain": [
          0.6,
          0.7
         ]
        },
        "yaxis3": {
         "anchor": "x3",
         "domain": [
          0.3,
          0.39999999999999997
         ]
        },
        "yaxis4": {
         "anchor": "x4",
         "domain": [
          0,
          0.09999999999999998
         ]
        }
       }
      }
     },
     "metadata": {},
     "output_type": "display_data"
    }
   ],
   "source": [
    "import pandas as pd\n",
    "import plotly.subplots as sp\n",
    "import plotly.graph_objs as go\n",
    "\n",
    "result_df['Price/Meter_Diff'] = pd.to_numeric(result_df['Price/Meter_Diff'].str.replace(',', ''))\n",
    "\n",
    "# List of price categories to iterate through\n",
    "price_categories = result_df['Price_Category'].unique()\n",
    "\n",
    "# Create the subplots with 1 column and 4 rows\n",
    "fig = sp.make_subplots(rows=4, cols=1, subplot_titles=price_categories,\n",
    "                       vertical_spacing=0.2)\n",
    "\n",
    "# Color palette for each plot\n",
    "colors = ['#1f77b4', '#ff7f0e', '#2ca02c', '#d62728']\n",
    "\n",
    "# Iterate through the price categories and plot the data\n",
    "for i, category in enumerate(price_categories):\n",
    "    row = i + 1\n",
    "    \n",
    "    # Filter top 15 districts for each price category\n",
    "    top_15 = result_df[result_df['Price_Category'] == category].nlargest(15, 'Price/Meter_Diff')\n",
    "    \n",
    "    # Adding the bar plots for Price/Meter_2021 and Price/Meter_2023\n",
    "    fig.add_trace(go.Bar(x=top_15['District'], y=top_15['Price/Meter_2021'], name='Price/Meter_2021',\n",
    "                         marker_color=colors[i % len(colors)]), row=row, col=1)\n",
    "    fig.add_trace(go.Bar(x=top_15['District'], y=top_15['Price/Meter_2023'], name='Price/Meter_2023',\n",
    "                         marker_color=colors[i % len(colors)], opacity=0.6), row=row, col=1)\n",
    "    \n",
    "    # Adding line plot for Price/Meter_Growth\n",
    "    fig.add_trace(go.Scatter(x=top_15['District'], y=top_15['Price/Meter_Diff'], mode='lines+markers',\n",
    "                             name='Price/Meter_Diff', line=dict(color='black', dash='dash')), row=row, col=1)\n",
    "\n",
    "# Update layout to adjust plot size, title, and legend\n",
    "fig.update_layout(height=1400, width=1000, title_text=\"Top 15 Districts by Price Category (2021 vs 2023)\",\n",
    "                  showlegend=True)\n",
    "fig.update_xaxes(tickfont=dict(size=15))\n",
    "\n",
    "fig.add_annotation(dict(x=1.5, y=5.1, xref='x domain', yref='y domain',\n",
    "                            text=f\"<b>{category} Price Category</b><br>\"\n",
    "                                 f\"<span style='color:{colors[i % len(colors)]};'>■ Price/Meter_2021</span> \"\n",
    "                                 f\"<span style='color:{colors[i % len(colors)]}; opacity: 0.6;'>■ Price/Meter_2023</span> \"\n",
    "                                 \"<span style='color:black;'>● Price/Price/Meter_Diff</span>\",\n",
    "                            showarrow=False, xanchor='center', yanchor='bottom', align='center'),\n",
    "                     row=row, col=1)\n",
    "# Show the plot\n",
    "fig.show()\n"
   ]
  },
  {
   "cell_type": "code",
   "execution_count": 66,
   "metadata": {},
   "outputs": [],
   "source": [
    "categories = result_df['Price_Category'].unique()  \n",
    "top60 = pd.DataFrame()\n",
    "# Loop through each category to get the top 15  \n",
    "for category in categories:  \n",
    "    top_entries = result_df[result_df['Price_Category'] == category].nlargest(15, 'Price/Meter_Growth')  \n",
    "    top60 = pd.concat([top60, top_entries], ignore_index=True)  \n",
    "\n",
    "# Display the top60 DataFrame  \n",
    "top60['District'].to_excel('top60.xlsx')"
   ]
  },
  {
   "cell_type": "code",
   "execution_count": 75,
   "metadata": {},
   "outputs": [
    {
     "data": {
      "application/vnd.plotly.v1+json": {
       "config": {
        "plotlyServerURL": "https://plot.ly"
       },
       "data": [
        {
         "marker": {
          "color": "#1f77b4"
         },
         "mode": "lines+markers",
         "name": "Price/Meter_Growth",
         "type": "scatter",
         "x": [
          "شهرک پاسداران",
          "زعفرانیه",
          "هزارسنگ",
          "ولنجک",
          "الهیه",
          "محمودیه",
          "کامرانیه",
          "امامزاده قاسم",
          "سعادت‌آباد",
          "گیشا (کوی نصر)",
          "دروس",
          "دزاشیب",
          "نیاوران",
          "فرمانیه",
          "اقدسیه",
          "ایوانک",
          "آجودانیه",
          "باغ فردوس",
          "دریا",
          "قبا",
          "حکمت",
          "مرادآباد",
          "نیلوفر",
          "امانیه",
          "شهرک ژاندارمری"
         ],
         "xaxis": "x",
         "y": [
          4.44,
          1.15,
          1.93,
          1.17,
          1.08,
          1.13,
          1.09,
          1.31,
          1.29,
          1.45,
          1.09,
          1.36,
          0.96,
          0.96,
          0.97,
          1.04,
          1.05,
          1,
          1.16,
          1.22,
          1.08,
          2.86,
          1.44,
          1.01,
          1.29
         ],
         "yaxis": "y"
        },
        {
         "marker": {
          "color": "#1f77b4"
         },
         "mode": "lines+markers",
         "name": "Price/Meter_TotalMedian",
         "opacity": 0.6,
         "type": "scatter",
         "x": [
          "شهرک پاسداران",
          "زعفرانیه",
          "هزارسنگ",
          "ولنجک",
          "الهیه",
          "محمودیه",
          "کامرانیه",
          "امامزاده قاسم",
          "سعادت‌آباد",
          "گیشا (کوی نصر)",
          "دروس",
          "دزاشیب",
          "نیاوران",
          "فرمانیه",
          "اقدسیه",
          "ایوانک",
          "آجودانیه",
          "باغ فردوس",
          "دریا",
          "قبا",
          "حکمت",
          "مرادآباد",
          "نیلوفر",
          "امانیه",
          "شهرک ژاندارمری"
         ],
         "xaxis": "x",
         "y": [
          2.08,
          1.94,
          1.91,
          1.85,
          1.77,
          1.77,
          1.62,
          1.53,
          1.48,
          1.47,
          1.45,
          1.44,
          1.42,
          1.42,
          1.4,
          1.37,
          1.36,
          1.35,
          1.35,
          1.34,
          1.31,
          1.3,
          1.29,
          1.26,
          1.24
         ],
         "yaxis": "y"
        },
        {
         "marker": {
          "color": "#ff7f0e"
         },
         "mode": "lines+markers",
         "name": "Price/Meter_Growth",
         "type": "scatter",
         "x": [
          "شهرک گلها",
          "ارم",
          "سازمان برنامه",
          "باغ فیض",
          "بهجت‌آباد",
          "شهران جنوبی",
          "سازمان آب",
          "کوی فردوس",
          "شهرک پرواز",
          "شهران شمالی",
          "نارمک",
          "کوی بیمه",
          "صادقیه",
          "فاطمی",
          "جنت‌آباد شمالی",
          "مدائن",
          "المهدی",
          "کاظم‌آباد",
          "شمس‌آباد",
          "فرحزاد",
          "شهر زیبا",
          "آشتیانی",
          "تهرانپارس غربی",
          "دریان‌نو",
          "ستارخان"
         ],
         "xaxis": "x2",
         "y": [
          6.38,
          1.55,
          1.49,
          1.54,
          1.44,
          1.55,
          1.62,
          1.49,
          1.52,
          1.5,
          1.55,
          1.59,
          1.4,
          1.25,
          1.44,
          1.35,
          1.43,
          1.3,
          1.31,
          1.31,
          1.56,
          1.65,
          1.51,
          1.32,
          1.35
         ],
         "yaxis": "y2"
        },
        {
         "marker": {
          "color": "#ff7f0e"
         },
         "mode": "lines+markers",
         "name": "Price/Meter_TotalMedian",
         "opacity": 0.6,
         "type": "scatter",
         "x": [
          "شهرک گلها",
          "ارم",
          "سازمان برنامه",
          "باغ فیض",
          "بهجت‌آباد",
          "شهران جنوبی",
          "سازمان آب",
          "کوی فردوس",
          "شهرک پرواز",
          "شهران شمالی",
          "نارمک",
          "کوی بیمه",
          "صادقیه",
          "فاطمی",
          "جنت‌آباد شمالی",
          "مدائن",
          "المهدی",
          "کاظم‌آباد",
          "شمس‌آباد",
          "فرحزاد",
          "شهر زیبا",
          "آشتیانی",
          "تهرانپارس غربی",
          "دریان‌نو",
          "ستارخان"
         ],
         "xaxis": "x2",
         "y": [
          1.32,
          1,
          1,
          0.99,
          0.98,
          0.98,
          0.97,
          0.97,
          0.96,
          0.95,
          0.94,
          0.94,
          0.93,
          0.93,
          0.93,
          0.93,
          0.93,
          0.92,
          0.91,
          0.91,
          0.9,
          0.9,
          0.9,
          0.89,
          0.87
         ],
         "yaxis": "y2"
        },
        {
         "marker": {
          "color": "#2ca02c"
         },
         "mode": "lines+markers",
         "name": "Price/Meter_Growth",
         "type": "scatter",
         "x": [
          "شهرک فرهنگیان",
          "خواجه نظام الملک",
          "ارامنه",
          "گرگان",
          "استاد معین",
          "هاشمی",
          "زاهد گیلانی",
          "آذربایجان",
          "خواجه نصیر طوسی",
          "سلسبیل",
          "سبلان",
          "ابوذر (منطقه ۱۵)",
          "جیحون",
          "لشکر",
          "دلگشا",
          "منیریه",
          "اسکندری",
          "شهید دستغیب",
          "جابری",
          "پیروزی",
          "شیخ هادی",
          "شارق شرقی",
          "هفت چنار",
          "نظام‌آباد",
          "دروازه شمیران"
         ],
         "xaxis": "x3",
         "y": [
          2.58,
          1.86,
          1.81,
          1.77,
          1.62,
          1.82,
          2.02,
          1.57,
          1.53,
          1.9,
          1.69,
          1.55,
          1.77,
          1.62,
          2.06,
          1.48,
          1.65,
          1.71,
          1.96,
          1.53,
          1.5,
          1.52,
          1.98,
          1.63,
          1.51
         ],
         "yaxis": "y3"
        },
        {
         "marker": {
          "color": "#2ca02c"
         },
         "mode": "lines+markers",
         "name": "Price/Meter_TotalMedian",
         "opacity": 0.6,
         "type": "scatter",
         "x": [
          "شهرک فرهنگیان",
          "خواجه نظام الملک",
          "ارامنه",
          "گرگان",
          "استاد معین",
          "هاشمی",
          "زاهد گیلانی",
          "آذربایجان",
          "خواجه نصیر طوسی",
          "سلسبیل",
          "سبلان",
          "ابوذر (منطقه ۱۵)",
          "جیحون",
          "لشکر",
          "دلگشا",
          "منیریه",
          "اسکندری",
          "شهید دستغیب",
          "جابری",
          "پیروزی",
          "شیخ هادی",
          "شارق شرقی",
          "هفت چنار",
          "نظام‌آباد",
          "دروازه شمیران"
         ],
         "xaxis": "x3",
         "y": [
          0.75,
          0.72,
          0.7,
          0.69,
          0.68,
          0.68,
          0.68,
          0.67,
          0.67,
          0.67,
          0.66,
          0.66,
          0.65,
          0.65,
          0.65,
          0.65,
          0.65,
          0.65,
          0.64,
          0.64,
          0.63,
          0.63,
          0.63,
          0.63,
          0.62
         ],
         "yaxis": "y3"
        },
        {
         "marker": {
          "color": "#d62728"
         },
         "mode": "lines+markers",
         "name": "Price/Meter_Growth",
         "type": "scatter",
         "x": [
          "شهرک امام خمینی",
          "نواب",
          "امامزاده حسن(ع)",
          "شهرک مسلمین",
          "بازار",
          "آذری",
          "منصوریه (پل سیمان)",
          "دولاب",
          "دولت‌آباد",
          "مسعودیه",
          "فتح",
          "شهرک کیانشهر",
          "فلاح",
          "شهرک فردوس",
          "شبیری",
          "شهید بروجردی",
          "خلیج فارس",
          "جوادیه",
          "شهید رجایی",
          "خزانه",
          "کوی هفدهم شهریور",
          "شهادت",
          "باغ خزانه",
          "مشیریه",
          "حصارک"
         ],
         "xaxis": "x4",
         "y": [
          2.3,
          1.89,
          1.91,
          2.01,
          2.12,
          1.83,
          1.65,
          1.61,
          1.68,
          1.76,
          1.8,
          1.82,
          1.78,
          1.59,
          1.49,
          1.83,
          1.8,
          1.76,
          1.86,
          1.78,
          1.78,
          1.58,
          1.37,
          1.66,
          1.73
         ],
         "yaxis": "y4"
        },
        {
         "marker": {
          "color": "#d62728"
         },
         "mode": "lines+markers",
         "name": "Price/Meter_TotalMedian",
         "opacity": 0.6,
         "type": "scatter",
         "x": [
          "شهرک امام خمینی",
          "نواب",
          "امامزاده حسن(ع)",
          "شهرک مسلمین",
          "بازار",
          "آذری",
          "منصوریه (پل سیمان)",
          "دولاب",
          "دولت‌آباد",
          "مسعودیه",
          "فتح",
          "شهرک کیانشهر",
          "فلاح",
          "شهرک فردوس",
          "شبیری",
          "شهید بروجردی",
          "خلیج فارس",
          "جوادیه",
          "شهید رجایی",
          "خزانه",
          "کوی هفدهم شهریور",
          "شهادت",
          "باغ خزانه",
          "مشیریه",
          "حصارک"
         ],
         "xaxis": "x4",
         "y": [
          0.55,
          0.53,
          0.52,
          0.51,
          0.51,
          0.51,
          0.51,
          0.51,
          0.5,
          0.49,
          0.49,
          0.49,
          0.49,
          0.49,
          0.48,
          0.48,
          0.48,
          0.47,
          0.47,
          0.47,
          0.46,
          0.46,
          0.46,
          0.46,
          0.46
         ],
         "yaxis": "y4"
        }
       ],
       "layout": {
        "annotations": [
         {
          "font": {
           "size": 16
          },
          "showarrow": false,
          "text": "Very High",
          "x": 0.5,
          "xanchor": "center",
          "xref": "paper",
          "y": 1,
          "yanchor": "bottom",
          "yref": "paper"
         },
         {
          "font": {
           "size": 16
          },
          "showarrow": false,
          "text": "High",
          "x": 0.5,
          "xanchor": "center",
          "xref": "paper",
          "y": 0.7,
          "yanchor": "bottom",
          "yref": "paper"
         },
         {
          "font": {
           "size": 16
          },
          "showarrow": false,
          "text": "Medium",
          "x": 0.5,
          "xanchor": "center",
          "xref": "paper",
          "y": 0.39999999999999997,
          "yanchor": "bottom",
          "yref": "paper"
         },
         {
          "font": {
           "size": 16
          },
          "showarrow": false,
          "text": "Very Low",
          "x": 0.5,
          "xanchor": "center",
          "xref": "paper",
          "y": 0.09999999999999998,
          "yanchor": "bottom",
          "yref": "paper"
         }
        ],
        "height": 1400,
        "showlegend": true,
        "template": {
         "data": {
          "bar": [
           {
            "error_x": {
             "color": "#2a3f5f"
            },
            "error_y": {
             "color": "#2a3f5f"
            },
            "marker": {
             "line": {
              "color": "#E5ECF6",
              "width": 0.5
             },
             "pattern": {
              "fillmode": "overlay",
              "size": 10,
              "solidity": 0.2
             }
            },
            "type": "bar"
           }
          ],
          "barpolar": [
           {
            "marker": {
             "line": {
              "color": "#E5ECF6",
              "width": 0.5
             },
             "pattern": {
              "fillmode": "overlay",
              "size": 10,
              "solidity": 0.2
             }
            },
            "type": "barpolar"
           }
          ],
          "carpet": [
           {
            "aaxis": {
             "endlinecolor": "#2a3f5f",
             "gridcolor": "white",
             "linecolor": "white",
             "minorgridcolor": "white",
             "startlinecolor": "#2a3f5f"
            },
            "baxis": {
             "endlinecolor": "#2a3f5f",
             "gridcolor": "white",
             "linecolor": "white",
             "minorgridcolor": "white",
             "startlinecolor": "#2a3f5f"
            },
            "type": "carpet"
           }
          ],
          "choropleth": [
           {
            "colorbar": {
             "outlinewidth": 0,
             "ticks": ""
            },
            "type": "choropleth"
           }
          ],
          "contour": [
           {
            "colorbar": {
             "outlinewidth": 0,
             "ticks": ""
            },
            "colorscale": [
             [
              0,
              "#0d0887"
             ],
             [
              0.1111111111111111,
              "#46039f"
             ],
             [
              0.2222222222222222,
              "#7201a8"
             ],
             [
              0.3333333333333333,
              "#9c179e"
             ],
             [
              0.4444444444444444,
              "#bd3786"
             ],
             [
              0.5555555555555556,
              "#d8576b"
             ],
             [
              0.6666666666666666,
              "#ed7953"
             ],
             [
              0.7777777777777778,
              "#fb9f3a"
             ],
             [
              0.8888888888888888,
              "#fdca26"
             ],
             [
              1,
              "#f0f921"
             ]
            ],
            "type": "contour"
           }
          ],
          "contourcarpet": [
           {
            "colorbar": {
             "outlinewidth": 0,
             "ticks": ""
            },
            "type": "contourcarpet"
           }
          ],
          "heatmap": [
           {
            "colorbar": {
             "outlinewidth": 0,
             "ticks": ""
            },
            "colorscale": [
             [
              0,
              "#0d0887"
             ],
             [
              0.1111111111111111,
              "#46039f"
             ],
             [
              0.2222222222222222,
              "#7201a8"
             ],
             [
              0.3333333333333333,
              "#9c179e"
             ],
             [
              0.4444444444444444,
              "#bd3786"
             ],
             [
              0.5555555555555556,
              "#d8576b"
             ],
             [
              0.6666666666666666,
              "#ed7953"
             ],
             [
              0.7777777777777778,
              "#fb9f3a"
             ],
             [
              0.8888888888888888,
              "#fdca26"
             ],
             [
              1,
              "#f0f921"
             ]
            ],
            "type": "heatmap"
           }
          ],
          "heatmapgl": [
           {
            "colorbar": {
             "outlinewidth": 0,
             "ticks": ""
            },
            "colorscale": [
             [
              0,
              "#0d0887"
             ],
             [
              0.1111111111111111,
              "#46039f"
             ],
             [
              0.2222222222222222,
              "#7201a8"
             ],
             [
              0.3333333333333333,
              "#9c179e"
             ],
             [
              0.4444444444444444,
              "#bd3786"
             ],
             [
              0.5555555555555556,
              "#d8576b"
             ],
             [
              0.6666666666666666,
              "#ed7953"
             ],
             [
              0.7777777777777778,
              "#fb9f3a"
             ],
             [
              0.8888888888888888,
              "#fdca26"
             ],
             [
              1,
              "#f0f921"
             ]
            ],
            "type": "heatmapgl"
           }
          ],
          "histogram": [
           {
            "marker": {
             "pattern": {
              "fillmode": "overlay",
              "size": 10,
              "solidity": 0.2
             }
            },
            "type": "histogram"
           }
          ],
          "histogram2d": [
           {
            "colorbar": {
             "outlinewidth": 0,
             "ticks": ""
            },
            "colorscale": [
             [
              0,
              "#0d0887"
             ],
             [
              0.1111111111111111,
              "#46039f"
             ],
             [
              0.2222222222222222,
              "#7201a8"
             ],
             [
              0.3333333333333333,
              "#9c179e"
             ],
             [
              0.4444444444444444,
              "#bd3786"
             ],
             [
              0.5555555555555556,
              "#d8576b"
             ],
             [
              0.6666666666666666,
              "#ed7953"
             ],
             [
              0.7777777777777778,
              "#fb9f3a"
             ],
             [
              0.8888888888888888,
              "#fdca26"
             ],
             [
              1,
              "#f0f921"
             ]
            ],
            "type": "histogram2d"
           }
          ],
          "histogram2dcontour": [
           {
            "colorbar": {
             "outlinewidth": 0,
             "ticks": ""
            },
            "colorscale": [
             [
              0,
              "#0d0887"
             ],
             [
              0.1111111111111111,
              "#46039f"
             ],
             [
              0.2222222222222222,
              "#7201a8"
             ],
             [
              0.3333333333333333,
              "#9c179e"
             ],
             [
              0.4444444444444444,
              "#bd3786"
             ],
             [
              0.5555555555555556,
              "#d8576b"
             ],
             [
              0.6666666666666666,
              "#ed7953"
             ],
             [
              0.7777777777777778,
              "#fb9f3a"
             ],
             [
              0.8888888888888888,
              "#fdca26"
             ],
             [
              1,
              "#f0f921"
             ]
            ],
            "type": "histogram2dcontour"
           }
          ],
          "mesh3d": [
           {
            "colorbar": {
             "outlinewidth": 0,
             "ticks": ""
            },
            "type": "mesh3d"
           }
          ],
          "parcoords": [
           {
            "line": {
             "colorbar": {
              "outlinewidth": 0,
              "ticks": ""
             }
            },
            "type": "parcoords"
           }
          ],
          "pie": [
           {
            "automargin": true,
            "type": "pie"
           }
          ],
          "scatter": [
           {
            "fillpattern": {
             "fillmode": "overlay",
             "size": 10,
             "solidity": 0.2
            },
            "type": "scatter"
           }
          ],
          "scatter3d": [
           {
            "line": {
             "colorbar": {
              "outlinewidth": 0,
              "ticks": ""
             }
            },
            "marker": {
             "colorbar": {
              "outlinewidth": 0,
              "ticks": ""
             }
            },
            "type": "scatter3d"
           }
          ],
          "scattercarpet": [
           {
            "marker": {
             "colorbar": {
              "outlinewidth": 0,
              "ticks": ""
             }
            },
            "type": "scattercarpet"
           }
          ],
          "scattergeo": [
           {
            "marker": {
             "colorbar": {
              "outlinewidth": 0,
              "ticks": ""
             }
            },
            "type": "scattergeo"
           }
          ],
          "scattergl": [
           {
            "marker": {
             "colorbar": {
              "outlinewidth": 0,
              "ticks": ""
             }
            },
            "type": "scattergl"
           }
          ],
          "scattermapbox": [
           {
            "marker": {
             "colorbar": {
              "outlinewidth": 0,
              "ticks": ""
             }
            },
            "type": "scattermapbox"
           }
          ],
          "scatterpolar": [
           {
            "marker": {
             "colorbar": {
              "outlinewidth": 0,
              "ticks": ""
             }
            },
            "type": "scatterpolar"
           }
          ],
          "scatterpolargl": [
           {
            "marker": {
             "colorbar": {
              "outlinewidth": 0,
              "ticks": ""
             }
            },
            "type": "scatterpolargl"
           }
          ],
          "scatterternary": [
           {
            "marker": {
             "colorbar": {
              "outlinewidth": 0,
              "ticks": ""
             }
            },
            "type": "scatterternary"
           }
          ],
          "surface": [
           {
            "colorbar": {
             "outlinewidth": 0,
             "ticks": ""
            },
            "colorscale": [
             [
              0,
              "#0d0887"
             ],
             [
              0.1111111111111111,
              "#46039f"
             ],
             [
              0.2222222222222222,
              "#7201a8"
             ],
             [
              0.3333333333333333,
              "#9c179e"
             ],
             [
              0.4444444444444444,
              "#bd3786"
             ],
             [
              0.5555555555555556,
              "#d8576b"
             ],
             [
              0.6666666666666666,
              "#ed7953"
             ],
             [
              0.7777777777777778,
              "#fb9f3a"
             ],
             [
              0.8888888888888888,
              "#fdca26"
             ],
             [
              1,
              "#f0f921"
             ]
            ],
            "type": "surface"
           }
          ],
          "table": [
           {
            "cells": {
             "fill": {
              "color": "#EBF0F8"
             },
             "line": {
              "color": "white"
             }
            },
            "header": {
             "fill": {
              "color": "#C8D4E3"
             },
             "line": {
              "color": "white"
             }
            },
            "type": "table"
           }
          ]
         },
         "layout": {
          "annotationdefaults": {
           "arrowcolor": "#2a3f5f",
           "arrowhead": 0,
           "arrowwidth": 1
          },
          "autotypenumbers": "strict",
          "coloraxis": {
           "colorbar": {
            "outlinewidth": 0,
            "ticks": ""
           }
          },
          "colorscale": {
           "diverging": [
            [
             0,
             "#8e0152"
            ],
            [
             0.1,
             "#c51b7d"
            ],
            [
             0.2,
             "#de77ae"
            ],
            [
             0.3,
             "#f1b6da"
            ],
            [
             0.4,
             "#fde0ef"
            ],
            [
             0.5,
             "#f7f7f7"
            ],
            [
             0.6,
             "#e6f5d0"
            ],
            [
             0.7,
             "#b8e186"
            ],
            [
             0.8,
             "#7fbc41"
            ],
            [
             0.9,
             "#4d9221"
            ],
            [
             1,
             "#276419"
            ]
           ],
           "sequential": [
            [
             0,
             "#0d0887"
            ],
            [
             0.1111111111111111,
             "#46039f"
            ],
            [
             0.2222222222222222,
             "#7201a8"
            ],
            [
             0.3333333333333333,
             "#9c179e"
            ],
            [
             0.4444444444444444,
             "#bd3786"
            ],
            [
             0.5555555555555556,
             "#d8576b"
            ],
            [
             0.6666666666666666,
             "#ed7953"
            ],
            [
             0.7777777777777778,
             "#fb9f3a"
            ],
            [
             0.8888888888888888,
             "#fdca26"
            ],
            [
             1,
             "#f0f921"
            ]
           ],
           "sequentialminus": [
            [
             0,
             "#0d0887"
            ],
            [
             0.1111111111111111,
             "#46039f"
            ],
            [
             0.2222222222222222,
             "#7201a8"
            ],
            [
             0.3333333333333333,
             "#9c179e"
            ],
            [
             0.4444444444444444,
             "#bd3786"
            ],
            [
             0.5555555555555556,
             "#d8576b"
            ],
            [
             0.6666666666666666,
             "#ed7953"
            ],
            [
             0.7777777777777778,
             "#fb9f3a"
            ],
            [
             0.8888888888888888,
             "#fdca26"
            ],
            [
             1,
             "#f0f921"
            ]
           ]
          },
          "colorway": [
           "#636efa",
           "#EF553B",
           "#00cc96",
           "#ab63fa",
           "#FFA15A",
           "#19d3f3",
           "#FF6692",
           "#B6E880",
           "#FF97FF",
           "#FECB52"
          ],
          "font": {
           "color": "#2a3f5f"
          },
          "geo": {
           "bgcolor": "white",
           "lakecolor": "white",
           "landcolor": "#E5ECF6",
           "showlakes": true,
           "showland": true,
           "subunitcolor": "white"
          },
          "hoverlabel": {
           "align": "left"
          },
          "hovermode": "closest",
          "mapbox": {
           "style": "light"
          },
          "paper_bgcolor": "white",
          "plot_bgcolor": "#E5ECF6",
          "polar": {
           "angularaxis": {
            "gridcolor": "white",
            "linecolor": "white",
            "ticks": ""
           },
           "bgcolor": "#E5ECF6",
           "radialaxis": {
            "gridcolor": "white",
            "linecolor": "white",
            "ticks": ""
           }
          },
          "scene": {
           "xaxis": {
            "backgroundcolor": "#E5ECF6",
            "gridcolor": "white",
            "gridwidth": 2,
            "linecolor": "white",
            "showbackground": true,
            "ticks": "",
            "zerolinecolor": "white"
           },
           "yaxis": {
            "backgroundcolor": "#E5ECF6",
            "gridcolor": "white",
            "gridwidth": 2,
            "linecolor": "white",
            "showbackground": true,
            "ticks": "",
            "zerolinecolor": "white"
           },
           "zaxis": {
            "backgroundcolor": "#E5ECF6",
            "gridcolor": "white",
            "gridwidth": 2,
            "linecolor": "white",
            "showbackground": true,
            "ticks": "",
            "zerolinecolor": "white"
           }
          },
          "shapedefaults": {
           "line": {
            "color": "#2a3f5f"
           }
          },
          "ternary": {
           "aaxis": {
            "gridcolor": "white",
            "linecolor": "white",
            "ticks": ""
           },
           "baxis": {
            "gridcolor": "white",
            "linecolor": "white",
            "ticks": ""
           },
           "bgcolor": "#E5ECF6",
           "caxis": {
            "gridcolor": "white",
            "linecolor": "white",
            "ticks": ""
           }
          },
          "title": {
           "x": 0.05
          },
          "xaxis": {
           "automargin": true,
           "gridcolor": "white",
           "linecolor": "white",
           "ticks": "",
           "title": {
            "standoff": 15
           },
           "zerolinecolor": "white",
           "zerolinewidth": 2
          },
          "yaxis": {
           "automargin": true,
           "gridcolor": "white",
           "linecolor": "white",
           "ticks": "",
           "title": {
            "standoff": 15
           },
           "zerolinecolor": "white",
           "zerolinewidth": 2
          }
         }
        },
        "title": {
         "text": "Top 15 Districts by Price Category (2021 vs 2023)"
        },
        "width": 1400,
        "xaxis": {
         "anchor": "y",
         "domain": [
          0,
          1
         ],
         "tickfont": {
          "size": 15
         }
        },
        "xaxis2": {
         "anchor": "y2",
         "domain": [
          0,
          1
         ],
         "tickfont": {
          "size": 15
         }
        },
        "xaxis3": {
         "anchor": "y3",
         "domain": [
          0,
          1
         ],
         "tickfont": {
          "size": 15
         }
        },
        "xaxis4": {
         "anchor": "y4",
         "domain": [
          0,
          1
         ],
         "tickfont": {
          "size": 15
         }
        },
        "yaxis": {
         "anchor": "x",
         "domain": [
          0.9,
          1
         ]
        },
        "yaxis2": {
         "anchor": "x2",
         "domain": [
          0.6,
          0.7
         ]
        },
        "yaxis3": {
         "anchor": "x3",
         "domain": [
          0.3,
          0.39999999999999997
         ]
        },
        "yaxis4": {
         "anchor": "x4",
         "domain": [
          0,
          0.09999999999999998
         ]
        }
       }
      }
     },
     "metadata": {},
     "output_type": "display_data"
    }
   ],
   "source": [
    "import warnings\n",
    "warnings.filterwarnings(\"ignore\", category=DeprecationWarning)\n",
    "\n",
    "price_categories = result_df['Price_Category'].unique()\n",
    "\n",
    "# Create the subplots with 1 column and 4 rows\n",
    "fig = sp.make_subplots(rows=4, cols=1, subplot_titles=price_categories,\n",
    "                       vertical_spacing=0.2)\n",
    "\n",
    "# Color palette for each plot\n",
    "colors = ['#1f77b4', '#ff7f0e', '#2ca02c', '#d62728']\n",
    "\n",
    "# Iterate through the price categories and plot the data\n",
    "for i, category in enumerate(price_categories):\n",
    "    row = i + 1\n",
    "    \n",
    "    # Filter top 15 districts for each price category\n",
    "    top_15 = result_df[result_df['Price_Category'] == category].nlargest(25, 'Price/Meter_Diff')\n",
    "    \n",
    "    # Adding the bar plots for Price/Meter_2021 and Price/Meter_2023\n",
    "    fig.add_trace(go.Scatter(x=top_15['District'], y=top_15['Price/Meter_Growth'], name='Price/Meter_Growth',mode='lines+markers',\n",
    "                         marker_color=colors[i % len(colors)]), row=row, col=1)\n",
    "    fig.add_trace(go.Scatter(x=top_15['District'], y=top_15['Price/Meter_TotalMedian'], name='Price/Meter_TotalMedian',mode='lines+markers',\n",
    "                         marker_color=colors[i % len(colors)], opacity=0.6), row=row, col=1)\n",
    "\n",
    "# Update layout to adjust plot size, title, and legend\n",
    "fig.update_layout(height=1400, width=1400, title_text=\"Top 15 Districts by Price Category (2021 vs 2023)\",\n",
    "                  showlegend=True )\n",
    "fig.update_xaxes(tickfont=dict(size=15))"
   ]
  },
  {
   "cell_type": "code",
   "execution_count": 90,
   "metadata": {},
   "outputs": [],
   "source": [
    "Tehrandf = pd.read_excel('result_df.xlsx')\n",
    "Tehran_SalesTraction = pd.read_excel('TehranData_SalesTraction.xlsx')"
   ]
  },
  {
   "cell_type": "code",
   "execution_count": 91,
   "metadata": {},
   "outputs": [
    {
     "data": {
      "text/html": [
       "<div>\n",
       "<style scoped>\n",
       "    .dataframe tbody tr th:only-of-type {\n",
       "        vertical-align: middle;\n",
       "    }\n",
       "\n",
       "    .dataframe tbody tr th {\n",
       "        vertical-align: top;\n",
       "    }\n",
       "\n",
       "    .dataframe thead th {\n",
       "        text-align: right;\n",
       "    }\n",
       "</style>\n",
       "<table border=\"1\" class=\"dataframe\">\n",
       "  <thead>\n",
       "    <tr style=\"text-align: right;\">\n",
       "      <th></th>\n",
       "      <th>District</th>\n",
       "      <th>District Code</th>\n",
       "      <th>Price/Meter_2021</th>\n",
       "      <th>Price/Meter_2023</th>\n",
       "      <th>Price/Meter_Diff</th>\n",
       "      <th>Price/Meter_Growth</th>\n",
       "      <th>Price/Meter_TotalMedian</th>\n",
       "      <th>Room_Diff</th>\n",
       "      <th>Area_Diff</th>\n",
       "      <th>Warehouse%_Diff</th>\n",
       "      <th>Elevator%_Diff</th>\n",
       "      <th>Parking%_Diff</th>\n",
       "      <th>Price_Category</th>\n",
       "    </tr>\n",
       "  </thead>\n",
       "  <tbody>\n",
       "    <tr>\n",
       "      <th>0</th>\n",
       "      <td>اباذر</td>\n",
       "      <td>5</td>\n",
       "      <td>3.983984e+07</td>\n",
       "      <td>9.743118e+07</td>\n",
       "      <td>57591344</td>\n",
       "      <td>1.45</td>\n",
       "      <td>1.07</td>\n",
       "      <td>0.0</td>\n",
       "      <td>16.72</td>\n",
       "      <td>-8.8</td>\n",
       "      <td>9.0</td>\n",
       "      <td>3.0</td>\n",
       "      <td>Very High</td>\n",
       "    </tr>\n",
       "    <tr>\n",
       "      <th>2</th>\n",
       "      <td>ابن بابویه</td>\n",
       "      <td>20</td>\n",
       "      <td>1.497126e+07</td>\n",
       "      <td>4.615385e+07</td>\n",
       "      <td>31182582</td>\n",
       "      <td>2.08</td>\n",
       "      <td>0.58</td>\n",
       "      <td>0.0</td>\n",
       "      <td>22.40</td>\n",
       "      <td>40.8</td>\n",
       "      <td>56.2</td>\n",
       "      <td>37.0</td>\n",
       "      <td>Medium</td>\n",
       "    </tr>\n",
       "    <tr>\n",
       "      <th>12</th>\n",
       "      <td>استخر</td>\n",
       "      <td>20</td>\n",
       "      <td>2.600000e+07</td>\n",
       "      <td>6.779661e+07</td>\n",
       "      <td>41796610</td>\n",
       "      <td>1.61</td>\n",
       "      <td>0.77</td>\n",
       "      <td>0.0</td>\n",
       "      <td>0.72</td>\n",
       "      <td>-3.7</td>\n",
       "      <td>18.9</td>\n",
       "      <td>16.6</td>\n",
       "      <td>High</td>\n",
       "    </tr>\n",
       "    <tr>\n",
       "      <th>23</th>\n",
       "      <td>امامزاده حسن(ع)</td>\n",
       "      <td>17</td>\n",
       "      <td>1.481481e+07</td>\n",
       "      <td>4.305710e+07</td>\n",
       "      <td>28242286</td>\n",
       "      <td>1.91</td>\n",
       "      <td>0.52</td>\n",
       "      <td>1.0</td>\n",
       "      <td>4.88</td>\n",
       "      <td>-2.8</td>\n",
       "      <td>6.4</td>\n",
       "      <td>11.1</td>\n",
       "      <td>Very Low</td>\n",
       "    </tr>\n",
       "    <tr>\n",
       "      <th>28</th>\n",
       "      <td>امیریه</td>\n",
       "      <td>11</td>\n",
       "      <td>1.604409e+07</td>\n",
       "      <td>4.571429e+07</td>\n",
       "      <td>29670197</td>\n",
       "      <td>1.85</td>\n",
       "      <td>0.55</td>\n",
       "      <td>0.0</td>\n",
       "      <td>5.81</td>\n",
       "      <td>-42.5</td>\n",
       "      <td>39.4</td>\n",
       "      <td>5.7</td>\n",
       "      <td>Medium</td>\n",
       "    </tr>\n",
       "    <tr>\n",
       "      <th>...</th>\n",
       "      <td>...</td>\n",
       "      <td>...</td>\n",
       "      <td>...</td>\n",
       "      <td>...</td>\n",
       "      <td>...</td>\n",
       "      <td>...</td>\n",
       "      <td>...</td>\n",
       "      <td>...</td>\n",
       "      <td>...</td>\n",
       "      <td>...</td>\n",
       "      <td>...</td>\n",
       "      <td>...</td>\n",
       "      <td>...</td>\n",
       "    </tr>\n",
       "    <tr>\n",
       "      <th>316</th>\n",
       "      <td>نواب</td>\n",
       "      <td>10</td>\n",
       "      <td>1.516808e+07</td>\n",
       "      <td>4.384615e+07</td>\n",
       "      <td>28678075</td>\n",
       "      <td>1.89</td>\n",
       "      <td>0.53</td>\n",
       "      <td>0.0</td>\n",
       "      <td>6.78</td>\n",
       "      <td>-29.4</td>\n",
       "      <td>38.9</td>\n",
       "      <td>6.9</td>\n",
       "      <td>Very Low</td>\n",
       "    </tr>\n",
       "    <tr>\n",
       "      <th>319</th>\n",
       "      <td>نیلوفر</td>\n",
       "      <td>7</td>\n",
       "      <td>4.857740e+07</td>\n",
       "      <td>1.184167e+08</td>\n",
       "      <td>69839266</td>\n",
       "      <td>1.44</td>\n",
       "      <td>1.29</td>\n",
       "      <td>1.0</td>\n",
       "      <td>17.57</td>\n",
       "      <td>12.0</td>\n",
       "      <td>14.0</td>\n",
       "      <td>6.6</td>\n",
       "      <td>Very High</td>\n",
       "    </tr>\n",
       "    <tr>\n",
       "      <th>320</th>\n",
       "      <td>هاشم‌آباد</td>\n",
       "      <td>15</td>\n",
       "      <td>1.247642e+07</td>\n",
       "      <td>3.573214e+07</td>\n",
       "      <td>23255728</td>\n",
       "      <td>1.86</td>\n",
       "      <td>0.43</td>\n",
       "      <td>0.0</td>\n",
       "      <td>4.84</td>\n",
       "      <td>3.1</td>\n",
       "      <td>-7.9</td>\n",
       "      <td>5.3</td>\n",
       "      <td>Very Low</td>\n",
       "    </tr>\n",
       "    <tr>\n",
       "      <th>323</th>\n",
       "      <td>هزارسنگ</td>\n",
       "      <td>1</td>\n",
       "      <td>5.340909e+07</td>\n",
       "      <td>1.566952e+08</td>\n",
       "      <td>103286066</td>\n",
       "      <td>1.93</td>\n",
       "      <td>1.91</td>\n",
       "      <td>0.5</td>\n",
       "      <td>41.50</td>\n",
       "      <td>0.0</td>\n",
       "      <td>0.0</td>\n",
       "      <td>0.0</td>\n",
       "      <td>Very High</td>\n",
       "    </tr>\n",
       "    <tr>\n",
       "      <th>324</th>\n",
       "      <td>هفت چنار</td>\n",
       "      <td>10</td>\n",
       "      <td>1.715633e+07</td>\n",
       "      <td>5.119048e+07</td>\n",
       "      <td>34034142</td>\n",
       "      <td>1.98</td>\n",
       "      <td>0.63</td>\n",
       "      <td>0.0</td>\n",
       "      <td>4.34</td>\n",
       "      <td>-35.7</td>\n",
       "      <td>38.9</td>\n",
       "      <td>12.6</td>\n",
       "      <td>Medium</td>\n",
       "    </tr>\n",
       "  </tbody>\n",
       "</table>\n",
       "<p>62 rows × 13 columns</p>\n",
       "</div>"
      ],
      "text/plain": [
       "            District  District Code  Price/Meter_2021  Price/Meter_2023  \\\n",
       "0              اباذر              5      3.983984e+07      9.743118e+07   \n",
       "2         ابن بابویه             20      1.497126e+07      4.615385e+07   \n",
       "12             استخر             20      2.600000e+07      6.779661e+07   \n",
       "23   امامزاده حسن(ع)             17      1.481481e+07      4.305710e+07   \n",
       "28            امیریه             11      1.604409e+07      4.571429e+07   \n",
       "..               ...            ...               ...               ...   \n",
       "316             نواب             10      1.516808e+07      4.384615e+07   \n",
       "319           نیلوفر              7      4.857740e+07      1.184167e+08   \n",
       "320        هاشم‌آباد             15      1.247642e+07      3.573214e+07   \n",
       "323          هزارسنگ              1      5.340909e+07      1.566952e+08   \n",
       "324         هفت چنار             10      1.715633e+07      5.119048e+07   \n",
       "\n",
       "     Price/Meter_Diff  Price/Meter_Growth  Price/Meter_TotalMedian  Room_Diff  \\\n",
       "0            57591344                1.45                     1.07        0.0   \n",
       "2            31182582                2.08                     0.58        0.0   \n",
       "12           41796610                1.61                     0.77        0.0   \n",
       "23           28242286                1.91                     0.52        1.0   \n",
       "28           29670197                1.85                     0.55        0.0   \n",
       "..                ...                 ...                      ...        ...   \n",
       "316          28678075                1.89                     0.53        0.0   \n",
       "319          69839266                1.44                     1.29        1.0   \n",
       "320          23255728                1.86                     0.43        0.0   \n",
       "323         103286066                1.93                     1.91        0.5   \n",
       "324          34034142                1.98                     0.63        0.0   \n",
       "\n",
       "     Area_Diff  Warehouse%_Diff  Elevator%_Diff  Parking%_Diff Price_Category  \n",
       "0        16.72             -8.8             9.0            3.0      Very High  \n",
       "2        22.40             40.8            56.2           37.0         Medium  \n",
       "12        0.72             -3.7            18.9           16.6           High  \n",
       "23        4.88             -2.8             6.4           11.1       Very Low  \n",
       "28        5.81            -42.5            39.4            5.7         Medium  \n",
       "..         ...              ...             ...            ...            ...  \n",
       "316       6.78            -29.4            38.9            6.9       Very Low  \n",
       "319      17.57             12.0            14.0            6.6      Very High  \n",
       "320       4.84              3.1            -7.9            5.3       Very Low  \n",
       "323      41.50              0.0             0.0            0.0      Very High  \n",
       "324       4.34            -35.7            38.9           12.6         Medium  \n",
       "\n",
       "[62 rows x 13 columns]"
      ]
     },
     "execution_count": 91,
     "metadata": {},
     "output_type": "execute_result"
    }
   ],
   "source": [
    "Tehrandf_60 = Tehrandf[Tehrandf['District Code'].isnull() == False]\n",
    "Tehrandf_60['District Code'] = Tehrandf_60['District Code'].astype(int)\n",
    "Tehrandf_60"
   ]
  },
  {
   "cell_type": "markdown",
   "metadata": {},
   "source": [
    "![alt text](<عيزوت  ت رهش قطانم ه هدش ماجنا تلاماعم دادعت زا مهس بسحرب نار رد دادرم هام  لاس 1-1.png>)"
   ]
  },
  {
   "cell_type": "code",
   "execution_count": 96,
   "metadata": {},
   "outputs": [
    {
     "data": {
      "text/html": [
       "<div>\n",
       "<style scoped>\n",
       "    .dataframe tbody tr th:only-of-type {\n",
       "        vertical-align: middle;\n",
       "    }\n",
       "\n",
       "    .dataframe tbody tr th {\n",
       "        vertical-align: top;\n",
       "    }\n",
       "\n",
       "    .dataframe thead th {\n",
       "        text-align: right;\n",
       "    }\n",
       "</style>\n",
       "<table border=\"1\" class=\"dataframe\">\n",
       "  <thead>\n",
       "    <tr style=\"text-align: right;\">\n",
       "      <th></th>\n",
       "      <th>District Code</th>\n",
       "      <th>Transaction Amount</th>\n",
       "      <th>Average Prive</th>\n",
       "      <th>Transaction Amount(%)</th>\n",
       "    </tr>\n",
       "  </thead>\n",
       "  <tbody>\n",
       "    <tr>\n",
       "      <th>0</th>\n",
       "      <td>1</td>\n",
       "      <td>197</td>\n",
       "      <td>1790.1</td>\n",
       "      <td>5.38</td>\n",
       "    </tr>\n",
       "    <tr>\n",
       "      <th>1</th>\n",
       "      <td>2</td>\n",
       "      <td>298</td>\n",
       "      <td>1373.0</td>\n",
       "      <td>8.13</td>\n",
       "    </tr>\n",
       "    <tr>\n",
       "      <th>2</th>\n",
       "      <td>3</td>\n",
       "      <td>175</td>\n",
       "      <td>1433.1</td>\n",
       "      <td>4.77</td>\n",
       "    </tr>\n",
       "    <tr>\n",
       "      <th>3</th>\n",
       "      <td>4</td>\n",
       "      <td>284</td>\n",
       "      <td>971.0</td>\n",
       "      <td>7.75</td>\n",
       "    </tr>\n",
       "    <tr>\n",
       "      <th>4</th>\n",
       "      <td>5</td>\n",
       "      <td>512</td>\n",
       "      <td>1064.1</td>\n",
       "      <td>13.97</td>\n",
       "    </tr>\n",
       "    <tr>\n",
       "      <th>5</th>\n",
       "      <td>6</td>\n",
       "      <td>156</td>\n",
       "      <td>1116.8</td>\n",
       "      <td>4.26</td>\n",
       "    </tr>\n",
       "    <tr>\n",
       "      <th>6</th>\n",
       "      <td>7</td>\n",
       "      <td>222</td>\n",
       "      <td>865.1</td>\n",
       "      <td>6.06</td>\n",
       "    </tr>\n",
       "    <tr>\n",
       "      <th>7</th>\n",
       "      <td>8</td>\n",
       "      <td>224</td>\n",
       "      <td>843.4</td>\n",
       "      <td>6.11</td>\n",
       "    </tr>\n",
       "    <tr>\n",
       "      <th>8</th>\n",
       "      <td>9</td>\n",
       "      <td>108</td>\n",
       "      <td>673.8</td>\n",
       "      <td>2.95</td>\n",
       "    </tr>\n",
       "    <tr>\n",
       "      <th>9</th>\n",
       "      <td>10</td>\n",
       "      <td>354</td>\n",
       "      <td>641.6</td>\n",
       "      <td>9.66</td>\n",
       "    </tr>\n",
       "    <tr>\n",
       "      <th>10</th>\n",
       "      <td>11</td>\n",
       "      <td>157</td>\n",
       "      <td>641.9</td>\n",
       "      <td>4.28</td>\n",
       "    </tr>\n",
       "    <tr>\n",
       "      <th>11</th>\n",
       "      <td>12</td>\n",
       "      <td>74</td>\n",
       "      <td>588.7</td>\n",
       "      <td>2.02</td>\n",
       "    </tr>\n",
       "    <tr>\n",
       "      <th>12</th>\n",
       "      <td>13</td>\n",
       "      <td>125</td>\n",
       "      <td>820.6</td>\n",
       "      <td>3.41</td>\n",
       "    </tr>\n",
       "    <tr>\n",
       "      <th>13</th>\n",
       "      <td>14</td>\n",
       "      <td>206</td>\n",
       "      <td>698.4</td>\n",
       "      <td>5.62</td>\n",
       "    </tr>\n",
       "    <tr>\n",
       "      <th>14</th>\n",
       "      <td>15</td>\n",
       "      <td>182</td>\n",
       "      <td>507.5</td>\n",
       "      <td>4.97</td>\n",
       "    </tr>\n",
       "    <tr>\n",
       "      <th>15</th>\n",
       "      <td>16</td>\n",
       "      <td>43</td>\n",
       "      <td>491.0</td>\n",
       "      <td>1.17</td>\n",
       "    </tr>\n",
       "    <tr>\n",
       "      <th>16</th>\n",
       "      <td>17</td>\n",
       "      <td>80</td>\n",
       "      <td>518.2</td>\n",
       "      <td>2.18</td>\n",
       "    </tr>\n",
       "    <tr>\n",
       "      <th>17</th>\n",
       "      <td>18</td>\n",
       "      <td>78</td>\n",
       "      <td>421.2</td>\n",
       "      <td>2.13</td>\n",
       "    </tr>\n",
       "    <tr>\n",
       "      <th>18</th>\n",
       "      <td>19</td>\n",
       "      <td>35</td>\n",
       "      <td>477.1</td>\n",
       "      <td>0.95</td>\n",
       "    </tr>\n",
       "    <tr>\n",
       "      <th>19</th>\n",
       "      <td>20</td>\n",
       "      <td>33</td>\n",
       "      <td>525.6</td>\n",
       "      <td>0.90</td>\n",
       "    </tr>\n",
       "    <tr>\n",
       "      <th>20</th>\n",
       "      <td>21</td>\n",
       "      <td>55</td>\n",
       "      <td>660.0</td>\n",
       "      <td>1.50</td>\n",
       "    </tr>\n",
       "    <tr>\n",
       "      <th>21</th>\n",
       "      <td>22</td>\n",
       "      <td>67</td>\n",
       "      <td>827.0</td>\n",
       "      <td>1.83</td>\n",
       "    </tr>\n",
       "  </tbody>\n",
       "</table>\n",
       "</div>"
      ],
      "text/plain": [
       "    District Code  Transaction Amount  Average Prive  Transaction Amount(%)\n",
       "0               1                 197         1790.1                   5.38\n",
       "1               2                 298         1373.0                   8.13\n",
       "2               3                 175         1433.1                   4.77\n",
       "3               4                 284          971.0                   7.75\n",
       "4               5                 512         1064.1                  13.97\n",
       "5               6                 156         1116.8                   4.26\n",
       "6               7                 222          865.1                   6.06\n",
       "7               8                 224          843.4                   6.11\n",
       "8               9                 108          673.8                   2.95\n",
       "9              10                 354          641.6                   9.66\n",
       "10             11                 157          641.9                   4.28\n",
       "11             12                  74          588.7                   2.02\n",
       "12             13                 125          820.6                   3.41\n",
       "13             14                 206          698.4                   5.62\n",
       "14             15                 182          507.5                   4.97\n",
       "15             16                  43          491.0                   1.17\n",
       "16             17                  80          518.2                   2.18\n",
       "17             18                  78          421.2                   2.13\n",
       "18             19                  35          477.1                   0.95\n",
       "19             20                  33          525.6                   0.90\n",
       "20             21                  55          660.0                   1.50\n",
       "21             22                  67          827.0                   1.83"
      ]
     },
     "execution_count": 96,
     "metadata": {},
     "output_type": "execute_result"
    }
   ],
   "source": [
    "Tehran_SalesTraction['Transaction Amount(%)'] = ((Tehran_SalesTraction['Transaction Amount']/Tehran_SalesTraction['Transaction Amount'].sum())*100).round(2)\n",
    "Tehran_SalesTraction"
   ]
  },
  {
   "cell_type": "code",
   "execution_count": 103,
   "metadata": {},
   "outputs": [
    {
     "data": {
      "text/html": [
       "<div>\n",
       "<style scoped>\n",
       "    .dataframe tbody tr th:only-of-type {\n",
       "        vertical-align: middle;\n",
       "    }\n",
       "\n",
       "    .dataframe tbody tr th {\n",
       "        vertical-align: top;\n",
       "    }\n",
       "\n",
       "    .dataframe thead th {\n",
       "        text-align: right;\n",
       "    }\n",
       "</style>\n",
       "<table border=\"1\" class=\"dataframe\">\n",
       "  <thead>\n",
       "    <tr style=\"text-align: right;\">\n",
       "      <th></th>\n",
       "      <th>District</th>\n",
       "      <th>District Code</th>\n",
       "      <th>Price/Meter_2021</th>\n",
       "      <th>Price/Meter_2023</th>\n",
       "      <th>Price/Meter_Diff</th>\n",
       "      <th>Price/Meter_Growth</th>\n",
       "      <th>Price/Meter_TotalMedian</th>\n",
       "      <th>Room_Diff</th>\n",
       "      <th>Area_Diff</th>\n",
       "      <th>Warehouse%_Diff</th>\n",
       "      <th>Elevator%_Diff</th>\n",
       "      <th>Parking%_Diff</th>\n",
       "      <th>Price_Category</th>\n",
       "      <th>Transaction Amount</th>\n",
       "      <th>Average Prive</th>\n",
       "      <th>Transaction Amount(%)</th>\n",
       "    </tr>\n",
       "  </thead>\n",
       "  <tbody>\n",
       "    <tr>\n",
       "      <th>0</th>\n",
       "      <td>اباذر</td>\n",
       "      <td>5</td>\n",
       "      <td>3.983984e+07</td>\n",
       "      <td>9.743118e+07</td>\n",
       "      <td>57591344</td>\n",
       "      <td>1.45</td>\n",
       "      <td>1.07</td>\n",
       "      <td>0.0</td>\n",
       "      <td>16.72</td>\n",
       "      <td>-8.8</td>\n",
       "      <td>9.0</td>\n",
       "      <td>3.0</td>\n",
       "      <td>Very High</td>\n",
       "      <td>512</td>\n",
       "      <td>1064.1</td>\n",
       "      <td>13.97</td>\n",
       "    </tr>\n",
       "    <tr>\n",
       "      <th>1</th>\n",
       "      <td>ابن بابویه</td>\n",
       "      <td>20</td>\n",
       "      <td>1.497126e+07</td>\n",
       "      <td>4.615385e+07</td>\n",
       "      <td>31182582</td>\n",
       "      <td>2.08</td>\n",
       "      <td>0.58</td>\n",
       "      <td>0.0</td>\n",
       "      <td>22.40</td>\n",
       "      <td>40.8</td>\n",
       "      <td>56.2</td>\n",
       "      <td>37.0</td>\n",
       "      <td>Medium</td>\n",
       "      <td>33</td>\n",
       "      <td>525.6</td>\n",
       "      <td>0.90</td>\n",
       "    </tr>\n",
       "    <tr>\n",
       "      <th>2</th>\n",
       "      <td>استخر</td>\n",
       "      <td>20</td>\n",
       "      <td>2.600000e+07</td>\n",
       "      <td>6.779661e+07</td>\n",
       "      <td>41796610</td>\n",
       "      <td>1.61</td>\n",
       "      <td>0.77</td>\n",
       "      <td>0.0</td>\n",
       "      <td>0.72</td>\n",
       "      <td>-3.7</td>\n",
       "      <td>18.9</td>\n",
       "      <td>16.6</td>\n",
       "      <td>High</td>\n",
       "      <td>33</td>\n",
       "      <td>525.6</td>\n",
       "      <td>0.90</td>\n",
       "    </tr>\n",
       "    <tr>\n",
       "      <th>3</th>\n",
       "      <td>امامزاده حسن(ع)</td>\n",
       "      <td>17</td>\n",
       "      <td>1.481481e+07</td>\n",
       "      <td>4.305710e+07</td>\n",
       "      <td>28242286</td>\n",
       "      <td>1.91</td>\n",
       "      <td>0.52</td>\n",
       "      <td>1.0</td>\n",
       "      <td>4.88</td>\n",
       "      <td>-2.8</td>\n",
       "      <td>6.4</td>\n",
       "      <td>11.1</td>\n",
       "      <td>Very Low</td>\n",
       "      <td>80</td>\n",
       "      <td>518.2</td>\n",
       "      <td>2.18</td>\n",
       "    </tr>\n",
       "    <tr>\n",
       "      <th>4</th>\n",
       "      <td>امیریه</td>\n",
       "      <td>11</td>\n",
       "      <td>1.604409e+07</td>\n",
       "      <td>4.571429e+07</td>\n",
       "      <td>29670197</td>\n",
       "      <td>1.85</td>\n",
       "      <td>0.55</td>\n",
       "      <td>0.0</td>\n",
       "      <td>5.81</td>\n",
       "      <td>-42.5</td>\n",
       "      <td>39.4</td>\n",
       "      <td>5.7</td>\n",
       "      <td>Medium</td>\n",
       "      <td>157</td>\n",
       "      <td>641.9</td>\n",
       "      <td>4.28</td>\n",
       "    </tr>\n",
       "    <tr>\n",
       "      <th>...</th>\n",
       "      <td>...</td>\n",
       "      <td>...</td>\n",
       "      <td>...</td>\n",
       "      <td>...</td>\n",
       "      <td>...</td>\n",
       "      <td>...</td>\n",
       "      <td>...</td>\n",
       "      <td>...</td>\n",
       "      <td>...</td>\n",
       "      <td>...</td>\n",
       "      <td>...</td>\n",
       "      <td>...</td>\n",
       "      <td>...</td>\n",
       "      <td>...</td>\n",
       "      <td>...</td>\n",
       "      <td>...</td>\n",
       "    </tr>\n",
       "    <tr>\n",
       "      <th>57</th>\n",
       "      <td>نواب</td>\n",
       "      <td>10</td>\n",
       "      <td>1.516808e+07</td>\n",
       "      <td>4.384615e+07</td>\n",
       "      <td>28678075</td>\n",
       "      <td>1.89</td>\n",
       "      <td>0.53</td>\n",
       "      <td>0.0</td>\n",
       "      <td>6.78</td>\n",
       "      <td>-29.4</td>\n",
       "      <td>38.9</td>\n",
       "      <td>6.9</td>\n",
       "      <td>Very Low</td>\n",
       "      <td>354</td>\n",
       "      <td>641.6</td>\n",
       "      <td>9.66</td>\n",
       "    </tr>\n",
       "    <tr>\n",
       "      <th>58</th>\n",
       "      <td>نیلوفر</td>\n",
       "      <td>7</td>\n",
       "      <td>4.857740e+07</td>\n",
       "      <td>1.184167e+08</td>\n",
       "      <td>69839266</td>\n",
       "      <td>1.44</td>\n",
       "      <td>1.29</td>\n",
       "      <td>1.0</td>\n",
       "      <td>17.57</td>\n",
       "      <td>12.0</td>\n",
       "      <td>14.0</td>\n",
       "      <td>6.6</td>\n",
       "      <td>Very High</td>\n",
       "      <td>222</td>\n",
       "      <td>865.1</td>\n",
       "      <td>6.06</td>\n",
       "    </tr>\n",
       "    <tr>\n",
       "      <th>59</th>\n",
       "      <td>هاشم‌آباد</td>\n",
       "      <td>15</td>\n",
       "      <td>1.247642e+07</td>\n",
       "      <td>3.573214e+07</td>\n",
       "      <td>23255728</td>\n",
       "      <td>1.86</td>\n",
       "      <td>0.43</td>\n",
       "      <td>0.0</td>\n",
       "      <td>4.84</td>\n",
       "      <td>3.1</td>\n",
       "      <td>-7.9</td>\n",
       "      <td>5.3</td>\n",
       "      <td>Very Low</td>\n",
       "      <td>182</td>\n",
       "      <td>507.5</td>\n",
       "      <td>4.97</td>\n",
       "    </tr>\n",
       "    <tr>\n",
       "      <th>60</th>\n",
       "      <td>هزارسنگ</td>\n",
       "      <td>1</td>\n",
       "      <td>5.340909e+07</td>\n",
       "      <td>1.566952e+08</td>\n",
       "      <td>103286066</td>\n",
       "      <td>1.93</td>\n",
       "      <td>1.91</td>\n",
       "      <td>0.5</td>\n",
       "      <td>41.50</td>\n",
       "      <td>0.0</td>\n",
       "      <td>0.0</td>\n",
       "      <td>0.0</td>\n",
       "      <td>Very High</td>\n",
       "      <td>197</td>\n",
       "      <td>1790.1</td>\n",
       "      <td>5.38</td>\n",
       "    </tr>\n",
       "    <tr>\n",
       "      <th>61</th>\n",
       "      <td>هفت چنار</td>\n",
       "      <td>10</td>\n",
       "      <td>1.715633e+07</td>\n",
       "      <td>5.119048e+07</td>\n",
       "      <td>34034142</td>\n",
       "      <td>1.98</td>\n",
       "      <td>0.63</td>\n",
       "      <td>0.0</td>\n",
       "      <td>4.34</td>\n",
       "      <td>-35.7</td>\n",
       "      <td>38.9</td>\n",
       "      <td>12.6</td>\n",
       "      <td>Medium</td>\n",
       "      <td>354</td>\n",
       "      <td>641.6</td>\n",
       "      <td>9.66</td>\n",
       "    </tr>\n",
       "  </tbody>\n",
       "</table>\n",
       "<p>62 rows × 16 columns</p>\n",
       "</div>"
      ],
      "text/plain": [
       "           District  District Code  Price/Meter_2021  Price/Meter_2023  \\\n",
       "0             اباذر              5      3.983984e+07      9.743118e+07   \n",
       "1        ابن بابویه             20      1.497126e+07      4.615385e+07   \n",
       "2             استخر             20      2.600000e+07      6.779661e+07   \n",
       "3   امامزاده حسن(ع)             17      1.481481e+07      4.305710e+07   \n",
       "4            امیریه             11      1.604409e+07      4.571429e+07   \n",
       "..              ...            ...               ...               ...   \n",
       "57             نواب             10      1.516808e+07      4.384615e+07   \n",
       "58           نیلوفر              7      4.857740e+07      1.184167e+08   \n",
       "59        هاشم‌آباد             15      1.247642e+07      3.573214e+07   \n",
       "60          هزارسنگ              1      5.340909e+07      1.566952e+08   \n",
       "61         هفت چنار             10      1.715633e+07      5.119048e+07   \n",
       "\n",
       "    Price/Meter_Diff  Price/Meter_Growth  Price/Meter_TotalMedian  Room_Diff  \\\n",
       "0           57591344                1.45                     1.07        0.0   \n",
       "1           31182582                2.08                     0.58        0.0   \n",
       "2           41796610                1.61                     0.77        0.0   \n",
       "3           28242286                1.91                     0.52        1.0   \n",
       "4           29670197                1.85                     0.55        0.0   \n",
       "..               ...                 ...                      ...        ...   \n",
       "57          28678075                1.89                     0.53        0.0   \n",
       "58          69839266                1.44                     1.29        1.0   \n",
       "59          23255728                1.86                     0.43        0.0   \n",
       "60         103286066                1.93                     1.91        0.5   \n",
       "61          34034142                1.98                     0.63        0.0   \n",
       "\n",
       "    Area_Diff  Warehouse%_Diff  Elevator%_Diff  Parking%_Diff Price_Category  \\\n",
       "0       16.72             -8.8             9.0            3.0      Very High   \n",
       "1       22.40             40.8            56.2           37.0         Medium   \n",
       "2        0.72             -3.7            18.9           16.6           High   \n",
       "3        4.88             -2.8             6.4           11.1       Very Low   \n",
       "4        5.81            -42.5            39.4            5.7         Medium   \n",
       "..        ...              ...             ...            ...            ...   \n",
       "57       6.78            -29.4            38.9            6.9       Very Low   \n",
       "58      17.57             12.0            14.0            6.6      Very High   \n",
       "59       4.84              3.1            -7.9            5.3       Very Low   \n",
       "60      41.50              0.0             0.0            0.0      Very High   \n",
       "61       4.34            -35.7            38.9           12.6         Medium   \n",
       "\n",
       "    Transaction Amount  Average Prive  Transaction Amount(%)  \n",
       "0                  512         1064.1                  13.97  \n",
       "1                   33          525.6                   0.90  \n",
       "2                   33          525.6                   0.90  \n",
       "3                   80          518.2                   2.18  \n",
       "4                  157          641.9                   4.28  \n",
       "..                 ...            ...                    ...  \n",
       "57                 354          641.6                   9.66  \n",
       "58                 222          865.1                   6.06  \n",
       "59                 182          507.5                   4.97  \n",
       "60                 197         1790.1                   5.38  \n",
       "61                 354          641.6                   9.66  \n",
       "\n",
       "[62 rows x 16 columns]"
      ]
     },
     "execution_count": 103,
     "metadata": {},
     "output_type": "execute_result"
    }
   ],
   "source": [
    "DivarTehran_Data = pd.merge(Tehrandf_60 , Tehran_SalesTraction , how='inner' , left_on='District Code' , right_on='District Code')\n",
    "DivarTehran_Data"
   ]
  },
  {
   "cell_type": "code",
   "execution_count": 105,
   "metadata": {},
   "outputs": [],
   "source": [
    "DivarTehran_Data.to_excel('DivarTehran_Data.xlsx')"
   ]
  },
  {
   "cell_type": "code",
   "execution_count": 114,
   "metadata": {},
   "outputs": [
    {
     "data": {
      "application/vnd.plotly.v1+json": {
       "config": {
        "plotlyServerURL": "https://plot.ly"
       },
       "data": [
        {
         "marker": {
          "color": "#1f77b4"
         },
         "name": "(درصد رشد قیمت (نسبت به سال2021",
         "type": "bar",
         "x": [
          "شهرک گلها",
          "سرخه حصار",
          "ائمه اطهار",
          "تهرانپارس شرقی",
          "تهران‌سر",
          "شهرک دریا",
          "پلیس",
          "آشتیانی",
          "زرکش",
          "حافظیه",
          "زنجان",
          "سازمان آب",
          "استخر",
          "کوی بیمه",
          "نبی اکرم(ص)",
          "تهرانپارس غربی",
          "جنت‌آباد شمالی"
         ],
         "xaxis": "x",
         "y": [
          6.38,
          2.24,
          1.82,
          1.74,
          1.71,
          1.69,
          1.68,
          1.65,
          1.64,
          1.63,
          1.62,
          1.62,
          1.61,
          1.59,
          1.58,
          1.51,
          1.44
         ],
         "yaxis": "y"
        },
        {
         "line": {
          "color": "#7e88c3",
          "dash": "dash"
         },
         "mode": "lines+markers",
         "name": "میزان خرید و فروش در منطقه(نسبت به کل مناطق)",
         "type": "scatter",
         "x": [
          "شهرک گلها",
          "سرخه حصار",
          "ائمه اطهار",
          "تهرانپارس شرقی",
          "تهران‌سر",
          "شهرک دریا",
          "پلیس",
          "آشتیانی",
          "زرکش",
          "حافظیه",
          "زنجان",
          "سازمان آب",
          "استخر",
          "کوی بیمه",
          "نبی اکرم(ص)",
          "تهرانپارس غربی",
          "جنت‌آباد شمالی"
         ],
         "xaxis": "x",
         "y": [
          5.38,
          3.41,
          5.62,
          7.75,
          1.5,
          1.5,
          7.75,
          3.41,
          6.11,
          3.41,
          9.66,
          13.97,
          0.9,
          13.97,
          5.62,
          7.75,
          13.97
         ],
         "yaxis": "y"
        },
        {
         "marker": {
          "color": "#ff7f0e"
         },
         "name": "(درصد رشد قیمت (نسبت به سال2021",
         "type": "bar",
         "x": [
          "شهرک پاسداران",
          "مرادآباد",
          "شهرک کوهسار",
          "هزارسنگ",
          "جهاد",
          "جنت‌آباد جنوبی",
          "شهرک نفت (منطقه ۵)",
          "پونک",
          "جنت‌آباد مرکزی",
          "گیشا (کوی نصر)",
          "کوی مهران",
          "اباذر",
          "نیلوفر",
          "شاهین",
          "شهرک نفت (منطقه ۱)"
         ],
         "xaxis": "x2",
         "y": [
          4.44,
          2.86,
          2.02,
          1.93,
          1.78,
          1.58,
          1.57,
          1.57,
          1.48,
          1.45,
          1.45,
          1.45,
          1.44,
          1.44,
          1.43
         ],
         "yaxis": "y2"
        },
        {
         "line": {
          "color": "#7e88c3",
          "dash": "dash"
         },
         "mode": "lines+markers",
         "name": "میزان خرید و فروش در منطقه(نسبت به کل مناطق)",
         "type": "scatter",
         "x": [
          "شهرک پاسداران",
          "مرادآباد",
          "شهرک کوهسار",
          "هزارسنگ",
          "جهاد",
          "جنت‌آباد جنوبی",
          "شهرک نفت (منطقه ۵)",
          "پونک",
          "جنت‌آباد مرکزی",
          "گیشا (کوی نصر)",
          "کوی مهران",
          "اباذر",
          "نیلوفر",
          "شاهین",
          "شهرک نفت (منطقه ۱)"
         ],
         "xaxis": "x2",
         "y": [
          1.5,
          13.97,
          13.97,
          5.38,
          4.26,
          13.97,
          13.97,
          13.97,
          13.97,
          8.13,
          13.97,
          13.97,
          6.06,
          13.97,
          5.38
         ],
         "yaxis": "y2"
        },
        {
         "marker": {
          "color": "#2ca02c"
         },
         "name": "(درصد رشد قیمت (نسبت به سال2021",
         "type": "bar",
         "x": [
          "حسن‌آباد",
          "شهرک امام خمینی",
          "ملک‌آباد",
          "بازار",
          "مولوی",
          "شهرک مسلمین",
          "امامزاده حسن(ع)",
          "نواب",
          "شهید رجایی",
          "هاشم‌آباد",
          "مبارک‌آباد بهشتی",
          "شهید بروجردی",
          "آذری",
          "شهرک کیانشهر",
          "فتح"
         ],
         "xaxis": "x3",
         "y": [
          3.12,
          2.3,
          2.24,
          2.12,
          2.08,
          2.01,
          1.91,
          1.89,
          1.86,
          1.86,
          1.84,
          1.83,
          1.83,
          1.82,
          1.8
         ],
         "yaxis": "y3"
        },
        {
         "line": {
          "color": "#7e88c3",
          "dash": "dash"
         },
         "mode": "lines+markers",
         "name": "میزان خرید و فروش در منطقه(نسبت به کل مناطق)",
         "type": "scatter",
         "x": [
          "حسن‌آباد",
          "شهرک امام خمینی",
          "ملک‌آباد",
          "بازار",
          "مولوی",
          "شهرک مسلمین",
          "امامزاده حسن(ع)",
          "نواب",
          "شهید رجایی",
          "هاشم‌آباد",
          "مبارک‌آباد بهشتی",
          "شهید بروجردی",
          "آذری",
          "شهرک کیانشهر",
          "فتح"
         ],
         "xaxis": "x3",
         "y": [
          4.28,
          9.66,
          0.9,
          2.02,
          2.02,
          2.13,
          2.18,
          9.66,
          1.17,
          4.97,
          6.06,
          5.62,
          2.18,
          4.97,
          2.95
         ],
         "yaxis": "y3"
        },
        {
         "marker": {
          "color": "#d62728"
         },
         "name": "(درصد رشد قیمت (نسبت به سال2021",
         "type": "bar",
         "x": [
          "شهرک فرهنگیان",
          "امین حضور",
          "ابن بابویه",
          "دلگشا",
          "سرتخت",
          "زاهد گیلانی",
          "سلامت",
          "هفت چنار",
          "جابری",
          "سلیمانی",
          "شهید آوینی",
          "سلسبیل",
          "خواجه نظام الملک",
          "امیریه",
          "بریانک"
         ],
         "xaxis": "x4",
         "y": [
          2.58,
          2.22,
          2.08,
          2.06,
          2.02,
          2.02,
          1.98,
          1.98,
          1.96,
          1.93,
          1.92,
          1.9,
          1.86,
          1.85,
          1.85
         ],
         "yaxis": "y4"
        },
        {
         "line": {
          "color": "#7e88c3",
          "dash": "dash"
         },
         "mode": "lines+markers",
         "name": "میزان خرید و فروش در منطقه(نسبت به کل مناطق)",
         "type": "scatter",
         "x": [
          "شهرک فرهنگیان",
          "امین حضور",
          "ابن بابویه",
          "دلگشا",
          "سرتخت",
          "زاهد گیلانی",
          "سلامت",
          "هفت چنار",
          "جابری",
          "سلیمانی",
          "شهید آوینی",
          "سلسبیل",
          "خواجه نظام الملک",
          "امیریه",
          "بریانک"
         ],
         "xaxis": "x4",
         "y": [
          1.5,
          2.02,
          0.9,
          5.62,
          0.9,
          3.41,
          4.28,
          9.66,
          5.62,
          9.66,
          0.9,
          9.66,
          6.06,
          4.28,
          9.66
         ],
         "yaxis": "y4"
        }
       ],
       "layout": {
        "annotations": [
         {
          "font": {
           "size": 16
          },
          "showarrow": false,
          "text": "High",
          "x": 0.5,
          "xanchor": "center",
          "xref": "paper",
          "y": 1,
          "yanchor": "bottom",
          "yref": "paper"
         },
         {
          "font": {
           "size": 16
          },
          "showarrow": false,
          "text": "Very High",
          "x": 0.5,
          "xanchor": "center",
          "xref": "paper",
          "y": 0.7,
          "yanchor": "bottom",
          "yref": "paper"
         },
         {
          "font": {
           "size": 16
          },
          "showarrow": false,
          "text": "Very Low",
          "x": 0.5,
          "xanchor": "center",
          "xref": "paper",
          "y": 0.39999999999999997,
          "yanchor": "bottom",
          "yref": "paper"
         },
         {
          "font": {
           "size": 16
          },
          "showarrow": false,
          "text": "Medium",
          "x": 0.5,
          "xanchor": "center",
          "xref": "paper",
          "y": 0.09999999999999998,
          "yanchor": "bottom",
          "yref": "paper"
         }
        ],
        "height": 1400,
        "showlegend": true,
        "template": {
         "data": {
          "bar": [
           {
            "error_x": {
             "color": "#2a3f5f"
            },
            "error_y": {
             "color": "#2a3f5f"
            },
            "marker": {
             "line": {
              "color": "#E5ECF6",
              "width": 0.5
             },
             "pattern": {
              "fillmode": "overlay",
              "size": 10,
              "solidity": 0.2
             }
            },
            "type": "bar"
           }
          ],
          "barpolar": [
           {
            "marker": {
             "line": {
              "color": "#E5ECF6",
              "width": 0.5
             },
             "pattern": {
              "fillmode": "overlay",
              "size": 10,
              "solidity": 0.2
             }
            },
            "type": "barpolar"
           }
          ],
          "carpet": [
           {
            "aaxis": {
             "endlinecolor": "#2a3f5f",
             "gridcolor": "white",
             "linecolor": "white",
             "minorgridcolor": "white",
             "startlinecolor": "#2a3f5f"
            },
            "baxis": {
             "endlinecolor": "#2a3f5f",
             "gridcolor": "white",
             "linecolor": "white",
             "minorgridcolor": "white",
             "startlinecolor": "#2a3f5f"
            },
            "type": "carpet"
           }
          ],
          "choropleth": [
           {
            "colorbar": {
             "outlinewidth": 0,
             "ticks": ""
            },
            "type": "choropleth"
           }
          ],
          "contour": [
           {
            "colorbar": {
             "outlinewidth": 0,
             "ticks": ""
            },
            "colorscale": [
             [
              0,
              "#0d0887"
             ],
             [
              0.1111111111111111,
              "#46039f"
             ],
             [
              0.2222222222222222,
              "#7201a8"
             ],
             [
              0.3333333333333333,
              "#9c179e"
             ],
             [
              0.4444444444444444,
              "#bd3786"
             ],
             [
              0.5555555555555556,
              "#d8576b"
             ],
             [
              0.6666666666666666,
              "#ed7953"
             ],
             [
              0.7777777777777778,
              "#fb9f3a"
             ],
             [
              0.8888888888888888,
              "#fdca26"
             ],
             [
              1,
              "#f0f921"
             ]
            ],
            "type": "contour"
           }
          ],
          "contourcarpet": [
           {
            "colorbar": {
             "outlinewidth": 0,
             "ticks": ""
            },
            "type": "contourcarpet"
           }
          ],
          "heatmap": [
           {
            "colorbar": {
             "outlinewidth": 0,
             "ticks": ""
            },
            "colorscale": [
             [
              0,
              "#0d0887"
             ],
             [
              0.1111111111111111,
              "#46039f"
             ],
             [
              0.2222222222222222,
              "#7201a8"
             ],
             [
              0.3333333333333333,
              "#9c179e"
             ],
             [
              0.4444444444444444,
              "#bd3786"
             ],
             [
              0.5555555555555556,
              "#d8576b"
             ],
             [
              0.6666666666666666,
              "#ed7953"
             ],
             [
              0.7777777777777778,
              "#fb9f3a"
             ],
             [
              0.8888888888888888,
              "#fdca26"
             ],
             [
              1,
              "#f0f921"
             ]
            ],
            "type": "heatmap"
           }
          ],
          "heatmapgl": [
           {
            "colorbar": {
             "outlinewidth": 0,
             "ticks": ""
            },
            "colorscale": [
             [
              0,
              "#0d0887"
             ],
             [
              0.1111111111111111,
              "#46039f"
             ],
             [
              0.2222222222222222,
              "#7201a8"
             ],
             [
              0.3333333333333333,
              "#9c179e"
             ],
             [
              0.4444444444444444,
              "#bd3786"
             ],
             [
              0.5555555555555556,
              "#d8576b"
             ],
             [
              0.6666666666666666,
              "#ed7953"
             ],
             [
              0.7777777777777778,
              "#fb9f3a"
             ],
             [
              0.8888888888888888,
              "#fdca26"
             ],
             [
              1,
              "#f0f921"
             ]
            ],
            "type": "heatmapgl"
           }
          ],
          "histogram": [
           {
            "marker": {
             "pattern": {
              "fillmode": "overlay",
              "size": 10,
              "solidity": 0.2
             }
            },
            "type": "histogram"
           }
          ],
          "histogram2d": [
           {
            "colorbar": {
             "outlinewidth": 0,
             "ticks": ""
            },
            "colorscale": [
             [
              0,
              "#0d0887"
             ],
             [
              0.1111111111111111,
              "#46039f"
             ],
             [
              0.2222222222222222,
              "#7201a8"
             ],
             [
              0.3333333333333333,
              "#9c179e"
             ],
             [
              0.4444444444444444,
              "#bd3786"
             ],
             [
              0.5555555555555556,
              "#d8576b"
             ],
             [
              0.6666666666666666,
              "#ed7953"
             ],
             [
              0.7777777777777778,
              "#fb9f3a"
             ],
             [
              0.8888888888888888,
              "#fdca26"
             ],
             [
              1,
              "#f0f921"
             ]
            ],
            "type": "histogram2d"
           }
          ],
          "histogram2dcontour": [
           {
            "colorbar": {
             "outlinewidth": 0,
             "ticks": ""
            },
            "colorscale": [
             [
              0,
              "#0d0887"
             ],
             [
              0.1111111111111111,
              "#46039f"
             ],
             [
              0.2222222222222222,
              "#7201a8"
             ],
             [
              0.3333333333333333,
              "#9c179e"
             ],
             [
              0.4444444444444444,
              "#bd3786"
             ],
             [
              0.5555555555555556,
              "#d8576b"
             ],
             [
              0.6666666666666666,
              "#ed7953"
             ],
             [
              0.7777777777777778,
              "#fb9f3a"
             ],
             [
              0.8888888888888888,
              "#fdca26"
             ],
             [
              1,
              "#f0f921"
             ]
            ],
            "type": "histogram2dcontour"
           }
          ],
          "mesh3d": [
           {
            "colorbar": {
             "outlinewidth": 0,
             "ticks": ""
            },
            "type": "mesh3d"
           }
          ],
          "parcoords": [
           {
            "line": {
             "colorbar": {
              "outlinewidth": 0,
              "ticks": ""
             }
            },
            "type": "parcoords"
           }
          ],
          "pie": [
           {
            "automargin": true,
            "type": "pie"
           }
          ],
          "scatter": [
           {
            "fillpattern": {
             "fillmode": "overlay",
             "size": 10,
             "solidity": 0.2
            },
            "type": "scatter"
           }
          ],
          "scatter3d": [
           {
            "line": {
             "colorbar": {
              "outlinewidth": 0,
              "ticks": ""
             }
            },
            "marker": {
             "colorbar": {
              "outlinewidth": 0,
              "ticks": ""
             }
            },
            "type": "scatter3d"
           }
          ],
          "scattercarpet": [
           {
            "marker": {
             "colorbar": {
              "outlinewidth": 0,
              "ticks": ""
             }
            },
            "type": "scattercarpet"
           }
          ],
          "scattergeo": [
           {
            "marker": {
             "colorbar": {
              "outlinewidth": 0,
              "ticks": ""
             }
            },
            "type": "scattergeo"
           }
          ],
          "scattergl": [
           {
            "marker": {
             "colorbar": {
              "outlinewidth": 0,
              "ticks": ""
             }
            },
            "type": "scattergl"
           }
          ],
          "scattermapbox": [
           {
            "marker": {
             "colorbar": {
              "outlinewidth": 0,
              "ticks": ""
             }
            },
            "type": "scattermapbox"
           }
          ],
          "scatterpolar": [
           {
            "marker": {
             "colorbar": {
              "outlinewidth": 0,
              "ticks": ""
             }
            },
            "type": "scatterpolar"
           }
          ],
          "scatterpolargl": [
           {
            "marker": {
             "colorbar": {
              "outlinewidth": 0,
              "ticks": ""
             }
            },
            "type": "scatterpolargl"
           }
          ],
          "scatterternary": [
           {
            "marker": {
             "colorbar": {
              "outlinewidth": 0,
              "ticks": ""
             }
            },
            "type": "scatterternary"
           }
          ],
          "surface": [
           {
            "colorbar": {
             "outlinewidth": 0,
             "ticks": ""
            },
            "colorscale": [
             [
              0,
              "#0d0887"
             ],
             [
              0.1111111111111111,
              "#46039f"
             ],
             [
              0.2222222222222222,
              "#7201a8"
             ],
             [
              0.3333333333333333,
              "#9c179e"
             ],
             [
              0.4444444444444444,
              "#bd3786"
             ],
             [
              0.5555555555555556,
              "#d8576b"
             ],
             [
              0.6666666666666666,
              "#ed7953"
             ],
             [
              0.7777777777777778,
              "#fb9f3a"
             ],
             [
              0.8888888888888888,
              "#fdca26"
             ],
             [
              1,
              "#f0f921"
             ]
            ],
            "type": "surface"
           }
          ],
          "table": [
           {
            "cells": {
             "fill": {
              "color": "#EBF0F8"
             },
             "line": {
              "color": "white"
             }
            },
            "header": {
             "fill": {
              "color": "#C8D4E3"
             },
             "line": {
              "color": "white"
             }
            },
            "type": "table"
           }
          ]
         },
         "layout": {
          "annotationdefaults": {
           "arrowcolor": "#2a3f5f",
           "arrowhead": 0,
           "arrowwidth": 1
          },
          "autotypenumbers": "strict",
          "coloraxis": {
           "colorbar": {
            "outlinewidth": 0,
            "ticks": ""
           }
          },
          "colorscale": {
           "diverging": [
            [
             0,
             "#8e0152"
            ],
            [
             0.1,
             "#c51b7d"
            ],
            [
             0.2,
             "#de77ae"
            ],
            [
             0.3,
             "#f1b6da"
            ],
            [
             0.4,
             "#fde0ef"
            ],
            [
             0.5,
             "#f7f7f7"
            ],
            [
             0.6,
             "#e6f5d0"
            ],
            [
             0.7,
             "#b8e186"
            ],
            [
             0.8,
             "#7fbc41"
            ],
            [
             0.9,
             "#4d9221"
            ],
            [
             1,
             "#276419"
            ]
           ],
           "sequential": [
            [
             0,
             "#0d0887"
            ],
            [
             0.1111111111111111,
             "#46039f"
            ],
            [
             0.2222222222222222,
             "#7201a8"
            ],
            [
             0.3333333333333333,
             "#9c179e"
            ],
            [
             0.4444444444444444,
             "#bd3786"
            ],
            [
             0.5555555555555556,
             "#d8576b"
            ],
            [
             0.6666666666666666,
             "#ed7953"
            ],
            [
             0.7777777777777778,
             "#fb9f3a"
            ],
            [
             0.8888888888888888,
             "#fdca26"
            ],
            [
             1,
             "#f0f921"
            ]
           ],
           "sequentialminus": [
            [
             0,
             "#0d0887"
            ],
            [
             0.1111111111111111,
             "#46039f"
            ],
            [
             0.2222222222222222,
             "#7201a8"
            ],
            [
             0.3333333333333333,
             "#9c179e"
            ],
            [
             0.4444444444444444,
             "#bd3786"
            ],
            [
             0.5555555555555556,
             "#d8576b"
            ],
            [
             0.6666666666666666,
             "#ed7953"
            ],
            [
             0.7777777777777778,
             "#fb9f3a"
            ],
            [
             0.8888888888888888,
             "#fdca26"
            ],
            [
             1,
             "#f0f921"
            ]
           ]
          },
          "colorway": [
           "#636efa",
           "#EF553B",
           "#00cc96",
           "#ab63fa",
           "#FFA15A",
           "#19d3f3",
           "#FF6692",
           "#B6E880",
           "#FF97FF",
           "#FECB52"
          ],
          "font": {
           "color": "#2a3f5f"
          },
          "geo": {
           "bgcolor": "white",
           "lakecolor": "white",
           "landcolor": "#E5ECF6",
           "showlakes": true,
           "showland": true,
           "subunitcolor": "white"
          },
          "hoverlabel": {
           "align": "left"
          },
          "hovermode": "closest",
          "mapbox": {
           "style": "light"
          },
          "paper_bgcolor": "white",
          "plot_bgcolor": "#E5ECF6",
          "polar": {
           "angularaxis": {
            "gridcolor": "white",
            "linecolor": "white",
            "ticks": ""
           },
           "bgcolor": "#E5ECF6",
           "radialaxis": {
            "gridcolor": "white",
            "linecolor": "white",
            "ticks": ""
           }
          },
          "scene": {
           "xaxis": {
            "backgroundcolor": "#E5ECF6",
            "gridcolor": "white",
            "gridwidth": 2,
            "linecolor": "white",
            "showbackground": true,
            "ticks": "",
            "zerolinecolor": "white"
           },
           "yaxis": {
            "backgroundcolor": "#E5ECF6",
            "gridcolor": "white",
            "gridwidth": 2,
            "linecolor": "white",
            "showbackground": true,
            "ticks": "",
            "zerolinecolor": "white"
           },
           "zaxis": {
            "backgroundcolor": "#E5ECF6",
            "gridcolor": "white",
            "gridwidth": 2,
            "linecolor": "white",
            "showbackground": true,
            "ticks": "",
            "zerolinecolor": "white"
           }
          },
          "shapedefaults": {
           "line": {
            "color": "#2a3f5f"
           }
          },
          "ternary": {
           "aaxis": {
            "gridcolor": "white",
            "linecolor": "white",
            "ticks": ""
           },
           "baxis": {
            "gridcolor": "white",
            "linecolor": "white",
            "ticks": ""
           },
           "bgcolor": "#E5ECF6",
           "caxis": {
            "gridcolor": "white",
            "linecolor": "white",
            "ticks": ""
           }
          },
          "title": {
           "x": 0.05
          },
          "xaxis": {
           "automargin": true,
           "gridcolor": "white",
           "linecolor": "white",
           "ticks": "",
           "title": {
            "standoff": 15
           },
           "zerolinecolor": "white",
           "zerolinewidth": 2
          },
          "yaxis": {
           "automargin": true,
           "gridcolor": "white",
           "linecolor": "white",
           "ticks": "",
           "title": {
            "standoff": 15
           },
           "zerolinecolor": "white",
           "zerolinewidth": 2
          }
         }
        },
        "title": {
         "text": "Top 15 Districts by Price Category (2021 vs 2023)"
        },
        "width": 1000,
        "xaxis": {
         "anchor": "y",
         "domain": [
          0,
          1
         ],
         "tickfont": {
          "size": 15
         }
        },
        "xaxis2": {
         "anchor": "y2",
         "domain": [
          0,
          1
         ],
         "tickfont": {
          "size": 15
         }
        },
        "xaxis3": {
         "anchor": "y3",
         "domain": [
          0,
          1
         ],
         "tickfont": {
          "size": 15
         }
        },
        "xaxis4": {
         "anchor": "y4",
         "domain": [
          0,
          1
         ],
         "tickfont": {
          "size": 15
         }
        },
        "yaxis": {
         "anchor": "x",
         "domain": [
          0.9,
          1
         ]
        },
        "yaxis2": {
         "anchor": "x2",
         "domain": [
          0.6,
          0.7
         ]
        },
        "yaxis3": {
         "anchor": "x3",
         "domain": [
          0.3,
          0.39999999999999997
         ]
        },
        "yaxis4": {
         "anchor": "x4",
         "domain": [
          0,
          0.09999999999999998
         ]
        }
       }
      }
     },
     "metadata": {},
     "output_type": "display_data"
    }
   ],
   "source": [
    "DivarTehran_Data = DivarTehran_Data.sort_values(by='Price/Meter_Growth',ascending=False)\n",
    "price_categories = DivarTehran_Data['Price_Category'].unique()\n",
    "\n",
    "# Create the subplots with 1 column and 4 rows\n",
    "fig = sp.make_subplots(rows=4, cols=1, subplot_titles=price_categories,\n",
    "                       vertical_spacing=0.2)\n",
    "\n",
    "# Color palette for each plot\n",
    "colors = ['#1f77b4', '#ff7f0e', '#2ca02c', '#d62728']\n",
    "\n",
    "# Iterate through the price categories and plot the data\n",
    "for i, category in enumerate(price_categories):\n",
    "    row = i + 1\n",
    "    \n",
    "    # Filter top 15 districts for each price category\n",
    "    top_15 = DivarTehran_Data[DivarTehran_Data['Price_Category'] == category]\n",
    "    \n",
    "    # Adding the bar plots for Price/Meter_2021 and Price/Meter_2023\n",
    "    fig.add_trace(go.Bar(x=top_15['District'], y=top_15['Price/Meter_Growth'], name='(درصد رشد قیمت (نسبت به سال2021',\n",
    "                         marker_color=colors[i % len(colors)]), row=row, col=1)\n",
    "    \n",
    "    # Adding line plot for Price/Meter_Growth\n",
    "    fig.add_trace(go.Scatter(x=top_15['District'], y=top_15['Transaction Amount(%)'], mode='lines+markers',\n",
    "                             name='میزان خرید و فروش در منطقه(نسبت به کل مناطق)', line=dict(color='#7e88c3', dash='dash')), row=row, col=1)\n",
    "\n",
    "# Update layout to adjust plot size, title, and legend\n",
    "fig.update_layout(height=1400, width=1000, title_text=\"Top 15 Districts by Price Category (2021 vs 2023)\",\n",
    "                  showlegend=True)\n",
    "fig.update_xaxes(tickfont=dict(size=15))\n",
    "\n",
    "# Show the plot\n",
    "fig.show()\n"
   ]
  },
  {
   "cell_type": "markdown",
   "metadata": {},
   "source": [
    "**توصیه میشود که در مناطق خانه خریداری شود که هم رشد قیمتی بالایی نسبت به سال 2021 دارند و هم درگیر رکود خرید و فروش نیستند \n",
    "مثلا با بودجه بسیار بالا بهتر است                                        در                                                                                                                                                       \n",
    " 1.مرادآباد                                                                           \n",
    " 2. شهرک کوهسار\n",
    "3.جنت آباد                                                                                                                                                                        \n",
    " 4. شهرک مفت و پونک خریداری شود**                                                                 "
   ]
  },
  {
   "cell_type": "code",
   "execution_count": null,
   "metadata": {},
   "outputs": [],
   "source": []
  }
 ],
 "metadata": {
  "kernelspec": {
   "display_name": "base",
   "language": "python",
   "name": "python3"
  },
  "language_info": {
   "codemirror_mode": {
    "name": "ipython",
    "version": 3
   },
   "file_extension": ".py",
   "mimetype": "text/x-python",
   "name": "python",
   "nbconvert_exporter": "python",
   "pygments_lexer": "ipython3",
   "version": "3.12.4"
  }
 },
 "nbformat": 4,
 "nbformat_minor": 2
}
